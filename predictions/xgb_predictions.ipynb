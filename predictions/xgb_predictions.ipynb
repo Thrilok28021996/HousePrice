{
 "cells": [
  {
   "cell_type": "code",
   "execution_count": null,
   "metadata": {},
   "outputs": [],
   "source": [
    "import numpy as np\n",
    "from xgboost import XGBRegressor\n",
    "from sklearn.metrics import mean_absolute_percentage_error as MAPE\n",
    "from sklearn.preprocessing import LabelEncoder\n",
    "import pickle"
   ]
  },
  {
   "cell_type": "code",
   "execution_count": null,
   "metadata": {},
   "outputs": [],
   "source": [
    "path = \"/home/pydev/Music/work_files/latest_broko_code\"\n",
    "data = pd.DataFrame(path + )"
   ]
  },
  {
   "cell_type": "code",
   "execution_count": null,
   "metadata": {},
   "outputs": [],
   "source": [
    "categorical_features = [\n",
    "    column for column, dtype in data.dtypes.items() if dtype == object\n",
    "]\n",
    "print(categorical_features)\n",
    "label_encoders = {}\n",
    "for feature in categorical_features:\n",
    "    le = LabelEncoder()\n",
    "    data[feature] = le.fit_transform(data[feature])\n",
    "    label_encoders[feature] = le\n",
    "\n",
    "# To Load the model\n",
    "pickled_model = pickle.load(open(path + \"/models/xgb/.pkl\", \"rb\"))\n",
    "\n",
    "# Make a prediction\n",
    "predicted_price = pickled_model.predict(data)\n",
    "\n",
    "\n",
    "print(f\"Predicted Price: {predicted_price}\")\n"
   ]
  }
 ],
 "metadata": {
  "language_info": {
   "name": "python"
  },
  "orig_nbformat": 4
 },
 "nbformat": 4,
 "nbformat_minor": 2
}
