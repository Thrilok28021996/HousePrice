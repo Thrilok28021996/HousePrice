{
 "cells": [
  {
   "cell_type": "code",
   "execution_count": null,
   "metadata": {},
   "outputs": [],
   "source": [
    "from catboost import Pool\n",
    "import numpy as np\n",
    "from sklearn.model_selection import train_test_split\n",
    "import pandas as pd\n",
    "import catboost\n",
    "from catboost.utils import eval_metric\n",
    "import pickle"
   ]
  },
  {
   "cell_type": "code",
   "execution_count": null,
   "metadata": {},
   "outputs": [],
   "source": [
    "path = \"/home/pydev/Music/work_files/latest_broko_code\"\n",
    "data = pd.read_csv(path  + \"/Dataset/ML_CLEAN_DATA__Bdv2.4_RES.csv\")\n",
    "data.info(verbose=True,show_counts=True)"
   ]
  },
  {
   "cell_type": "code",
   "execution_count": null,
   "metadata": {},
   "outputs": [],
   "source": [
    "categorical_features = [\n",
    "    column for column, dtype in data.dtypes.items() if dtype == object\n",
    "]\n",
    "print(categorical_features)\n",
    "data[categorical_features] = data[categorical_features].astype(\"category\")\n",
    "\n",
    "# To Load the model\n",
    "pickled_model = pickle.load(open(path + \"/models/catboost/.pkl\", \"rb\"))\n",
    "\n",
    "# Make a prediction\n",
    "predicted_price = pickled_model.predict(data)\n",
    "\n",
    "\n",
    "print(f\"Predicted Price: {predicted_price}\")"
   ]
  },
  {
   "cell_type": "code",
   "execution_count": null,
   "metadata": {},
   "outputs": [],
   "source": [
    "# predictions = X_test\n",
    "# predictions['ML_Number'] = df['ML_Number']\n",
    "# predictions['Month_Year'] = df[\"Month_Year\"]\n",
    "# predictions['HPI_for_Month'] = df[\"HPI_for_Month\"]\n",
    "# predictions['Sold_Price'] = df['Sold_Price']\n",
    "# predictions['HPI_Sold_Price'] = df['HPI_Sold_Price']\n",
    "# predictions['Predicted_HPI_Price']  = y_pred.astype(int)\n",
    "# predictions['Diff']  = abs(predictions['HPI_Sold_Price'] - predictions['Predicted_HPI_Price']).astype(int)\n",
    "# predictions['Accuracy'] = (abs(1 - (abs(predictions['HPI_Sold_Price'] - predictions['Predicted_HPI_Price']))/predictions['HPI_Sold_Price']) * 100).astype(int)\n",
    "# predictions"
   ]
  },
  {
   "cell_type": "code",
   "execution_count": null,
   "metadata": {},
   "outputs": [],
   "source": [
    "# # save the dataframe as a csv file\n",
    "# predictions.to_csv(path + \"/Dataset/new_Preds_res_cbv2.4Wasaga Beach.csv\",index=False)"
   ]
  },
  {
   "cell_type": "code",
   "execution_count": null,
   "metadata": {},
   "outputs": [],
   "source": []
  }
 ],
 "metadata": {
  "language_info": {
   "name": "python"
  },
  "orig_nbformat": 4
 },
 "nbformat": 4,
 "nbformat_minor": 2
}
