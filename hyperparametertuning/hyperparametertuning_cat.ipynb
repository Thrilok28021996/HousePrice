{
 "cells": [
  {
   "cell_type": "code",
   "execution_count": 36,
   "metadata": {},
   "outputs": [],
   "source": [
    "from sklearn.model_selection import train_test_split\n",
    "import pandas as pd\n",
    "from catboost import CatBoostRegressor,Pool\n",
    "from catboost.utils import eval_metric\n",
    "import optuna\n",
    "from optuna.samplers import TPESampler\n",
    "from hyperopt import tpe, hp, fmin\n",
    "\n",
    "import warnings\n",
    "warnings.filterwarnings('ignore')"
   ]
  },
  {
   "cell_type": "markdown",
   "metadata": {},
   "source": [
    "https://towardsdatascience.com/state-of-the-art-machine-learning-hyperparameter-optimization-with-optuna-a315d8564de1\n",
    "\n",
    "https://towardsdatascience.com/automate-hyperparameter-tuning-with-hyperopts-for-multiple-models-22b499298a8a\n",
    "\n",
    "https://stephenallwright.com/rmse-vs-mape/\n"
   ]
  },
  {
   "cell_type": "code",
   "execution_count": 37,
   "metadata": {},
   "outputs": [
    {
     "name": "stdout",
     "output_type": "stream",
     "text": [
      "<class 'pandas.core.frame.DataFrame'>\n",
      "RangeIndex: 177234 entries, 0 to 177233\n",
      "Data columns (total 22 columns):\n",
      " #   Column          Non-Null Count   Dtype  \n",
      "---  ------          --------------   -----  \n",
      " 0   ML_Number       177234 non-null  object \n",
      " 1   Postal_Code     177104 non-null  object \n",
      " 2   Postal_Short    177104 non-null  object \n",
      " 3   Style           177234 non-null  object \n",
      " 4   Type            177234 non-null  object \n",
      " 5   Cluster         177234 non-null  object \n",
      " 6   List_Price      177228 non-null  float64\n",
      " 7   Cluster_Price   177234 non-null  float64\n",
      " 8   Taxes           177213 non-null  float64\n",
      " 9   Cluster_Tax     177234 non-null  float64\n",
      " 10  Bedrooms        177234 non-null  int64  \n",
      " 11  Washrooms       177234 non-null  int64  \n",
      " 12  Basement1       177234 non-null  object \n",
      " 13  Days_On_Market  177234 non-null  int64  \n",
      " 14  Exterior1       176279 non-null  object \n",
      " 15  Garage_Type     149607 non-null  object \n",
      " 16  lat             177220 non-null  float64\n",
      " 17  lng             177220 non-null  float64\n",
      " 18  Sold_Price      177233 non-null  float64\n",
      " 19  HPI_Sold_Price  177234 non-null  float64\n",
      " 20  Month_Year      177234 non-null  object \n",
      " 21  HPI_for_Month   177234 non-null  float64\n",
      "dtypes: float64(9), int64(3), object(10)\n",
      "memory usage: 29.7+ MB\n"
     ]
    }
   ],
   "source": [
    "path = \"/home/pydev/Music/work_files/latest_broko_code\"\n",
    "df = pd.read_csv(path  + \"/Dataset/ML_CLEAN_DATA__Bdv2.2_RES.csv\")\n",
    "df.info(verbose=True,show_counts=True)"
   ]
  },
  {
   "cell_type": "code",
   "execution_count": 38,
   "metadata": {},
   "outputs": [
    {
     "data": {
      "text/plain": [
       "Postal_Short        130\n",
       "Style                 0\n",
       "Type                  0\n",
       "Cluster               0\n",
       "List_Price            6\n",
       "Cluster_Price         0\n",
       "Taxes                21\n",
       "Cluster_Tax           0\n",
       "Bedrooms              0\n",
       "Washrooms             0\n",
       "Basement1             0\n",
       "Days_On_Market        0\n",
       "Exterior1           955\n",
       "Garage_Type       27627\n",
       "lat                  14\n",
       "lng                  14\n",
       "HPI_Sold_Price        0\n",
       "dtype: int64"
      ]
     },
     "execution_count": 38,
     "metadata": {},
     "output_type": "execute_result"
    }
   ],
   "source": [
    "# drop_cols = ['ML_Number','Sold_Date',\"Address\",\"Area\",\"Postal_Code\",\"Water_Included\",\"Air_Conditioning\",\"Exterior1\",\"Rooms\",\"Tax_Year\",\"Water_Included\",\"property_type\",\"Sold_Price\",\"Month Year\",\"HPI for Month\" ]\n",
    "drop_cols = [\"ML_Number\",\"Postal_Code\",\"Sold_Price\",\"Month_Year\",\"HPI_for_Month\"]\n",
    "df = df.drop(drop_cols, axis=1)\n",
    "df.isnull().sum()"
   ]
  },
  {
   "cell_type": "code",
   "execution_count": 39,
   "metadata": {},
   "outputs": [],
   "source": [
    "data = df.dropna(axis = 0, how ='any') "
   ]
  },
  {
   "cell_type": "code",
   "execution_count": 40,
   "metadata": {},
   "outputs": [],
   "source": [
    "q1 = data['HPI_Sold_Price'].quantile(0.25)\n",
    "q3 = data['HPI_Sold_Price'].quantile(0.75)\n",
    "iqr = q3 - q1\n",
    "lower_bound = q1 - 1.5 * iqr\n",
    "upper_bound = q3 + 1.5 * iqr\n",
    "lower_bound_outliers = data[data['HPI_Sold_Price'] < lower_bound] \n",
    "upper_bound_outliers = data[data['HPI_Sold_Price'] > upper_bound]\n",
    "# lower_bound_outliers.to_csv(path + '/Dataset/lower_bound_outliers.csv')\n",
    "# upper_bound_outliers.to_csv(path +'/Dataset/upper_bound_outliers.csv')    \n",
    "dataset = data[(data['HPI_Sold_Price'] >= lower_bound) & (data['HPI_Sold_Price'] <= upper_bound)]"
   ]
  },
  {
   "cell_type": "code",
   "execution_count": 41,
   "metadata": {},
   "outputs": [
    {
     "data": {
      "text/plain": [
       "Postal_Short      0\n",
       "Style             0\n",
       "Type              0\n",
       "Cluster           0\n",
       "List_Price        0\n",
       "Cluster_Price     0\n",
       "Taxes             0\n",
       "Cluster_Tax       0\n",
       "Bedrooms          0\n",
       "Washrooms         0\n",
       "Basement1         0\n",
       "Days_On_Market    0\n",
       "Exterior1         0\n",
       "Garage_Type       0\n",
       "lat               0\n",
       "lng               0\n",
       "HPI_Sold_Price    0\n",
       "dtype: int64"
      ]
     },
     "execution_count": 41,
     "metadata": {},
     "output_type": "execute_result"
    }
   ],
   "source": [
    "dataset.isnull().sum()"
   ]
  },
  {
   "cell_type": "code",
   "execution_count": 42,
   "metadata": {},
   "outputs": [
    {
     "name": "stdout",
     "output_type": "stream",
     "text": [
      "<class 'pandas.core.frame.DataFrame'>\n",
      "Index: 140676 entries, 1 to 177232\n",
      "Data columns (total 17 columns):\n",
      " #   Column          Non-Null Count   Dtype  \n",
      "---  ------          --------------   -----  \n",
      " 0   Postal_Short    140676 non-null  object \n",
      " 1   Style           140676 non-null  object \n",
      " 2   Type            140676 non-null  object \n",
      " 3   Cluster         140676 non-null  object \n",
      " 4   List_Price      140676 non-null  float64\n",
      " 5   Cluster_Price   140676 non-null  float64\n",
      " 6   Taxes           140676 non-null  float64\n",
      " 7   Cluster_Tax     140676 non-null  float64\n",
      " 8   Bedrooms        140676 non-null  int64  \n",
      " 9   Washrooms       140676 non-null  int64  \n",
      " 10  Basement1       140676 non-null  object \n",
      " 11  Days_On_Market  140676 non-null  int64  \n",
      " 12  Exterior1       140676 non-null  object \n",
      " 13  Garage_Type     140676 non-null  object \n",
      " 14  lat             140676 non-null  float64\n",
      " 15  lng             140676 non-null  float64\n",
      " 16  HPI_Sold_Price  140676 non-null  float64\n",
      "dtypes: float64(7), int64(3), object(7)\n",
      "memory usage: 19.3+ MB\n"
     ]
    }
   ],
   "source": [
    "dataset.info(verbose=True,show_counts=True)"
   ]
  },
  {
   "cell_type": "code",
   "execution_count": 43,
   "metadata": {},
   "outputs": [],
   "source": [
    "X = dataset.drop('HPI_Sold_Price',axis=1)\n",
    "y = dataset['HPI_Sold_Price']"
   ]
  },
  {
   "cell_type": "code",
   "execution_count": 44,
   "metadata": {},
   "outputs": [],
   "source": [
    "# numeric features\n",
    "\n",
    "numeric_features = [column for column, dtype in X.dtypes.items() if dtype == float or dtype == int]\n",
    "\n",
    "# categorical features\n",
    "categorical_features = [column for column, dtype in X.dtypes.items() if dtype==object]\n",
    "\n",
    "# for c in categorical_features:\n",
    "#     X[c].fillna('nan', inplace=True)\n",
    "#     X[c].fillna('nan', inplace=True)\n",
    "\n",
    "\n",
    "X_train, X_test, y_train, y_test = train_test_split(X,y, test_size=0.2, random_state=42)\n",
    "X_train, X_valid, y_train, y_valid = train_test_split(X_train,y_train, test_size=0.2, random_state=42)\n",
    "\n",
    "\n",
    "\n",
    "# numeric_train_pool = Pool(X_train[numeric_features], y_train)\n",
    "# numeric_val_pool = Pool(X_valid[numeric_features], y_valid)\n",
    "# numeric_test_pool = Pool(X_test[numeric_features], y_test)\n",
    "\n",
    "\n",
    "cat_train_pool = Pool(X_train, y_train, cat_features=categorical_features)\n",
    "cat_val_pool = Pool(X_valid, y_valid, cat_features=categorical_features)\n",
    "cat_test_pool = Pool(X_test, y_test, cat_features=categorical_features)"
   ]
  },
  {
   "cell_type": "code",
   "execution_count": 45,
   "metadata": {},
   "outputs": [],
   "source": [
    "def calc_test_quality(train_pool=cat_train_pool, val_pool=cat_val_pool, test_pool=cat_test_pool, **kwargs):\n",
    "    model = CatBoostRegressor(**kwargs, random_seed=42)\n",
    "    model.fit(train_pool, verbose=0, eval_set=val_pool)\n",
    "    y_pred = model.predict(test_pool)\n",
    "    return eval_metric(test_pool.get_label(), y_pred, 'MAPE')"
   ]
  },
  {
   "cell_type": "code",
   "execution_count": 46,
   "metadata": {},
   "outputs": [],
   "source": [
    "# def hyperopt_objective(params):\n",
    "#     print(params)\n",
    "#     model = catboost.CatBoostRegressor(**params, random_seed=42)\n",
    "#     model.fit(numeric_train_pool, verbose=0, eval_set=numeric_val_pool)\n",
    "#     y_pred = model.predict(numeric_val_pool)\n",
    "#     return -eval_metric(numeric_val_pool.get_label(), y_pred, 'MAPE')[0]\n",
    "\n",
    "# space = {\n",
    "#     'learning_rate': hp.uniform('learning_rate', 0.01, 0.1),\n",
    "#     'depth': hp.randint('depth', 3, 10),\n",
    "#     'l2_leaf_reg': hp.uniform('l2_leaf_reg', 1, 10),\n",
    "#     'boosting_type': hp.choice('boosting_type', ['Ordered', 'Plain']),\n",
    "# }\n",
    "\n",
    "# best = fmin(hyperopt_objective,\n",
    "#     space=space,\n",
    "#     algo=tpe.suggest,\n",
    "#     max_evals=20,\n",
    "#     rstate=np.random.default_rng(seed=123))\n"
   ]
  },
  {
   "cell_type": "code",
   "execution_count": 47,
   "metadata": {},
   "outputs": [],
   "source": [
    "# best_params = best.copy()\n",
    "# best_params['boosting_type'] = 'Plain' if best['boosting_type'] == 1 else 'Ordered'\n",
    "# calc_test_quality(**best_params), best_params"
   ]
  },
  {
   "cell_type": "code",
   "execution_count": 48,
   "metadata": {},
   "outputs": [],
   "source": [
    "# calc_test_quality(train_pool=cat_train_pool,val_pool=cat_val_pool,test_pool=cat_test_pool)"
   ]
  },
  {
   "cell_type": "markdown",
   "metadata": {},
   "source": [
    "Let's apply bayesian optimization approaches to a dataset with categorical features and numerical features"
   ]
  },
  {
   "cell_type": "code",
   "execution_count": 49,
   "metadata": {},
   "outputs": [],
   "source": [
    "\n",
    "# def objective(trial):\n",
    "#     params = {\n",
    "#         'learning_rate': trial.suggest_float('learning_rate', 0.000001, 0.01),\n",
    "#         'depth': trial.suggest_int('depth', 1, 10),\n",
    "#         'l2_leaf_reg': trial.suggest_float('l2_leaf_reg', 1, 14),\n",
    "#         'boosting_type': trial.suggest_categorical('boosting_type', ['Ordered', 'Plain']),\n",
    "#         'max_ctr_complexity': trial.suggest_int('max_ctr_complexity', 0, 14)\n",
    "#     }\n",
    "\n",
    "#     model = CatBoostRegressor(**params, random_seed=42, n_estimators=1000)\n",
    "#     model.fit(cat_train_pool, verbose=0, eval_set=cat_val_pool,early_stopping_rounds=10)\n",
    "#     y_pred = model.predict(cat_val_pool)\n",
    "#     return eval_metric(cat_val_pool.get_label(), y_pred, 'MAPE')\n",
    "\n",
    "# sampler = TPESampler(seed=123)\n",
    "# study = optuna.create_study(direction='minimize', sampler=sampler)\n",
    "# study.optimize(objective, n_trials=10,show_progress_bar = True)\n",
    "\n"
   ]
  },
  {
   "cell_type": "code",
   "execution_count": 62,
   "metadata": {},
   "outputs": [
    {
     "name": "stderr",
     "output_type": "stream",
     "text": [
      "[I 2023-09-11 13:07:06,306] A new study created in memory with name: no-name-083ca339-39b1-44b9-98d8-e5f48a8f6814\n"
     ]
    },
    {
     "data": {
      "application/vnd.jupyter.widget-view+json": {
       "model_id": "33bdb12ed77c4c39bfa6b6a4d3628f74",
       "version_major": 2,
       "version_minor": 0
      },
      "text/plain": [
       "  0%|          | 0/200 [00:00<?, ?it/s]"
      ]
     },
     "metadata": {},
     "output_type": "display_data"
    },
    {
     "name": "stdout",
     "output_type": "stream",
     "text": [
      "[I 2023-09-11 13:07:21,970] Trial 0 finished with value: 47.16771105516188 and parameters: {'learning_rate': 0.049712909978071915, 'depth': 3, 'subsample': 0.26550888088599295, 'colsample_bylevel': 0.5737490306287467, 'min_data_in_leaf': 72, 'l2_leaf_reg': 6.5003839816179925, 'boosting_type': 'Ordered', 'max_ctr_complexity': 7}. Best is trial 0 with value: 47.16771105516188.\n",
      "[I 2023-09-11 13:07:43,752] Trial 1 finished with value: 46.53083799106431 and parameters: {'learning_rate': 0.024667067270243252, 'depth': 4, 'subsample': 0.7425972220148396, 'colsample_bylevel': 0.46664363244564316, 'min_data_in_leaf': 6, 'l2_leaf_reg': 6.1745753192956085, 'boosting_type': 'Ordered', 'max_ctr_complexity': 2}. Best is trial 1 with value: 46.53083799106431.\n",
      "[I 2023-09-11 13:08:35,441] Trial 2 finished with value: 46.93025731462092 and parameters: {'learning_rate': 0.03400567296340426, 'depth': 6, 'subsample': 0.652680910623755, 'colsample_bylevel': 0.8569602043739001, 'min_data_in_leaf': 73, 'l2_leaf_reg': 8.943305638808578, 'boosting_type': 'Ordered', 'max_ctr_complexity': 5}. Best is trial 1 with value: 46.53083799106431.\n",
      "[I 2023-09-11 13:08:46,592] Trial 3 finished with value: 45.840608914659235 and parameters: {'learning_rate': 0.016914658379008102, 'depth': 3, 'subsample': 0.6494273176617634, 'colsample_bylevel': 0.13749969294782144, 'min_data_in_leaf': 44, 'l2_leaf_reg': 6.60121592328537, 'boosting_type': 'Ordered', 'max_ctr_complexity': 4}. Best is trial 3 with value: 45.840608914659235.\n",
      "[I 2023-09-11 13:09:40,825] Trial 4 finished with value: 47.26293598971406 and parameters: {'learning_rate': 0.026690167970539257, 'depth': 9, 'subsample': 0.9469520172936856, 'colsample_bylevel': 0.5267448420901197, 'min_data_in_leaf': 63, 'l2_leaf_reg': 2.5030391360308446, 'boosting_type': 'Plain', 'max_ctr_complexity': 12}. Best is trial 3 with value: 45.840608914659235.\n",
      "[I 2023-09-11 13:10:16,235] Trial 5 finished with value: 46.89725370836913 and parameters: {'learning_rate': 0.017801449451038228, 'depth': 5, 'subsample': 0.9862817963301698, 'colsample_bylevel': 0.5435108632968189, 'min_data_in_leaf': 62, 'l2_leaf_reg': 2.5681726578742086, 'boosting_type': 'Ordered', 'max_ctr_complexity': 8}. Best is trial 3 with value: 45.840608914659235.\n",
      "[I 2023-09-11 13:10:40,251] Trial 6 finished with value: 46.884639421850686 and parameters: {'learning_rate': 0.022017288530915554, 'depth': 4, 'subsample': 0.4461711004734665, 'colsample_bylevel': 0.6972357275031568, 'min_data_in_leaf': 88, 'l2_leaf_reg': 7.635490387214145, 'boosting_type': 'Ordered', 'max_ctr_complexity': 9}. Best is trial 3 with value: 45.840608914659235.\n",
      "[I 2023-09-11 13:12:37,337] Trial 7 finished with value: 46.94016893487904 and parameters: {'learning_rate': 0.04728126102675859, 'depth': 9, 'subsample': 0.12903523891581684, 'colsample_bylevel': 0.7754986993711713, 'min_data_in_leaf': 25, 'l2_leaf_reg': 3.5248984875240215, 'boosting_type': 'Ordered', 'max_ctr_complexity': 13}. Best is trial 3 with value: 45.840608914659235.\n",
      "[I 2023-09-11 13:13:13,813] Trial 8 finished with value: 46.663354119797965 and parameters: {'learning_rate': 0.04238859014351619, 'depth': 8, 'subsample': 0.06532274636026598, 'colsample_bylevel': 0.6147102854727904, 'min_data_in_leaf': 56, 'l2_leaf_reg': 3.0664753738813957, 'boosting_type': 'Plain', 'max_ctr_complexity': 4}. Best is trial 3 with value: 45.840608914659235.\n",
      "[I 2023-09-11 13:13:48,329] Trial 9 finished with value: 47.019093214434214 and parameters: {'learning_rate': 0.049200588277193105, 'depth': 6, 'subsample': 0.41950304541698735, 'colsample_bylevel': 0.9288758651332868, 'min_data_in_leaf': 85, 'l2_leaf_reg': 5.646168366881291, 'boosting_type': 'Plain', 'max_ctr_complexity': 5}. Best is trial 3 with value: 45.840608914659235.\n",
      "[I 2023-09-11 13:13:53,411] Trial 10 finished with value: 45.383746445605496 and parameters: {'learning_rate': 0.012135285565977256, 'depth': 1, 'subsample': 0.6210266946543851, 'colsample_bylevel': 0.05765808623381946, 'min_data_in_leaf': 33, 'l2_leaf_reg': 12.453729528087385, 'boosting_type': 'Plain', 'max_ctr_complexity': 2}. Best is trial 10 with value: 45.383746445605496.\n",
      "[I 2023-09-11 13:13:58,517] Trial 11 finished with value: 44.00700318293117 and parameters: {'learning_rate': 0.010640526300620326, 'depth': 1, 'subsample': 0.632083391731556, 'colsample_bylevel': 0.060696940485752145, 'min_data_in_leaf': 39, 'l2_leaf_reg': 12.52059320166678, 'boosting_type': 'Plain', 'max_ctr_complexity': 1}. Best is trial 11 with value: 44.00700318293117.\n",
      "[I 2023-09-11 13:14:03,524] Trial 12 finished with value: 43.851455241650186 and parameters: {'learning_rate': 0.010359177869729626, 'depth': 1, 'subsample': 0.5406095796574422, 'colsample_bylevel': 0.06527343919324818, 'min_data_in_leaf': 35, 'l2_leaf_reg': 13.301547212361076, 'boosting_type': 'Plain', 'max_ctr_complexity': 0}. Best is trial 12 with value: 43.851455241650186.\n",
      "[I 2023-09-11 13:14:08,788] Trial 13 finished with value: 45.121742871188644 and parameters: {'learning_rate': 0.010085040252121879, 'depth': 1, 'subsample': 0.4909476111535607, 'colsample_bylevel': 0.2640870976187105, 'min_data_in_leaf': 18, 'l2_leaf_reg': 13.312215817837489, 'boosting_type': 'Plain', 'max_ctr_complexity': 0}. Best is trial 12 with value: 43.851455241650186.\n",
      "[I 2023-09-11 13:14:14,403] Trial 14 finished with value: 45.1713274371716 and parameters: {'learning_rate': 0.013083378929481132, 'depth': 1, 'subsample': 0.7994277699673717, 'colsample_bylevel': 0.23031381416044755, 'min_data_in_leaf': 42, 'l2_leaf_reg': 13.96366220674868, 'boosting_type': 'Plain', 'max_ctr_complexity': 0}. Best is trial 12 with value: 43.851455241650186.\n",
      "[I 2023-09-11 13:14:19,720] Trial 15 finished with value: 43.52163895716846 and parameters: {'learning_rate': 0.011042261680023572, 'depth': 2, 'subsample': 0.3544502984588007, 'colsample_bylevel': 0.05632311538367657, 'min_data_in_leaf': 5, 'l2_leaf_reg': 11.274588403267988, 'boosting_type': 'Plain', 'max_ctr_complexity': 2}. Best is trial 15 with value: 43.52163895716846.\n",
      "[I 2023-09-11 13:14:29,745] Trial 16 finished with value: 47.04408221593234 and parameters: {'learning_rate': 0.07017444471509728, 'depth': 3, 'subsample': 0.36784662540165614, 'colsample_bylevel': 0.3707801497500344, 'min_data_in_leaf': 13, 'l2_leaf_reg': 10.905950712761653, 'boosting_type': 'Plain', 'max_ctr_complexity': 3}. Best is trial 15 with value: 43.52163895716846.\n",
      "[I 2023-09-11 13:14:36,170] Trial 17 finished with value: 45.89472450378457 and parameters: {'learning_rate': 0.014582538305246863, 'depth': 2, 'subsample': 0.32192673472009703, 'colsample_bylevel': 0.2012406455219269, 'min_data_in_leaf': 5, 'l2_leaf_reg': 10.817295405629746, 'boosting_type': 'Plain', 'max_ctr_complexity': 10}. Best is trial 15 with value: 43.52163895716846.\n",
      "[I 2023-09-11 13:14:59,919] Trial 18 finished with value: 46.229486512058514 and parameters: {'learning_rate': 0.010159769898038377, 'depth': 7, 'subsample': 0.5211316491185782, 'colsample_bylevel': 0.33151593299307075, 'min_data_in_leaf': 28, 'l2_leaf_reg': 10.857555787713764, 'boosting_type': 'Plain', 'max_ctr_complexity': 6}. Best is trial 15 with value: 43.52163895716846.\n",
      "[I 2023-09-11 13:15:04,987] Trial 19 finished with value: 45.484485133181835 and parameters: {'learning_rate': 0.014615149929977894, 'depth': 2, 'subsample': 0.24693792035380538, 'colsample_bylevel': 0.17586694993451452, 'min_data_in_leaf': 16, 'l2_leaf_reg': 12.094561528112534, 'boosting_type': 'Plain', 'max_ctr_complexity': 0}. Best is trial 15 with value: 43.52163895716846.\n",
      "[I 2023-09-11 13:15:11,179] Trial 20 finished with value: 45.91484096621951 and parameters: {'learning_rate': 0.019619025935914077, 'depth': 2, 'subsample': 0.544964495468785, 'colsample_bylevel': 0.1255994550698306, 'min_data_in_leaf': 25, 'l2_leaf_reg': 13.965803329587565, 'boosting_type': 'Plain', 'max_ctr_complexity': 2}. Best is trial 15 with value: 43.52163895716846.\n",
      "[I 2023-09-11 13:15:16,173] Trial 21 finished with value: 44.93232850069546 and parameters: {'learning_rate': 0.011751398969530447, 'depth': 1, 'subsample': 0.5528753380349535, 'colsample_bylevel': 0.05690436397826875, 'min_data_in_leaf': 40, 'l2_leaf_reg': 12.485820106415488, 'boosting_type': 'Plain', 'max_ctr_complexity': 1}. Best is trial 15 with value: 43.52163895716846.\n",
      "[I 2023-09-11 13:15:21,575] Trial 22 finished with value: 43.85760097643546 and parameters: {'learning_rate': 0.01010379261782021, 'depth': 2, 'subsample': 0.41641352644961493, 'colsample_bylevel': 0.0646398398054206, 'min_data_in_leaf': 34, 'l2_leaf_reg': 9.358647866282123, 'boosting_type': 'Plain', 'max_ctr_complexity': 2}. Best is trial 15 with value: 43.52163895716846.\n",
      "[I 2023-09-11 13:15:30,465] Trial 23 finished with value: 46.03519762128654 and parameters: {'learning_rate': 0.014230921920783058, 'depth': 4, 'subsample': 0.40113852921533777, 'colsample_bylevel': 0.13422857135843191, 'min_data_in_leaf': 50, 'l2_leaf_reg': 9.487442813542756, 'boosting_type': 'Plain', 'max_ctr_complexity': 3}. Best is trial 15 with value: 43.52163895716846.\n",
      "[I 2023-09-11 13:15:35,869] Trial 24 finished with value: 45.50450022042132 and parameters: {'learning_rate': 0.010014930615371663, 'depth': 2, 'subsample': 0.3360085564406253, 'colsample_bylevel': 0.2825030776440307, 'min_data_in_leaf': 33, 'l2_leaf_reg': 9.760138140208966, 'boosting_type': 'Plain', 'max_ctr_complexity': 1}. Best is trial 15 with value: 43.52163895716846.\n",
      "[I 2023-09-11 13:15:44,403] Trial 25 finished with value: 46.3046053422741 and parameters: {'learning_rate': 0.016025802073630573, 'depth': 3, 'subsample': 0.445222515469458, 'colsample_bylevel': 0.20980940216158542, 'min_data_in_leaf': 11, 'l2_leaf_reg': 11.63714007548468, 'boosting_type': 'Plain', 'max_ctr_complexity': 3}. Best is trial 15 with value: 43.52163895716846.\n",
      "[I 2023-09-11 13:16:00,226] Trial 26 finished with value: 46.33201360526298 and parameters: {'learning_rate': 0.012939891420005943, 'depth': 5, 'subsample': 0.22565295439754152, 'colsample_bylevel': 0.3973081688090696, 'min_data_in_leaf': 20, 'l2_leaf_reg': 8.51793797201897, 'boosting_type': 'Plain', 'max_ctr_complexity': 4}. Best is trial 15 with value: 43.52163895716846.\n",
      "[I 2023-09-11 13:16:23,673] Trial 27 finished with value: 45.95823547113705 and parameters: {'learning_rate': 0.018561363995202224, 'depth': 10, 'subsample': 0.47107790796298643, 'colsample_bylevel': 0.12111856687445696, 'min_data_in_leaf': 3, 'l2_leaf_reg': 10.234603041058794, 'boosting_type': 'Plain', 'max_ctr_complexity': 6}. Best is trial 15 with value: 43.52163895716846.\n",
      "[I 2023-09-11 13:16:29,036] Trial 28 finished with value: 45.63019550444442 and parameters: {'learning_rate': 0.01198406599675008, 'depth': 2, 'subsample': 0.37107233456905736, 'colsample_bylevel': 0.2902695256616048, 'min_data_in_leaf': 33, 'l2_leaf_reg': 11.499259981786428, 'boosting_type': 'Plain', 'max_ctr_complexity': 1}. Best is trial 15 with value: 43.52163895716846.\n",
      "[I 2023-09-11 13:16:36,890] Trial 29 finished with value: 46.02538778539607 and parameters: {'learning_rate': 0.01537439836263216, 'depth': 3, 'subsample': 0.2987011744609968, 'colsample_bylevel': 0.18276554495393602, 'min_data_in_leaf': 50, 'l2_leaf_reg': 10.198474956905203, 'boosting_type': 'Plain', 'max_ctr_complexity': 7}. Best is trial 15 with value: 43.52163895716846.\n",
      "[I 2023-09-11 13:16:41,612] Trial 30 finished with value: 44.71731983816533 and parameters: {'learning_rate': 0.011918575061332001, 'depth': 4, 'subsample': 0.22900556530966804, 'colsample_bylevel': 0.05437439621342706, 'min_data_in_leaf': 71, 'l2_leaf_reg': 13.085959717453957, 'boosting_type': 'Plain', 'max_ctr_complexity': 0}. Best is trial 15 with value: 43.52163895716846.\n",
      "[I 2023-09-11 13:16:46,485] Trial 31 finished with value: 44.47746603192085 and parameters: {'learning_rate': 0.010890505884374025, 'depth': 1, 'subsample': 0.5777245539346918, 'colsample_bylevel': 0.05089759056440304, 'min_data_in_leaf': 37, 'l2_leaf_reg': 11.680615278552471, 'boosting_type': 'Plain', 'max_ctr_complexity': 2}. Best is trial 15 with value: 43.52163895716846.\n",
      "[I 2023-09-11 13:16:51,540] Trial 32 finished with value: 44.4797179833585 and parameters: {'learning_rate': 0.013129402401883889, 'depth': 2, 'subsample': 0.4969247858850898, 'colsample_bylevel': 0.11144814778601245, 'min_data_in_leaf': 99, 'l2_leaf_reg': 12.729972891810013, 'boosting_type': 'Plain', 'max_ctr_complexity': 1}. Best is trial 15 with value: 43.52163895716846.\n",
      "[I 2023-09-11 13:16:56,944] Trial 33 finished with value: 44.07856826490546 and parameters: {'learning_rate': 0.011087639226146515, 'depth': 1, 'subsample': 0.7104186874685017, 'colsample_bylevel': 0.23559664727393967, 'min_data_in_leaf': 47, 'l2_leaf_reg': 13.210039292237262, 'boosting_type': 'Plain', 'max_ctr_complexity': 3}. Best is trial 15 with value: 43.52163895716846.\n",
      "[I 2023-09-11 13:17:08,320] Trial 34 finished with value: 45.90573523095313 and parameters: {'learning_rate': 0.01385529263489437, 'depth': 3, 'subsample': 0.5903073975631772, 'colsample_bylevel': 0.16345348073038718, 'min_data_in_leaf': 56, 'l2_leaf_reg': 11.954683155066876, 'boosting_type': 'Ordered', 'max_ctr_complexity': 2}. Best is trial 15 with value: 43.52163895716846.\n",
      "[I 2023-09-11 13:17:13,487] Trial 35 finished with value: 44.98908885608152 and parameters: {'learning_rate': 0.016008799402087995, 'depth': 2, 'subsample': 0.5169681390234968, 'colsample_bylevel': 0.09936205494317522, 'min_data_in_leaf': 22, 'l2_leaf_reg': 9.001386114578052, 'boosting_type': 'Plain', 'max_ctr_complexity': 1}. Best is trial 15 with value: 43.52163895716846.\n",
      "[I 2023-09-11 13:17:21,423] Trial 36 finished with value: 43.97227226914711 and parameters: {'learning_rate': 0.010955414612759496, 'depth': 1, 'subsample': 0.676281961347341, 'colsample_bylevel': 0.16222571966041965, 'min_data_in_leaf': 10, 'l2_leaf_reg': 11.176438181562276, 'boosting_type': 'Ordered', 'max_ctr_complexity': 5}. Best is trial 15 with value: 43.52163895716846.\n",
      "[I 2023-09-11 13:17:37,478] Trial 37 finished with value: 46.09609404233069 and parameters: {'learning_rate': 0.020762308073177933, 'depth': 5, 'subsample': 0.4118984731309587, 'colsample_bylevel': 0.167273203264042, 'min_data_in_leaf': 9, 'l2_leaf_reg': 10.930773010006508, 'boosting_type': 'Ordered', 'max_ctr_complexity': 6}. Best is trial 15 with value: 43.52163895716846.\n",
      "[I 2023-09-11 13:17:49,288] Trial 38 finished with value: 45.21237534060383 and parameters: {'learning_rate': 0.016992920661582093, 'depth': 4, 'subsample': 0.6754909540603175, 'colsample_bylevel': 0.1003519041566475, 'min_data_in_leaf': 1, 'l2_leaf_reg': 8.289419224928931, 'boosting_type': 'Ordered', 'max_ctr_complexity': 5}. Best is trial 15 with value: 43.52163895716846.\n",
      "[I 2023-09-11 13:18:06,031] Trial 39 finished with value: 46.48617985948952 and parameters: {'learning_rate': 0.02346463863088503, 'depth': 3, 'subsample': 0.754667127799012, 'colsample_bylevel': 0.45770237881404074, 'min_data_in_leaf': 8, 'l2_leaf_reg': 9.902675045861688, 'boosting_type': 'Ordered', 'max_ctr_complexity': 8}. Best is trial 15 with value: 43.52163895716846.\n",
      "[I 2023-09-11 13:18:14,992] Trial 40 finished with value: 46.04801271667235 and parameters: {'learning_rate': 0.026149255484248495, 'depth': 2, 'subsample': 0.46812400297889, 'colsample_bylevel': 0.14896575869850504, 'min_data_in_leaf': 15, 'l2_leaf_reg': 9.121752690500932, 'boosting_type': 'Ordered', 'max_ctr_complexity': 4}. Best is trial 15 with value: 43.52163895716846.\n",
      "[I 2023-09-11 13:18:22,733] Trial 41 finished with value: 44.58856336801416 and parameters: {'learning_rate': 0.011718882281511795, 'depth': 1, 'subsample': 0.6392506368374291, 'colsample_bylevel': 0.09462224261328969, 'min_data_in_leaf': 29, 'l2_leaf_reg': 12.251334342968741, 'boosting_type': 'Ordered', 'max_ctr_complexity': 2}. Best is trial 15 with value: 43.52163895716846.\n",
      "[I 2023-09-11 13:18:30,270] Trial 42 finished with value: 43.66578957453598 and parameters: {'learning_rate': 0.010037106944335366, 'depth': 1, 'subsample': 0.5879330214570264, 'colsample_bylevel': 0.0884121542912643, 'min_data_in_leaf': 40, 'l2_leaf_reg': 11.433736580664487, 'boosting_type': 'Ordered', 'max_ctr_complexity': 0}. Best is trial 15 with value: 43.52163895716846.\n",
      "[I 2023-09-11 13:18:38,202] Trial 43 finished with value: 44.04311748826837 and parameters: {'learning_rate': 0.011045705947248683, 'depth': 1, 'subsample': 0.5898299462368033, 'colsample_bylevel': 0.2051598255063002, 'min_data_in_leaf': 44, 'l2_leaf_reg': 10.97047382556831, 'boosting_type': 'Ordered', 'max_ctr_complexity': 0}. Best is trial 15 with value: 43.52163895716846.\n",
      "[I 2023-09-11 13:18:46,851] Trial 44 finished with value: 44.6750539719723 and parameters: {'learning_rate': 0.01297473280268703, 'depth': 2, 'subsample': 0.5357208159368676, 'colsample_bylevel': 0.10134657032659235, 'min_data_in_leaf': 54, 'l2_leaf_reg': 11.456454719797858, 'boosting_type': 'Ordered', 'max_ctr_complexity': 14}. Best is trial 15 with value: 43.52163895716846.\n",
      "[I 2023-09-11 13:18:54,391] Trial 45 finished with value: 43.7727322928142 and parameters: {'learning_rate': 0.01008670588587197, 'depth': 1, 'subsample': 0.4277279626964641, 'colsample_bylevel': 0.15431840164575197, 'min_data_in_leaf': 36, 'l2_leaf_reg': 10.324453723757138, 'boosting_type': 'Ordered', 'max_ctr_complexity': 3}. Best is trial 15 with value: 43.52163895716846.\n",
      "[I 2023-09-11 13:19:06,517] Trial 46 finished with value: 45.44680734834393 and parameters: {'learning_rate': 0.010101026107057468, 'depth': 3, 'subsample': 0.4329736226754557, 'colsample_bylevel': 0.25595659978546714, 'min_data_in_leaf': 62, 'l2_leaf_reg': 10.205936352076188, 'boosting_type': 'Ordered', 'max_ctr_complexity': 11}. Best is trial 15 with value: 43.52163895716846.\n",
      "[I 2023-09-11 13:19:13,934] Trial 47 finished with value: 44.869755636469094 and parameters: {'learning_rate': 0.012751685051968808, 'depth': 1, 'subsample': 0.48587574637102404, 'colsample_bylevel': 0.09206604436063394, 'min_data_in_leaf': 35, 'l2_leaf_reg': 9.408878420763251, 'boosting_type': 'Ordered', 'max_ctr_complexity': 3}. Best is trial 15 with value: 43.52163895716846.\n",
      "[I 2023-09-11 13:19:21,660] Trial 48 finished with value: 45.70799641111541 and parameters: {'learning_rate': 0.017914364966574205, 'depth': 2, 'subsample': 0.40649835472689877, 'colsample_bylevel': 0.13832899317753794, 'min_data_in_leaf': 44, 'l2_leaf_reg': 10.364039810320888, 'boosting_type': 'Ordered', 'max_ctr_complexity': 0}. Best is trial 15 with value: 43.52163895716846.\n",
      "[I 2023-09-11 13:19:47,943] Trial 49 finished with value: 47.032566458993315 and parameters: {'learning_rate': 0.030693355344460514, 'depth': 7, 'subsample': 0.45020568104973163, 'colsample_bylevel': 0.22469067411969415, 'min_data_in_leaf': 29, 'l2_leaf_reg': 12.004699967912895, 'boosting_type': 'Ordered', 'max_ctr_complexity': 2}. Best is trial 15 with value: 43.52163895716846.\n",
      "[I 2023-09-11 13:19:55,038] Trial 50 finished with value: 43.82861802846948 and parameters: {'learning_rate': 0.01416224404957668, 'depth': 1, 'subsample': 0.2710113673007699, 'colsample_bylevel': 0.077264869389351, 'min_data_in_leaf': 66, 'l2_leaf_reg': 7.740524011914158, 'boosting_type': 'Ordered', 'max_ctr_complexity': 1}. Best is trial 15 with value: 43.52163895716846.\n",
      "[I 2023-09-11 13:20:02,066] Trial 51 finished with value: 43.779114380309295 and parameters: {'learning_rate': 0.011432773638493971, 'depth': 1, 'subsample': 0.27911662800067677, 'colsample_bylevel': 0.07646802793353764, 'min_data_in_leaf': 80, 'l2_leaf_reg': 7.305303649600244, 'boosting_type': 'Ordered', 'max_ctr_complexity': 1}. Best is trial 15 with value: 43.52163895716846.\n",
      "[I 2023-09-11 13:20:09,159] Trial 52 finished with value: 43.471667303505335 and parameters: {'learning_rate': 0.011770174551185668, 'depth': 1, 'subsample': 0.2826816690887188, 'colsample_bylevel': 0.08127840547169712, 'min_data_in_leaf': 77, 'l2_leaf_reg': 7.136343258334574, 'boosting_type': 'Ordered', 'max_ctr_complexity': 1}. Best is trial 52 with value: 43.471667303505335.\n",
      "[I 2023-09-11 13:20:16,354] Trial 53 finished with value: 44.066090701026745 and parameters: {'learning_rate': 0.014029587922263918, 'depth': 1, 'subsample': 0.28748433218254404, 'colsample_bylevel': 0.1356936217986623, 'min_data_in_leaf': 79, 'l2_leaf_reg': 7.054124791388816, 'boosting_type': 'Ordered', 'max_ctr_complexity': 1}. Best is trial 52 with value: 43.471667303505335.\n",
      "[I 2023-09-11 13:20:23,487] Trial 54 finished with value: 43.928528203602376 and parameters: {'learning_rate': 0.011996204731392209, 'depth': 1, 'subsample': 0.19583280023084337, 'colsample_bylevel': 0.17898519005517546, 'min_data_in_leaf': 71, 'l2_leaf_reg': 7.604032629907412, 'boosting_type': 'Ordered', 'max_ctr_complexity': 1}. Best is trial 52 with value: 43.471667303505335.\n",
      "[I 2023-09-11 13:20:30,501] Trial 55 finished with value: 44.44441599935632 and parameters: {'learning_rate': 0.015084453943991364, 'depth': 1, 'subsample': 0.2643599050375307, 'colsample_bylevel': 0.08699909351528128, 'min_data_in_leaf': 85, 'l2_leaf_reg': 6.059305675486961, 'boosting_type': 'Ordered', 'max_ctr_complexity': 0}. Best is trial 52 with value: 43.471667303505335.\n",
      "[I 2023-09-11 13:20:37,845] Trial 56 finished with value: 44.296880380199575 and parameters: {'learning_rate': 0.011207936339521196, 'depth': 1, 'subsample': 0.3457462877557436, 'colsample_bylevel': 0.13295136048498246, 'min_data_in_leaf': 74, 'l2_leaf_reg': 6.821530733929253, 'boosting_type': 'Ordered', 'max_ctr_complexity': 4}. Best is trial 52 with value: 43.471667303505335.\n",
      "[I 2023-09-11 13:20:45,609] Trial 57 finished with value: 43.422058000417714 and parameters: {'learning_rate': 0.012517788708683168, 'depth': 2, 'subsample': 0.30933195521095913, 'colsample_bylevel': 0.07244529460701, 'min_data_in_leaf': 63, 'l2_leaf_reg': 8.118678954604208, 'boosting_type': 'Ordered', 'max_ctr_complexity': 3}. Best is trial 57 with value: 43.422058000417714.\n",
      "[I 2023-09-11 13:20:54,537] Trial 58 finished with value: 45.00400904978509 and parameters: {'learning_rate': 0.012633695847919945, 'depth': 2, 'subsample': 0.31294403971943763, 'colsample_bylevel': 0.19485274012692277, 'min_data_in_leaf': 93, 'l2_leaf_reg': 5.186924429158676, 'boosting_type': 'Ordered', 'max_ctr_complexity': 3}. Best is trial 57 with value: 43.422058000417714.\n",
      "[I 2023-09-11 13:21:02,071] Trial 59 finished with value: 43.75120428331585 and parameters: {'learning_rate': 0.010943156506989772, 'depth': 2, 'subsample': 0.37829345854062707, 'colsample_bylevel': 0.05368225574430834, 'min_data_in_leaf': 79, 'l2_leaf_reg': 8.3127937600483, 'boosting_type': 'Ordered', 'max_ctr_complexity': 4}. Best is trial 57 with value: 43.422058000417714.\n",
      "[I 2023-09-11 13:21:10,127] Trial 60 finished with value: 43.90700127992914 and parameters: {'learning_rate': 0.01005577966860688, 'depth': 3, 'subsample': 0.3550817302530923, 'colsample_bylevel': 0.0514359307314709, 'min_data_in_leaf': 67, 'l2_leaf_reg': 8.593957050696027, 'boosting_type': 'Ordered', 'max_ctr_complexity': 4}. Best is trial 57 with value: 43.422058000417714.\n",
      "[I 2023-09-11 13:21:18,496] Trial 61 finished with value: 44.94758527724345 and parameters: {'learning_rate': 0.01123221916449585, 'depth': 2, 'subsample': 0.3738292743453748, 'colsample_bylevel': 0.11795556009553454, 'min_data_in_leaf': 81, 'l2_leaf_reg': 8.066429820885876, 'boosting_type': 'Ordered', 'max_ctr_complexity': 3}. Best is trial 57 with value: 43.422058000417714.\n",
      "[I 2023-09-11 13:21:26,494] Trial 62 finished with value: 44.3830040288974 and parameters: {'learning_rate': 0.012132906631160413, 'depth': 2, 'subsample': 0.32155754051117336, 'colsample_bylevel': 0.09773923193594605, 'min_data_in_leaf': 77, 'l2_leaf_reg': 8.72572401950056, 'boosting_type': 'Ordered', 'max_ctr_complexity': 5}. Best is trial 57 with value: 43.422058000417714.\n",
      "[I 2023-09-11 13:21:34,348] Trial 63 finished with value: 43.277467212999305 and parameters: {'learning_rate': 0.011155933275302133, 'depth': 2, 'subsample': 0.3818826076240388, 'colsample_bylevel': 0.08044735522430939, 'min_data_in_leaf': 89, 'l2_leaf_reg': 7.2043616831754855, 'boosting_type': 'Ordered', 'max_ctr_complexity': 2}. Best is trial 63 with value: 43.277467212999305.\n",
      "[I 2023-09-11 13:21:44,803] Trial 64 finished with value: 45.38894240612519 and parameters: {'learning_rate': 0.010599419125186143, 'depth': 3, 'subsample': 0.37475698524932033, 'colsample_bylevel': 0.15146206841350418, 'min_data_in_leaf': 87, 'l2_leaf_reg': 7.97545869485332, 'boosting_type': 'Ordered', 'max_ctr_complexity': 2}. Best is trial 63 with value: 43.277467212999305.\n",
      "[I 2023-09-11 13:21:52,689] Trial 65 finished with value: 44.23374028551408 and parameters: {'learning_rate': 0.013735612234974525, 'depth': 2, 'subsample': 0.33025274847088276, 'colsample_bylevel': 0.07538099261133623, 'min_data_in_leaf': 94, 'l2_leaf_reg': 6.61374856364668, 'boosting_type': 'Ordered', 'max_ctr_complexity': 4}. Best is trial 63 with value: 43.277467212999305.\n",
      "[I 2023-09-11 13:22:03,348] Trial 66 finished with value: 45.359973276681025 and parameters: {'learning_rate': 0.012381625617551871, 'depth': 4, 'subsample': 0.31268131492763895, 'colsample_bylevel': 0.11537706345325915, 'min_data_in_leaf': 60, 'l2_leaf_reg': 7.489326065159281, 'boosting_type': 'Ordered', 'max_ctr_complexity': 2}. Best is trial 63 with value: 43.277467212999305.\n",
      "[I 2023-09-11 13:22:21,960] Trial 67 finished with value: 45.70081313253185 and parameters: {'learning_rate': 0.010640745057606408, 'depth': 6, 'subsample': 0.3562620093212752, 'colsample_bylevel': 0.1813399888360386, 'min_data_in_leaf': 89, 'l2_leaf_reg': 8.240722423210533, 'boosting_type': 'Ordered', 'max_ctr_complexity': 3}. Best is trial 63 with value: 43.277467212999305.\n",
      "[I 2023-09-11 13:22:30,678] Trial 68 finished with value: 44.882662054250886 and parameters: {'learning_rate': 0.013466464118158925, 'depth': 2, 'subsample': 0.4044631202414031, 'colsample_bylevel': 0.14859029229462214, 'min_data_in_leaf': 75, 'l2_leaf_reg': 8.998697083494445, 'boosting_type': 'Ordered', 'max_ctr_complexity': 2}. Best is trial 63 with value: 43.277467212999305.\n",
      "[I 2023-09-11 13:22:38,910] Trial 69 finished with value: 44.73240023996504 and parameters: {'learning_rate': 0.015360785399207684, 'depth': 3, 'subsample': 0.3826614402178406, 'colsample_bylevel': 0.056454913861703405, 'min_data_in_leaf': 83, 'l2_leaf_reg': 7.038537803692184, 'boosting_type': 'Ordered', 'max_ctr_complexity': 3}. Best is trial 63 with value: 43.277467212999305.\n",
      "[I 2023-09-11 13:22:46,605] Trial 70 finished with value: 44.1368065709938 and parameters: {'learning_rate': 0.011545610051512844, 'depth': 2, 'subsample': 0.44204694461122024, 'colsample_bylevel': 0.050350381866824924, 'min_data_in_leaf': 68, 'l2_leaf_reg': 9.722375249049314, 'boosting_type': 'Ordered', 'max_ctr_complexity': 4}. Best is trial 63 with value: 43.277467212999305.\n",
      "[I 2023-09-11 13:22:53,673] Trial 71 finished with value: 43.58444251570672 and parameters: {'learning_rate': 0.011634691052753927, 'depth': 1, 'subsample': 0.2857457827154002, 'colsample_bylevel': 0.07467173451375826, 'min_data_in_leaf': 92, 'l2_leaf_reg': 7.326228832498492, 'boosting_type': 'Ordered', 'max_ctr_complexity': 1}. Best is trial 63 with value: 43.277467212999305.\n",
      "[I 2023-09-11 13:23:00,865] Trial 72 finished with value: 43.90981080522331 and parameters: {'learning_rate': 0.010687732933971517, 'depth': 1, 'subsample': 0.33434464447414025, 'colsample_bylevel': 0.12441317173702626, 'min_data_in_leaf': 100, 'l2_leaf_reg': 6.275888608996517, 'boosting_type': 'Ordered', 'max_ctr_complexity': 0}. Best is trial 63 with value: 43.277467212999305.\n",
      "[I 2023-09-11 13:23:08,009] Trial 73 finished with value: 43.60862758944064 and parameters: {'learning_rate': 0.0123541727767791, 'depth': 1, 'subsample': 0.2946733352752186, 'colsample_bylevel': 0.08242799854215677, 'min_data_in_leaf': 92, 'l2_leaf_reg': 7.780103347605479, 'boosting_type': 'Ordered', 'max_ctr_complexity': 1}. Best is trial 63 with value: 43.277467212999305.\n",
      "[I 2023-09-11 13:23:15,230] Trial 74 finished with value: 44.484765514304115 and parameters: {'learning_rate': 0.01247750710066262, 'depth': 2, 'subsample': 0.25081835186851287, 'colsample_bylevel': 0.07860318468910367, 'min_data_in_leaf': 91, 'l2_leaf_reg': 7.868572756095831, 'boosting_type': 'Ordered', 'max_ctr_complexity': 1}. Best is trial 63 with value: 43.277467212999305.\n",
      "[I 2023-09-11 13:23:22,470] Trial 75 finished with value: 43.962774000660836 and parameters: {'learning_rate': 0.013190513598673457, 'depth': 1, 'subsample': 0.2965638510930404, 'colsample_bylevel': 0.11362770093902053, 'min_data_in_leaf': 96, 'l2_leaf_reg': 7.2828485969216405, 'boosting_type': 'Ordered', 'max_ctr_complexity': 2}. Best is trial 63 with value: 43.277467212999305.\n",
      "[I 2023-09-11 13:23:29,470] Trial 76 finished with value: 44.75289237951484 and parameters: {'learning_rate': 0.014727962935058332, 'depth': 2, 'subsample': 0.19963897149970772, 'colsample_bylevel': 0.07711317035844036, 'min_data_in_leaf': 86, 'l2_leaf_reg': 8.560905374157127, 'boosting_type': 'Ordered', 'max_ctr_complexity': 0}. Best is trial 63 with value: 43.277467212999305.\n",
      "[I 2023-09-11 13:23:47,555] Trial 77 finished with value: 46.17245553453902 and parameters: {'learning_rate': 0.011534319739367681, 'depth': 8, 'subsample': 0.29335289094609796, 'colsample_bylevel': 0.21211151811159729, 'min_data_in_leaf': 90, 'l2_leaf_reg': 7.459553272294247, 'boosting_type': 'Ordered', 'max_ctr_complexity': 1}. Best is trial 63 with value: 43.277467212999305.\n",
      "[I 2023-09-11 13:23:57,917] Trial 78 finished with value: 46.30422104242406 and parameters: {'learning_rate': 0.016708282268610965, 'depth': 3, 'subsample': 0.23226277879562102, 'colsample_bylevel': 0.18964334368130814, 'min_data_in_leaf': 97, 'l2_leaf_reg': 8.268516285773314, 'boosting_type': 'Ordered', 'max_ctr_complexity': 2}. Best is trial 63 with value: 43.277467212999305.\n",
      "[I 2023-09-11 13:24:05,338] Trial 79 finished with value: 44.29918048855972 and parameters: {'learning_rate': 0.012257255179018108, 'depth': 1, 'subsample': 0.39255996049999087, 'colsample_bylevel': 0.10808640579654356, 'min_data_in_leaf': 83, 'l2_leaf_reg': 7.8833281360132474, 'boosting_type': 'Ordered', 'max_ctr_complexity': 8}. Best is trial 63 with value: 43.277467212999305.\n",
      "[I 2023-09-11 13:24:12,683] Trial 80 finished with value: 44.60197604466506 and parameters: {'learning_rate': 0.010561154751685002, 'depth': 2, 'subsample': 0.33875496766107127, 'colsample_bylevel': 0.07774430353516786, 'min_data_in_leaf': 92, 'l2_leaf_reg': 6.815433658379058, 'boosting_type': 'Ordered', 'max_ctr_complexity': 1}. Best is trial 63 with value: 43.277467212999305.\n",
      "[I 2023-09-11 13:24:20,048] Trial 81 finished with value: 44.102710387155476 and parameters: {'learning_rate': 0.01054974961845998, 'depth': 1, 'subsample': 0.36151170906725255, 'colsample_bylevel': 0.14952358760026926, 'min_data_in_leaf': 47, 'l2_leaf_reg': 10.483645477196152, 'boosting_type': 'Ordered', 'max_ctr_complexity': 0}. Best is trial 63 with value: 43.277467212999305.\n",
      "[I 2023-09-11 13:24:27,264] Trial 82 finished with value: 43.899632787351976 and parameters: {'learning_rate': 0.010080424660020773, 'depth': 1, 'subsample': 0.42549676918490664, 'colsample_bylevel': 0.05107564679611454, 'min_data_in_leaf': 77, 'l2_leaf_reg': 10.59915229404253, 'boosting_type': 'Ordered', 'max_ctr_complexity': 3}. Best is trial 63 with value: 43.277467212999305.\n",
      "[I 2023-09-11 13:24:34,594] Trial 83 finished with value: 44.863492359242855 and parameters: {'learning_rate': 0.011381865832226478, 'depth': 1, 'subsample': 0.3922163701947569, 'colsample_bylevel': 0.09647896787636642, 'min_data_in_leaf': 60, 'l2_leaf_reg': 9.20812023760672, 'boosting_type': 'Ordered', 'max_ctr_complexity': 1}. Best is trial 63 with value: 43.277467212999305.\n",
      "[I 2023-09-11 13:24:43,299] Trial 84 finished with value: 45.046792053967565 and parameters: {'learning_rate': 0.013434670361362665, 'depth': 2, 'subsample': 0.31612157286067905, 'colsample_bylevel': 0.15981872574236491, 'min_data_in_leaf': 97, 'l2_leaf_reg': 8.765420613394275, 'boosting_type': 'Ordered', 'max_ctr_complexity': 2}. Best is trial 63 with value: 43.277467212999305.\n",
      "[I 2023-09-11 13:24:50,506] Trial 85 finished with value: 44.83934771365131 and parameters: {'learning_rate': 0.01183816891447504, 'depth': 1, 'subsample': 0.2631439471575069, 'colsample_bylevel': 0.12945869320637, 'min_data_in_leaf': 53, 'l2_leaf_reg': 7.755551854846216, 'boosting_type': 'Ordered', 'max_ctr_complexity': 3}. Best is trial 63 with value: 43.277467212999305.\n",
      "[I 2023-09-11 13:24:57,614] Trial 86 finished with value: 44.55343525623925 and parameters: {'learning_rate': 0.01275192363736508, 'depth': 1, 'subsample': 0.346093633465865, 'colsample_bylevel': 0.07210605536063419, 'min_data_in_leaf': 41, 'l2_leaf_reg': 9.925439495434816, 'boosting_type': 'Ordered', 'max_ctr_complexity': 0}. Best is trial 63 with value: 43.277467212999305.\n",
      "[I 2023-09-11 13:25:06,143] Trial 87 finished with value: 44.16437479769579 and parameters: {'learning_rate': 0.010951149777467889, 'depth': 2, 'subsample': 0.4613761930427089, 'colsample_bylevel': 0.10598985740287273, 'min_data_in_leaf': 83, 'l2_leaf_reg': 11.388509283046973, 'boosting_type': 'Ordered', 'max_ctr_complexity': 9}. Best is trial 63 with value: 43.277467212999305.\n",
      "[I 2023-09-11 13:25:14,110] Trial 88 finished with value: 45.47335029073358 and parameters: {'learning_rate': 0.014635094508903651, 'depth': 2, 'subsample': 0.4254864832996339, 'colsample_bylevel': 0.17261279277221286, 'min_data_in_leaf': 88, 'l2_leaf_reg': 8.197000732974592, 'boosting_type': 'Ordered', 'max_ctr_complexity': 1}. Best is trial 63 with value: 43.277467212999305.\n",
      "[I 2023-09-11 13:25:18,768] Trial 89 finished with value: 44.32020579905927 and parameters: {'learning_rate': 0.011853888487103078, 'depth': 1, 'subsample': 0.27466650080243543, 'colsample_bylevel': 0.13354675231138527, 'min_data_in_leaf': 70, 'l2_leaf_reg': 9.476649954085774, 'boosting_type': 'Plain', 'max_ctr_complexity': 2}. Best is trial 63 with value: 43.277467212999305.\n",
      "[I 2023-09-11 13:25:48,431] Trial 90 finished with value: 45.08116755584582 and parameters: {'learning_rate': 0.010050365825782124, 'depth': 10, 'subsample': 0.38488064372846986, 'colsample_bylevel': 0.0867837909019315, 'min_data_in_leaf': 64, 'l2_leaf_reg': 7.144460655190042, 'boosting_type': 'Ordered', 'max_ctr_complexity': 3}. Best is trial 63 with value: 43.277467212999305.\n",
      "[I 2023-09-11 13:25:55,483] Trial 91 finished with value: 43.77541835087262 and parameters: {'learning_rate': 0.011172306692760222, 'depth': 1, 'subsample': 0.27736683244977955, 'colsample_bylevel': 0.0715766926724098, 'min_data_in_leaf': 81, 'l2_leaf_reg': 7.373434616670818, 'boosting_type': 'Ordered', 'max_ctr_complexity': 1}. Best is trial 63 with value: 43.277467212999305.\n",
      "[I 2023-09-11 13:26:02,561] Trial 92 finished with value: 43.18457078236979 and parameters: {'learning_rate': 0.010891390017107478, 'depth': 1, 'subsample': 0.2995218749648715, 'colsample_bylevel': 0.0675127793103688, 'min_data_in_leaf': 73, 'l2_leaf_reg': 7.573543939167165, 'boosting_type': 'Ordered', 'max_ctr_complexity': 1}. Best is trial 92 with value: 43.18457078236979.\n",
      "[I 2023-09-11 13:26:09,775] Trial 93 finished with value: 43.9129490274757 and parameters: {'learning_rate': 0.010707495420225217, 'depth': 1, 'subsample': 0.2996375944227888, 'colsample_bylevel': 0.11527017336956316, 'min_data_in_leaf': 77, 'l2_leaf_reg': 7.631514188855628, 'boosting_type': 'Ordered', 'max_ctr_complexity': 2}. Best is trial 92 with value: 43.18457078236979.\n",
      "[I 2023-09-11 13:26:16,937] Trial 94 finished with value: 44.979616889422395 and parameters: {'learning_rate': 0.01255619429634509, 'depth': 1, 'subsample': 0.3563523236141681, 'colsample_bylevel': 0.05188873366756884, 'min_data_in_leaf': 72, 'l2_leaf_reg': 6.556640260033182, 'boosting_type': 'Ordered', 'max_ctr_complexity': 0}. Best is trial 92 with value: 43.18457078236979.\n",
      "[I 2023-09-11 13:26:24,332] Trial 95 finished with value: 44.86496146971633 and parameters: {'learning_rate': 0.013709992781201474, 'depth': 2, 'subsample': 0.3117584095669676, 'colsample_bylevel': 0.09165018026780443, 'min_data_in_leaf': 24, 'l2_leaf_reg': 8.435799338256029, 'boosting_type': 'Ordered', 'max_ctr_complexity': 1}. Best is trial 92 with value: 43.18457078236979.\n",
      "[I 2023-09-11 13:26:31,423] Trial 96 finished with value: 44.774281929973895 and parameters: {'learning_rate': 0.011855779769819684, 'depth': 1, 'subsample': 0.24174264714125324, 'colsample_bylevel': 0.14585396888175278, 'min_data_in_leaf': 95, 'l2_leaf_reg': 8.061660360800637, 'boosting_type': 'Ordered', 'max_ctr_complexity': 0}. Best is trial 92 with value: 43.18457078236979.\n",
      "[I 2023-09-11 13:26:36,550] Trial 97 finished with value: 43.412714869776686 and parameters: {'learning_rate': 0.010434470259288115, 'depth': 2, 'subsample': 0.21257431859331083, 'colsample_bylevel': 0.06926642625899228, 'min_data_in_leaf': 38, 'l2_leaf_reg': 8.80983458093002, 'boosting_type': 'Plain', 'max_ctr_complexity': 2}. Best is trial 92 with value: 43.18457078236979.\n",
      "[I 2023-09-11 13:26:42,567] Trial 98 finished with value: 45.24206179385861 and parameters: {'learning_rate': 0.01096441084576317, 'depth': 3, 'subsample': 0.2107277164594753, 'colsample_bylevel': 0.09685325354981884, 'min_data_in_leaf': 38, 'l2_leaf_reg': 8.866427228264373, 'boosting_type': 'Plain', 'max_ctr_complexity': 2}. Best is trial 92 with value: 43.18457078236979.\n",
      "[I 2023-09-11 13:26:47,165] Trial 99 finished with value: 44.33864816029935 and parameters: {'learning_rate': 0.013085999823151992, 'depth': 2, 'subsample': 0.16863382776236457, 'colsample_bylevel': 0.06945917302400496, 'min_data_in_leaf': 79, 'l2_leaf_reg': 8.42997947156666, 'boosting_type': 'Plain', 'max_ctr_complexity': 1}. Best is trial 92 with value: 43.18457078236979.\n",
      "[I 2023-09-11 13:26:51,964] Trial 100 finished with value: 44.33097264893949 and parameters: {'learning_rate': 0.011427538198737128, 'depth': 2, 'subsample': 0.2474478017862552, 'colsample_bylevel': 0.12330919485825297, 'min_data_in_leaf': 56, 'l2_leaf_reg': 6.970989463368679, 'boosting_type': 'Plain', 'max_ctr_complexity': 1}. Best is trial 92 with value: 43.18457078236979.\n",
      "[I 2023-09-11 13:26:56,538] Trial 101 finished with value: 44.102862735152215 and parameters: {'learning_rate': 0.010435846887966258, 'depth': 1, 'subsample': 0.3339167563577218, 'colsample_bylevel': 0.06498530664298126, 'min_data_in_leaf': 36, 'l2_leaf_reg': 7.599785863033557, 'boosting_type': 'Plain', 'max_ctr_complexity': 2}. Best is trial 92 with value: 43.18457078236979.\n",
      "[I 2023-09-11 13:27:01,811] Trial 102 finished with value: 44.21746323845771 and parameters: {'learning_rate': 0.010039837780363152, 'depth': 2, 'subsample': 0.2995913050927198, 'colsample_bylevel': 0.08885472072701492, 'min_data_in_leaf': 46, 'l2_leaf_reg': 11.145393377391573, 'boosting_type': 'Plain', 'max_ctr_complexity': 3}. Best is trial 92 with value: 43.18457078236979.\n",
      "[I 2023-09-11 13:27:08,988] Trial 103 finished with value: 44.05971369403939 and parameters: {'learning_rate': 0.010569859436405572, 'depth': 1, 'subsample': 0.26497950112445634, 'colsample_bylevel': 0.1650397391894446, 'min_data_in_leaf': 18, 'l2_leaf_reg': 7.822968988229926, 'boosting_type': 'Ordered', 'max_ctr_complexity': 2}. Best is trial 92 with value: 43.18457078236979.\n",
      "[I 2023-09-11 13:27:16,606] Trial 104 finished with value: 45.45471904868165 and parameters: {'learning_rate': 0.012317113240820302, 'depth': 4, 'subsample': 0.37139626808338644, 'colsample_bylevel': 0.10760721192653433, 'min_data_in_leaf': 75, 'l2_leaf_reg': 7.234549356428467, 'boosting_type': 'Plain', 'max_ctr_complexity': 2}. Best is trial 92 with value: 43.18457078236979.\n",
      "[I 2023-09-11 13:27:23,705] Trial 105 finished with value: 43.86929632195756 and parameters: {'learning_rate': 0.011515802727955087, 'depth': 1, 'subsample': 0.3188343740196247, 'colsample_bylevel': 0.06562222739313306, 'min_data_in_leaf': 85, 'l2_leaf_reg': 8.984451661175566, 'boosting_type': 'Ordered', 'max_ctr_complexity': 6}. Best is trial 92 with value: 43.18457078236979.\n",
      "[I 2023-09-11 13:27:33,694] Trial 106 finished with value: 45.201254659047265 and parameters: {'learning_rate': 0.011048308754923847, 'depth': 3, 'subsample': 0.4017222997015522, 'colsample_bylevel': 0.11861369021129818, 'min_data_in_leaf': 69, 'l2_leaf_reg': 10.680783525651893, 'boosting_type': 'Ordered', 'max_ctr_complexity': 3}. Best is trial 92 with value: 43.18457078236979.\n",
      "[I 2023-09-11 13:27:42,159] Trial 107 finished with value: 45.163856012353676 and parameters: {'learning_rate': 0.014144696676951646, 'depth': 2, 'subsample': 0.2873187220806977, 'colsample_bylevel': 0.13974053485931562, 'min_data_in_leaf': 30, 'l2_leaf_reg': 8.132355572760666, 'boosting_type': 'Ordered', 'max_ctr_complexity': 4}. Best is trial 92 with value: 43.18457078236979.\n",
      "[I 2023-09-11 13:27:49,248] Trial 108 finished with value: 45.008048804945034 and parameters: {'learning_rate': 0.012709854970624618, 'depth': 7, 'subsample': 0.21808562553746336, 'colsample_bylevel': 0.05101045744992248, 'min_data_in_leaf': 43, 'l2_leaf_reg': 11.823524942316945, 'boosting_type': 'Ordered', 'max_ctr_complexity': 1}. Best is trial 92 with value: 43.18457078236979.\n",
      "[I 2023-09-11 13:27:53,857] Trial 109 finished with value: 44.133539919947154 and parameters: {'learning_rate': 0.012066151673124801, 'depth': 1, 'subsample': 0.34339535964765694, 'colsample_bylevel': 0.08639448689924267, 'min_data_in_leaf': 40, 'l2_leaf_reg': 9.21262981218075, 'boosting_type': 'Plain', 'max_ctr_complexity': 0}. Best is trial 92 with value: 43.18457078236979.\n",
      "[I 2023-09-11 13:28:02,225] Trial 110 finished with value: 44.83439746416524 and parameters: {'learning_rate': 0.010413933578571215, 'depth': 2, 'subsample': 0.2493371056903172, 'colsample_bylevel': 0.15647531741937154, 'min_data_in_leaf': 64, 'l2_leaf_reg': 8.779931581551843, 'boosting_type': 'Ordered', 'max_ctr_complexity': 4}. Best is trial 92 with value: 43.18457078236979.\n",
      "[I 2023-09-11 13:28:09,302] Trial 111 finished with value: 43.83210733242056 and parameters: {'learning_rate': 0.011226012541533456, 'depth': 1, 'subsample': 0.30724772332372924, 'colsample_bylevel': 0.07173925608933913, 'min_data_in_leaf': 73, 'l2_leaf_reg': 7.375760632264869, 'boosting_type': 'Ordered', 'max_ctr_complexity': 1}. Best is trial 92 with value: 43.18457078236979.\n",
      "[I 2023-09-11 13:28:16,426] Trial 112 finished with value: 43.9681033305146 and parameters: {'learning_rate': 0.011144149632595697, 'depth': 1, 'subsample': 0.27528632512828355, 'colsample_bylevel': 0.07271034563146277, 'min_data_in_leaf': 83, 'l2_leaf_reg': 7.502931337407378, 'boosting_type': 'Ordered', 'max_ctr_complexity': 1}. Best is trial 92 with value: 43.18457078236979.\n",
      "[I 2023-09-11 13:28:23,609] Trial 113 finished with value: 44.454967995416666 and parameters: {'learning_rate': 0.011769165701642562, 'depth': 1, 'subsample': 0.2848646508415239, 'colsample_bylevel': 0.10312018786747196, 'min_data_in_leaf': 31, 'l2_leaf_reg': 6.913767936321834, 'boosting_type': 'Ordered', 'max_ctr_complexity': 2}. Best is trial 92 with value: 43.18457078236979.\n",
      "[I 2023-09-11 13:28:30,783] Trial 114 finished with value: 43.98438426625279 and parameters: {'learning_rate': 0.010876610428762085, 'depth': 1, 'subsample': 0.36411272873324496, 'colsample_bylevel': 0.08545054671453753, 'min_data_in_leaf': 81, 'l2_leaf_reg': 7.990186223764454, 'boosting_type': 'Ordered', 'max_ctr_complexity': 0}. Best is trial 92 with value: 43.18457078236979.\n",
      "[I 2023-09-11 13:28:38,389] Trial 115 finished with value: 44.929457751889665 and parameters: {'learning_rate': 0.013366028940705084, 'depth': 2, 'subsample': 0.32526171215899025, 'colsample_bylevel': 0.12919447888856536, 'min_data_in_leaf': 90, 'l2_leaf_reg': 7.246009535892289, 'boosting_type': 'Ordered', 'max_ctr_complexity': 1}. Best is trial 92 with value: 43.18457078236979.\n",
      "[I 2023-09-11 13:28:45,432] Trial 116 finished with value: 43.643098542309744 and parameters: {'learning_rate': 0.010379767296735664, 'depth': 1, 'subsample': 0.25899928305799674, 'colsample_bylevel': 0.06528873594409026, 'min_data_in_leaf': 92, 'l2_leaf_reg': 8.492096057485139, 'boosting_type': 'Ordered', 'max_ctr_complexity': 2}. Best is trial 92 with value: 43.18457078236979.\n",
      "[I 2023-09-11 13:28:53,388] Trial 117 finished with value: 43.94253190834776 and parameters: {'learning_rate': 0.01005820163671654, 'depth': 2, 'subsample': 0.22733529124916396, 'colsample_bylevel': 0.10605568820517414, 'min_data_in_leaf': 93, 'l2_leaf_reg': 8.48607281818925, 'boosting_type': 'Ordered', 'max_ctr_complexity': 3}. Best is trial 92 with value: 43.18457078236979.\n",
      "[I 2023-09-11 13:29:01,356] Trial 118 finished with value: 44.14311061822727 and parameters: {'learning_rate': 0.010370652192701136, 'depth': 1, 'subsample': 0.18546152219758621, 'colsample_bylevel': 0.05383219181580037, 'min_data_in_leaf': 99, 'l2_leaf_reg': 7.858859031226385, 'boosting_type': 'Ordered', 'max_ctr_complexity': 3}. Best is trial 92 with value: 43.18457078236979.\n",
      "[I 2023-09-11 13:29:25,706] Trial 119 finished with value: 46.025882103380304 and parameters: {'learning_rate': 0.012341538538615273, 'depth': 9, 'subsample': 0.24713546149344, 'colsample_bylevel': 0.18578474048719743, 'min_data_in_leaf': 89, 'l2_leaf_reg': 8.649233394495683, 'boosting_type': 'Plain', 'max_ctr_complexity': 2}. Best is trial 92 with value: 43.18457078236979.\n",
      "[I 2023-09-11 13:29:34,078] Trial 120 finished with value: 43.26245576156527 and parameters: {'learning_rate': 0.01163953824004214, 'depth': 1, 'subsample': 0.3874353257956388, 'colsample_bylevel': 0.13642371825530775, 'min_data_in_leaf': 85, 'l2_leaf_reg': 8.133097798888695, 'boosting_type': 'Ordered', 'max_ctr_complexity': 2}. Best is trial 92 with value: 43.18457078236979.\n",
      "[I 2023-09-11 13:29:42,116] Trial 121 finished with value: 43.457712670372985 and parameters: {'learning_rate': 0.011616507582003971, 'depth': 1, 'subsample': 0.38366739370196534, 'colsample_bylevel': 0.13638932329776202, 'min_data_in_leaf': 86, 'l2_leaf_reg': 8.300628821365502, 'boosting_type': 'Ordered', 'max_ctr_complexity': 2}. Best is trial 92 with value: 43.18457078236979.\n",
      "[I 2023-09-11 13:29:49,748] Trial 122 finished with value: 43.99988016164671 and parameters: {'learning_rate': 0.01158903430997331, 'depth': 1, 'subsample': 0.40803118098876984, 'colsample_bylevel': 0.09052728269283081, 'min_data_in_leaf': 86, 'l2_leaf_reg': 8.328292712832537, 'boosting_type': 'Ordered', 'max_ctr_complexity': 2}. Best is trial 92 with value: 43.18457078236979.\n",
      "[I 2023-09-11 13:29:57,718] Trial 123 finished with value: 44.877822667974904 and parameters: {'learning_rate': 0.013072859053954802, 'depth': 1, 'subsample': 0.34934582033631895, 'colsample_bylevel': 0.12143229028040478, 'min_data_in_leaf': 92, 'l2_leaf_reg': 7.695677391304189, 'boosting_type': 'Ordered', 'max_ctr_complexity': 2}. Best is trial 92 with value: 43.18457078236979.\n",
      "[I 2023-09-11 13:30:07,008] Trial 124 finished with value: 45.04171548117951 and parameters: {'learning_rate': 0.012058624354750183, 'depth': 2, 'subsample': 0.38366499744739885, 'colsample_bylevel': 0.1396128912357891, 'min_data_in_leaf': 88, 'l2_leaf_reg': 8.230159424614797, 'boosting_type': 'Ordered', 'max_ctr_complexity': 2}. Best is trial 92 with value: 43.18457078236979.\n",
      "[I 2023-09-11 13:30:14,061] Trial 125 finished with value: 44.14550142431779 and parameters: {'learning_rate': 0.010693769329516774, 'depth': 1, 'subsample': 0.263601282325739, 'colsample_bylevel': 0.07133978011883203, 'min_data_in_leaf': 85, 'l2_leaf_reg': 6.714231842892769, 'boosting_type': 'Ordered', 'max_ctr_complexity': 1}. Best is trial 92 with value: 43.18457078236979.\n",
      "[I 2023-09-11 13:30:22,400] Trial 126 finished with value: 44.46993791188609 and parameters: {'learning_rate': 0.012375889967961818, 'depth': 2, 'subsample': 0.30069231270750624, 'colsample_bylevel': 0.103875488290665, 'min_data_in_leaf': 77, 'l2_leaf_reg': 8.02613677446075, 'boosting_type': 'Ordered', 'max_ctr_complexity': 2}. Best is trial 92 with value: 43.18457078236979.\n",
      "[I 2023-09-11 13:30:29,553] Trial 127 finished with value: 44.01276981899269 and parameters: {'learning_rate': 0.01387712583087748, 'depth': 1, 'subsample': 0.3267529002594223, 'colsample_bylevel': 0.0836831526802478, 'min_data_in_leaf': 5, 'l2_leaf_reg': 8.654003236399044, 'boosting_type': 'Ordered', 'max_ctr_complexity': 12}. Best is trial 92 with value: 43.18457078236979.\n",
      "[I 2023-09-11 13:30:36,898] Trial 128 finished with value: 45.071645345644185 and parameters: {'learning_rate': 0.011481437036695522, 'depth': 2, 'subsample': 0.37093927013457406, 'colsample_bylevel': 0.052119746408149134, 'min_data_in_leaf': 95, 'l2_leaf_reg': 6.33244419279464, 'boosting_type': 'Ordered', 'max_ctr_complexity': 1}. Best is trial 92 with value: 43.18457078236979.\n",
      "[I 2023-09-11 13:30:45,962] Trial 129 finished with value: 45.72258759139666 and parameters: {'learning_rate': 0.012825918033904943, 'depth': 3, 'subsample': 0.43165322279696305, 'colsample_bylevel': 0.17381543778954975, 'min_data_in_leaf': 52, 'l2_leaf_reg': 9.159182586084729, 'boosting_type': 'Ordered', 'max_ctr_complexity': 0}. Best is trial 92 with value: 43.18457078236979.\n",
      "[I 2023-09-11 13:30:58,269] Trial 130 finished with value: 45.6920180360402 and parameters: {'learning_rate': 0.01079285228959071, 'depth': 5, 'subsample': 0.45279785146798796, 'colsample_bylevel': 0.20587817323838226, 'min_data_in_leaf': 91, 'l2_leaf_reg': 7.055227563575452, 'boosting_type': 'Plain', 'max_ctr_complexity': 2}. Best is trial 92 with value: 43.18457078236979.\n",
      "[I 2023-09-11 13:31:05,644] Trial 131 finished with value: 44.31288856210355 and parameters: {'learning_rate': 0.010020780766691361, 'depth': 1, 'subsample': 0.41922128009837667, 'colsample_bylevel': 0.1217937418329642, 'min_data_in_leaf': 26, 'l2_leaf_reg': 9.603360835319748, 'boosting_type': 'Ordered', 'max_ctr_complexity': 3}. Best is trial 92 with value: 43.18457078236979.\n",
      "[I 2023-09-11 13:31:12,823] Trial 132 finished with value: 43.87496398192427 and parameters: {'learning_rate': 0.011101892761177333, 'depth': 1, 'subsample': 0.3958844716884811, 'colsample_bylevel': 0.14991526698392643, 'min_data_in_leaf': 59, 'l2_leaf_reg': 7.602329280628598, 'boosting_type': 'Ordered', 'max_ctr_complexity': 3}. Best is trial 92 with value: 43.18457078236979.\n",
      "[I 2023-09-11 13:31:19,889] Trial 133 finished with value: 44.48106096322315 and parameters: {'learning_rate': 0.011743635370865172, 'depth': 1, 'subsample': 0.3505674495398882, 'colsample_bylevel': 0.0947201366129253, 'min_data_in_leaf': 87, 'l2_leaf_reg': 10.078754658575056, 'boosting_type': 'Ordered', 'max_ctr_complexity': 2}. Best is trial 92 with value: 43.18457078236979.\n",
      "[I 2023-09-11 13:31:27,108] Trial 134 finished with value: 43.62184388540145 and parameters: {'learning_rate': 0.010579944014484624, 'depth': 1, 'subsample': 0.4920477311018206, 'colsample_bylevel': 0.06934425532755562, 'min_data_in_leaf': 84, 'l2_leaf_reg': 8.393869269297063, 'boosting_type': 'Ordered', 'max_ctr_complexity': 3}. Best is trial 92 with value: 43.18457078236979.\n",
      "[I 2023-09-11 13:31:34,198] Trial 135 finished with value: 43.90771291948649 and parameters: {'learning_rate': 0.010443886393508604, 'depth': 1, 'subsample': 0.4814759763553356, 'colsample_bylevel': 0.06343478728613908, 'min_data_in_leaf': 82, 'l2_leaf_reg': 8.317788276244602, 'boosting_type': 'Ordered', 'max_ctr_complexity': 1}. Best is trial 92 with value: 43.18457078236979.\n",
      "[I 2023-09-11 13:31:41,709] Trial 136 finished with value: 43.993376058701244 and parameters: {'learning_rate': 0.0108831492244934, 'depth': 1, 'subsample': 0.4998568036418097, 'colsample_bylevel': 0.08356703143016452, 'min_data_in_leaf': 84, 'l2_leaf_reg': 8.839549453009901, 'boosting_type': 'Ordered', 'max_ctr_complexity': 2}. Best is trial 92 with value: 43.18457078236979.\n",
      "[I 2023-09-11 13:31:49,345] Trial 137 finished with value: 43.9310553231925 and parameters: {'learning_rate': 0.012107719618225269, 'depth': 2, 'subsample': 0.522959934239929, 'colsample_bylevel': 0.05028188190031555, 'min_data_in_leaf': 78, 'l2_leaf_reg': 7.899839357915453, 'boosting_type': 'Ordered', 'max_ctr_complexity': 3}. Best is trial 92 with value: 43.18457078236979.\n",
      "[I 2023-09-11 13:31:56,402] Trial 138 finished with value: 43.79967293112915 and parameters: {'learning_rate': 0.013301027011265405, 'depth': 1, 'subsample': 0.3303948298687302, 'colsample_bylevel': 0.1125375343053869, 'min_data_in_leaf': 12, 'l2_leaf_reg': 9.355874441649872, 'boosting_type': 'Ordered', 'max_ctr_complexity': 4}. Best is trial 92 with value: 43.18457078236979.\n",
      "[I 2023-09-11 13:32:03,736] Trial 139 finished with value: 44.38707364790696 and parameters: {'learning_rate': 0.011272674134445713, 'depth': 2, 'subsample': 0.4425154646634367, 'colsample_bylevel': 0.07419975843797182, 'min_data_in_leaf': 75, 'l2_leaf_reg': 8.10769262310963, 'boosting_type': 'Ordered', 'max_ctr_complexity': 1}. Best is trial 92 with value: 43.18457078236979.\n",
      "[I 2023-09-11 13:32:08,628] Trial 140 finished with value: 44.24806671346748 and parameters: {'learning_rate': 0.010479775506334952, 'depth': 1, 'subsample': 0.5736538488956097, 'colsample_bylevel': 0.13100008371003552, 'min_data_in_leaf': 97, 'l2_leaf_reg': 8.446992454950342, 'boosting_type': 'Plain', 'max_ctr_complexity': 5}. Best is trial 92 with value: 43.18457078236979.\n",
      "[I 2023-09-11 13:32:15,703] Trial 141 finished with value: 43.790189520792595 and parameters: {'learning_rate': 0.010366779305760783, 'depth': 1, 'subsample': 0.38337077231467237, 'colsample_bylevel': 0.1010050157955388, 'min_data_in_leaf': 80, 'l2_leaf_reg': 8.993007153676025, 'boosting_type': 'Ordered', 'max_ctr_complexity': 3}. Best is trial 92 with value: 43.18457078236979.\n",
      "[I 2023-09-11 13:32:22,648] Trial 142 finished with value: 43.794226638305915 and parameters: {'learning_rate': 0.011598785679859476, 'depth': 1, 'subsample': 0.36817011526133586, 'colsample_bylevel': 0.0680741553631524, 'min_data_in_leaf': 88, 'l2_leaf_reg': 11.260709162804066, 'boosting_type': 'Ordered', 'max_ctr_complexity': 3}. Best is trial 92 with value: 43.18457078236979.\n",
      "[I 2023-09-11 13:32:30,115] Trial 143 finished with value: 44.28622918058832 and parameters: {'learning_rate': 0.010000761474802791, 'depth': 1, 'subsample': 0.4702845698922189, 'colsample_bylevel': 0.2458045990675282, 'min_data_in_leaf': 91, 'l2_leaf_reg': 10.886550233326673, 'boosting_type': 'Ordered', 'max_ctr_complexity': 2}. Best is trial 92 with value: 43.18457078236979.\n",
      "[I 2023-09-11 13:32:47,688] Trial 144 finished with value: 45.80796406475608 and parameters: {'learning_rate': 0.010742362939463722, 'depth': 6, 'subsample': 0.40828012070049896, 'colsample_bylevel': 0.16068064706635554, 'min_data_in_leaf': 38, 'l2_leaf_reg': 7.43555029556066, 'boosting_type': 'Ordered', 'max_ctr_complexity': 3}. Best is trial 92 with value: 43.18457078236979.\n",
      "[I 2023-09-11 13:32:54,628] Trial 145 finished with value: 43.986997446145054 and parameters: {'learning_rate': 0.012513299051346448, 'depth': 1, 'subsample': 0.28886614140141864, 'colsample_bylevel': 0.11261036943059158, 'min_data_in_leaf': 49, 'l2_leaf_reg': 11.55345022617447, 'boosting_type': 'Ordered', 'max_ctr_complexity': 2}. Best is trial 92 with value: 43.18457078236979.\n",
      "[I 2023-09-11 13:33:01,823] Trial 146 finished with value: 44.14721723517495 and parameters: {'learning_rate': 0.011228226757003624, 'depth': 2, 'subsample': 0.3132851965000768, 'colsample_bylevel': 0.08954646809621362, 'min_data_in_leaf': 94, 'l2_leaf_reg': 10.401732044982685, 'boosting_type': 'Ordered', 'max_ctr_complexity': 1}. Best is trial 92 with value: 43.18457078236979.\n",
      "[I 2023-09-11 13:33:08,845] Trial 147 finished with value: 43.755959919459464 and parameters: {'learning_rate': 0.011866457153841561, 'depth': 1, 'subsample': 0.42432945039164627, 'colsample_bylevel': 0.06733653639337571, 'min_data_in_leaf': 86, 'l2_leaf_reg': 7.655200099313641, 'boosting_type': 'Ordered', 'max_ctr_complexity': 4}. Best is trial 92 with value: 43.18457078236979.\n",
      "[I 2023-09-11 13:33:15,765] Trial 148 finished with value: 43.67286302824111 and parameters: {'learning_rate': 0.012106296493590003, 'depth': 1, 'subsample': 0.3443194843173499, 'colsample_bylevel': 0.0677649630850967, 'min_data_in_leaf': 86, 'l2_leaf_reg': 7.864694467272881, 'boosting_type': 'Ordered', 'max_ctr_complexity': 5}. Best is trial 92 with value: 43.18457078236979.\n",
      "[I 2023-09-11 13:33:20,620] Trial 149 finished with value: 44.644466649930344 and parameters: {'learning_rate': 0.020253608757019592, 'depth': 2, 'subsample': 0.3456126130457116, 'colsample_bylevel': 0.05070835969926625, 'min_data_in_leaf': 89, 'l2_leaf_reg': 7.168927599271889, 'boosting_type': 'Plain', 'max_ctr_complexity': 6}. Best is trial 92 with value: 43.18457078236979.\n",
      "[I 2023-09-11 13:33:27,559] Trial 150 finished with value: 44.15206402347876 and parameters: {'learning_rate': 0.01475297095924456, 'depth': 1, 'subsample': 0.3006648624378886, 'colsample_bylevel': 0.0885616639394646, 'min_data_in_leaf': 84, 'l2_leaf_reg': 7.871309066077534, 'boosting_type': 'Ordered', 'max_ctr_complexity': 7}. Best is trial 92 with value: 43.18457078236979.\n",
      "[I 2023-09-11 13:33:34,583] Trial 151 finished with value: 44.1264680995332 and parameters: {'learning_rate': 0.012027635757519691, 'depth': 1, 'subsample': 0.38805221144470925, 'colsample_bylevel': 0.07023759914122245, 'min_data_in_leaf': 86, 'l2_leaf_reg': 7.668889365360321, 'boosting_type': 'Ordered', 'max_ctr_complexity': 4}. Best is trial 92 with value: 43.18457078236979.\n",
      "[I 2023-09-11 13:33:41,898] Trial 152 finished with value: 44.91487622487906 and parameters: {'learning_rate': 0.012875585850362352, 'depth': 1, 'subsample': 0.3362340667856616, 'colsample_bylevel': 0.28923780390750164, 'min_data_in_leaf': 87, 'l2_leaf_reg': 8.248083500240936, 'boosting_type': 'Ordered', 'max_ctr_complexity': 5}. Best is trial 92 with value: 43.18457078236979.\n",
      "[I 2023-09-11 13:33:48,714] Trial 153 finished with value: 44.121118476862605 and parameters: {'learning_rate': 0.011701090459813558, 'depth': 1, 'subsample': 0.26588020344340085, 'colsample_bylevel': 0.07043966181172681, 'min_data_in_leaf': 81, 'l2_leaf_reg': 8.577953914157886, 'boosting_type': 'Ordered', 'max_ctr_complexity': 4}. Best is trial 92 with value: 43.18457078236979.\n",
      "[I 2023-09-11 13:33:56,105] Trial 154 finished with value: 44.42860063449301 and parameters: {'learning_rate': 0.0110371289236826, 'depth': 1, 'subsample': 0.552787459639077, 'colsample_bylevel': 0.10729417988195028, 'min_data_in_leaf': 93, 'l2_leaf_reg': 7.3891839006238085, 'boosting_type': 'Ordered', 'max_ctr_complexity': 4}. Best is trial 92 with value: 43.18457078236979.\n",
      "[I 2023-09-11 13:34:03,729] Trial 155 finished with value: 45.795337798807445 and parameters: {'learning_rate': 0.012321620361025666, 'depth': 1, 'subsample': 0.3585701199341227, 'colsample_bylevel': 0.5784464015237081, 'min_data_in_leaf': 90, 'l2_leaf_reg': 8.047618451794206, 'boosting_type': 'Ordered', 'max_ctr_complexity': 4}. Best is trial 92 with value: 43.18457078236979.\n",
      "[I 2023-09-11 13:34:11,642] Trial 156 finished with value: 45.85024888968862 and parameters: {'learning_rate': 0.02179311020002633, 'depth': 2, 'subsample': 0.23253570304736332, 'colsample_bylevel': 0.13190516419244597, 'min_data_in_leaf': 83, 'l2_leaf_reg': 7.678669914496486, 'boosting_type': 'Ordered', 'max_ctr_complexity': 5}. Best is trial 92 with value: 43.18457078236979.\n",
      "[I 2023-09-11 13:34:19,176] Trial 157 finished with value: 46.66621663475728 and parameters: {'learning_rate': 0.018836475212831393, 'depth': 1, 'subsample': 0.4242172862774064, 'colsample_bylevel': 0.3813744426325086, 'min_data_in_leaf': 85, 'l2_leaf_reg': 6.69316538692571, 'boosting_type': 'Ordered', 'max_ctr_complexity': 0}. Best is trial 92 with value: 43.18457078236979.\n",
      "[I 2023-09-11 13:34:26,635] Trial 158 finished with value: 44.14848022569647 and parameters: {'learning_rate': 0.01353539006648546, 'depth': 1, 'subsample': 0.6193516727525136, 'colsample_bylevel': 0.08387144487881712, 'min_data_in_leaf': 79, 'l2_leaf_reg': 12.085403916122349, 'boosting_type': 'Ordered', 'max_ctr_complexity': 1}. Best is trial 92 with value: 43.18457078236979.\n",
      "[I 2023-09-11 13:34:36,059] Trial 159 finished with value: 45.90236794021521 and parameters: {'learning_rate': 0.011504497905170646, 'depth': 2, 'subsample': 0.27866666476489843, 'colsample_bylevel': 0.33745397507740743, 'min_data_in_leaf': 76, 'l2_leaf_reg': 7.12879427611712, 'boosting_type': 'Ordered', 'max_ctr_complexity': 5}. Best is trial 92 with value: 43.18457078236979.\n",
      "[I 2023-09-11 13:34:40,758] Trial 160 finished with value: 44.05117181510798 and parameters: {'learning_rate': 0.010570764434807998, 'depth': 1, 'subsample': 0.507732286004584, 'colsample_bylevel': 0.06489630907806238, 'min_data_in_leaf': 72, 'l2_leaf_reg': 12.419295405278381, 'boosting_type': 'Plain', 'max_ctr_complexity': 2}. Best is trial 92 with value: 43.18457078236979.\n",
      "[I 2023-09-11 13:34:47,860] Trial 161 finished with value: 44.33012351045997 and parameters: {'learning_rate': 0.01100648710961437, 'depth': 1, 'subsample': 0.4559519994598938, 'colsample_bylevel': 0.10053776380605339, 'min_data_in_leaf': 87, 'l2_leaf_reg': 8.470551762075102, 'boosting_type': 'Ordered', 'max_ctr_complexity': 3}. Best is trial 92 with value: 43.18457078236979.\n",
      "[I 2023-09-11 13:34:55,068] Trial 162 finished with value: 43.74496795735511 and parameters: {'learning_rate': 0.010015977498212763, 'depth': 1, 'subsample': 0.4088774481164778, 'colsample_bylevel': 0.1431190273274385, 'min_data_in_leaf': 34, 'l2_leaf_reg': 7.833044958365292, 'boosting_type': 'Ordered', 'max_ctr_complexity': 3}. Best is trial 92 with value: 43.18457078236979.\n",
      "[I 2023-09-11 13:35:02,011] Trial 163 finished with value: 44.25700683326146 and parameters: {'learning_rate': 0.01039360538940296, 'depth': 1, 'subsample': 0.3957991619774124, 'colsample_bylevel': 0.050745340750200776, 'min_data_in_leaf': 91, 'l2_leaf_reg': 7.825573379091973, 'boosting_type': 'Ordered', 'max_ctr_complexity': 3}. Best is trial 92 with value: 43.18457078236979.\n",
      "[I 2023-09-11 13:35:09,111] Trial 164 finished with value: 44.192876589053 and parameters: {'learning_rate': 0.0118860295210682, 'depth': 1, 'subsample': 0.3728803741956806, 'colsample_bylevel': 0.12317235183764419, 'min_data_in_leaf': 89, 'l2_leaf_reg': 7.497831210114426, 'boosting_type': 'Ordered', 'max_ctr_complexity': 2}. Best is trial 92 with value: 43.18457078236979.\n",
      "[I 2023-09-11 13:35:16,931] Trial 165 finished with value: 44.07650019616592 and parameters: {'learning_rate': 0.010826587515473428, 'depth': 2, 'subsample': 0.4133868469293468, 'colsample_bylevel': 0.08555052907336638, 'min_data_in_leaf': 33, 'l2_leaf_reg': 6.893536075570918, 'boosting_type': 'Ordered', 'max_ctr_complexity': 4}. Best is trial 92 with value: 43.18457078236979.\n",
      "[I 2023-09-11 13:35:24,122] Trial 166 finished with value: 45.193433578948586 and parameters: {'learning_rate': 0.011360422891968402, 'depth': 1, 'subsample': 0.3185303138188699, 'colsample_bylevel': 0.22037590494213566, 'min_data_in_leaf': 42, 'l2_leaf_reg': 8.014906262515053, 'boosting_type': 'Ordered', 'max_ctr_complexity': 2}. Best is trial 92 with value: 43.18457078236979.\n",
      "[I 2023-09-11 13:35:31,773] Trial 167 finished with value: 44.93346909942375 and parameters: {'learning_rate': 0.012831536172197986, 'depth': 1, 'subsample': 0.4438958972033279, 'colsample_bylevel': 0.46075461490866676, 'min_data_in_leaf': 79, 'l2_leaf_reg': 8.792811281285264, 'boosting_type': 'Ordered', 'max_ctr_complexity': 3}. Best is trial 92 with value: 43.18457078236979.\n",
      "[I 2023-09-11 13:35:39,272] Trial 168 finished with value: 44.760621093121806 and parameters: {'learning_rate': 0.010001458205809196, 'depth': 2, 'subsample': 0.35832747166940326, 'colsample_bylevel': 0.14199713496547497, 'min_data_in_leaf': 45, 'l2_leaf_reg': 8.226298711053227, 'boosting_type': 'Ordered', 'max_ctr_complexity': 1}. Best is trial 92 with value: 43.18457078236979.\n",
      "[I 2023-09-11 13:35:46,303] Trial 169 finished with value: 43.796921637485696 and parameters: {'learning_rate': 0.01221045841834376, 'depth': 1, 'subsample': 0.3349619479780893, 'colsample_bylevel': 0.10980163034052057, 'min_data_in_leaf': 15, 'l2_leaf_reg': 7.662354366834119, 'boosting_type': 'Ordered', 'max_ctr_complexity': 5}. Best is trial 92 with value: 43.18457078236979.\n",
      "[I 2023-09-11 13:35:51,634] Trial 170 finished with value: 44.69794938965548 and parameters: {'learning_rate': 0.01586664872477276, 'depth': 2, 'subsample': 0.4880730814787663, 'colsample_bylevel': 0.07487529767937684, 'min_data_in_leaf': 22, 'l2_leaf_reg': 7.360288126579588, 'boosting_type': 'Plain', 'max_ctr_complexity': 2}. Best is trial 92 with value: 43.18457078236979.\n",
      "[I 2023-09-11 13:35:59,533] Trial 171 finished with value: 44.103940533863664 and parameters: {'learning_rate': 0.01049538172362654, 'depth': 1, 'subsample': 0.4263644691849845, 'colsample_bylevel': 0.09931138264065015, 'min_data_in_leaf': 36, 'l2_leaf_reg': 8.398538662611289, 'boosting_type': 'Ordered', 'max_ctr_complexity': 3}. Best is trial 92 with value: 43.18457078236979.\n",
      "[I 2023-09-11 13:36:06,983] Trial 172 finished with value: 44.37830499019584 and parameters: {'learning_rate': 0.011062475242211059, 'depth': 1, 'subsample': 0.3996368911258769, 'colsample_bylevel': 0.06443919472892651, 'min_data_in_leaf': 39, 'l2_leaf_reg': 8.043781879445424, 'boosting_type': 'Ordered', 'max_ctr_complexity': 3}. Best is trial 92 with value: 43.18457078236979.\n",
      "[I 2023-09-11 13:36:14,220] Trial 173 finished with value: 44.17639266903873 and parameters: {'learning_rate': 0.010439523803219098, 'depth': 1, 'subsample': 0.38417456483117934, 'colsample_bylevel': 0.14865055986845457, 'min_data_in_leaf': 82, 'l2_leaf_reg': 11.103441433780192, 'boosting_type': 'Ordered', 'max_ctr_complexity': 2}. Best is trial 92 with value: 43.18457078236979.\n",
      "[I 2023-09-11 13:36:21,534] Trial 174 finished with value: 44.34734871101702 and parameters: {'learning_rate': 0.011666788479496005, 'depth': 1, 'subsample': 0.41583382109112627, 'colsample_bylevel': 0.19213515607473713, 'min_data_in_leaf': 85, 'l2_leaf_reg': 11.798155927433811, 'boosting_type': 'Ordered', 'max_ctr_complexity': 3}. Best is trial 92 with value: 43.18457078236979.\n",
      "[I 2023-09-11 13:36:29,287] Trial 175 finished with value: 45.949971876710364 and parameters: {'learning_rate': 0.024476631090076507, 'depth': 1, 'subsample': 0.46263690407470964, 'colsample_bylevel': 0.5069375083819194, 'min_data_in_leaf': 34, 'l2_leaf_reg': 10.690898583816894, 'boosting_type': 'Ordered', 'max_ctr_complexity': 4}. Best is trial 92 with value: 43.18457078236979.\n",
      "[I 2023-09-11 13:36:36,516] Trial 176 finished with value: 45.00838670127646 and parameters: {'learning_rate': 0.010028294656143525, 'depth': 1, 'subsample': 0.2945977149024465, 'colsample_bylevel': 0.2688982992424291, 'min_data_in_leaf': 27, 'l2_leaf_reg': 9.792492995739634, 'boosting_type': 'Ordered', 'max_ctr_complexity': 1}. Best is trial 92 with value: 43.18457078236979.\n",
      "[I 2023-09-11 13:36:43,667] Trial 177 finished with value: 45.61656097945659 and parameters: {'learning_rate': 0.032277886508413525, 'depth': 2, 'subsample': 0.2538817685050984, 'colsample_bylevel': 0.05055816459082202, 'min_data_in_leaf': 92, 'l2_leaf_reg': 8.708268131548644, 'boosting_type': 'Ordered', 'max_ctr_complexity': 2}. Best is trial 92 with value: 43.18457078236979.\n",
      "[I 2023-09-11 13:36:50,736] Trial 178 finished with value: 44.055852007838 and parameters: {'learning_rate': 0.010926968797110631, 'depth': 1, 'subsample': 0.3677755830383292, 'colsample_bylevel': 0.1244788937947953, 'min_data_in_leaf': 1, 'l2_leaf_reg': 7.8180276703579565, 'boosting_type': 'Ordered', 'max_ctr_complexity': 0}. Best is trial 92 with value: 43.18457078236979.\n",
      "[I 2023-09-11 13:36:58,059] Trial 179 finished with value: 43.84507532114405 and parameters: {'learning_rate': 0.011540002962249022, 'depth': 1, 'subsample': 0.5289321851565132, 'colsample_bylevel': 0.09086407933438236, 'min_data_in_leaf': 31, 'l2_leaf_reg': 11.438755773978603, 'boosting_type': 'Ordered', 'max_ctr_complexity': 3}. Best is trial 92 with value: 43.18457078236979.\n",
      "[I 2023-09-11 13:37:03,110] Trial 180 finished with value: 44.61453879837503 and parameters: {'learning_rate': 0.012504797976726807, 'depth': 2, 'subsample': 0.43291023083018293, 'colsample_bylevel': 0.16140652472868525, 'min_data_in_leaf': 88, 'l2_leaf_reg': 7.147468177107255, 'boosting_type': 'Plain', 'max_ctr_complexity': 1}. Best is trial 92 with value: 43.18457078236979.\n",
      "[I 2023-09-11 13:37:09,941] Trial 181 finished with value: 44.892912419086436 and parameters: {'learning_rate': 0.0399426192576525, 'depth': 1, 'subsample': 0.27495478250116673, 'colsample_bylevel': 0.07431519319215481, 'min_data_in_leaf': 82, 'l2_leaf_reg': 7.398206082900655, 'boosting_type': 'Ordered', 'max_ctr_complexity': 1}. Best is trial 92 with value: 43.18457078236979.\n",
      "[I 2023-09-11 13:37:16,950] Trial 182 finished with value: 43.8890966094208 and parameters: {'learning_rate': 0.011278754158709919, 'depth': 1, 'subsample': 0.3102044699356842, 'colsample_bylevel': 0.07924577224085882, 'min_data_in_leaf': 80, 'l2_leaf_reg': 7.607044290235337, 'boosting_type': 'Ordered', 'max_ctr_complexity': 1}. Best is trial 92 with value: 43.18457078236979.\n",
      "[I 2023-09-11 13:37:23,889] Trial 183 finished with value: 44.118346327575004 and parameters: {'learning_rate': 0.010795588789193726, 'depth': 1, 'subsample': 0.28671275959449344, 'colsample_bylevel': 0.10676417729252649, 'min_data_in_leaf': 84, 'l2_leaf_reg': 8.208328501286877, 'boosting_type': 'Ordered', 'max_ctr_complexity': 2}. Best is trial 92 with value: 43.18457078236979.\n",
      "[I 2023-09-11 13:37:30,657] Trial 184 finished with value: 44.186728583789765 and parameters: {'learning_rate': 0.027243825642033467, 'depth': 1, 'subsample': 0.21654378794756113, 'colsample_bylevel': 0.06588894136404823, 'min_data_in_leaf': 94, 'l2_leaf_reg': 6.888355852477928, 'boosting_type': 'Ordered', 'max_ctr_complexity': 0}. Best is trial 92 with value: 43.18457078236979.\n",
      "[I 2023-09-11 13:37:37,448] Trial 185 finished with value: 44.61721432068156 and parameters: {'learning_rate': 0.012047478068496296, 'depth': 1, 'subsample': 0.2511733480108794, 'colsample_bylevel': 0.05043291290994342, 'min_data_in_leaf': 66, 'l2_leaf_reg': 7.302898931202277, 'boosting_type': 'Ordered', 'max_ctr_complexity': 1}. Best is trial 92 with value: 43.18457078236979.\n",
      "[I 2023-09-11 13:37:44,369] Trial 186 finished with value: 43.87634038122315 and parameters: {'learning_rate': 0.010413050880193805, 'depth': 1, 'subsample': 0.32560944878308723, 'colsample_bylevel': 0.085886094538842, 'min_data_in_leaf': 57, 'l2_leaf_reg': 10.156975091972647, 'boosting_type': 'Ordered', 'max_ctr_complexity': 2}. Best is trial 92 with value: 43.18457078236979.\n",
      "[I 2023-09-11 13:37:51,459] Trial 187 finished with value: 44.22106063704984 and parameters: {'learning_rate': 0.011257933652306776, 'depth': 1, 'subsample': 0.3531718927807475, 'colsample_bylevel': 0.1169154917414896, 'min_data_in_leaf': 74, 'l2_leaf_reg': 9.221803336312822, 'boosting_type': 'Ordered', 'max_ctr_complexity': 1}. Best is trial 92 with value: 43.18457078236979.\n",
      "[I 2023-09-11 13:37:59,106] Trial 188 finished with value: 44.06677904344338 and parameters: {'learning_rate': 0.010813555048142326, 'depth': 2, 'subsample': 0.23842969766175484, 'colsample_bylevel': 0.09772482417967895, 'min_data_in_leaf': 81, 'l2_leaf_reg': 7.905785320083376, 'boosting_type': 'Ordered', 'max_ctr_complexity': 2}. Best is trial 92 with value: 43.18457078236979.\n",
      "[I 2023-09-11 13:38:06,258] Trial 189 finished with value: 43.370761671621196 and parameters: {'learning_rate': 0.010018015221868395, 'depth': 1, 'subsample': 0.3866014084999723, 'colsample_bylevel': 0.13744563195868997, 'min_data_in_leaf': 37, 'l2_leaf_reg': 8.326774387993469, 'boosting_type': 'Ordered', 'max_ctr_complexity': 2}. Best is trial 92 with value: 43.18457078236979.\n",
      "[I 2023-09-11 13:38:20,398] Trial 190 finished with value: 45.64317425880331 and parameters: {'learning_rate': 0.010011331416368502, 'depth': 5, 'subsample': 0.3992331290298147, 'colsample_bylevel': 0.13854869323473418, 'min_data_in_leaf': 35, 'l2_leaf_reg': 8.462596181589205, 'boosting_type': 'Ordered', 'max_ctr_complexity': 3}. Best is trial 92 with value: 43.18457078236979.\n",
      "[I 2023-09-11 13:38:27,396] Trial 191 finished with value: 44.3234214633507 and parameters: {'learning_rate': 0.010423020086320855, 'depth': 1, 'subsample': 0.3832660972116794, 'colsample_bylevel': 0.07137067664723541, 'min_data_in_leaf': 40, 'l2_leaf_reg': 8.264332095589877, 'boosting_type': 'Ordered', 'max_ctr_complexity': 2}. Best is trial 92 with value: 43.18457078236979.\n",
      "[I 2023-09-11 13:38:34,539] Trial 192 finished with value: 44.311625611980354 and parameters: {'learning_rate': 0.011364056187970557, 'depth': 1, 'subsample': 0.3409610183862221, 'colsample_bylevel': 0.16964014341818257, 'min_data_in_leaf': 87, 'l2_leaf_reg': 8.858734215240396, 'boosting_type': 'Ordered', 'max_ctr_complexity': 2}. Best is trial 92 with value: 43.18457078236979.\n",
      "[I 2023-09-11 13:38:42,486] Trial 193 finished with value: 46.12410551140547 and parameters: {'learning_rate': 0.011928642582569158, 'depth': 1, 'subsample': 0.44111260247036277, 'colsample_bylevel': 0.7099294417221212, 'min_data_in_leaf': 38, 'l2_leaf_reg': 7.809705716198315, 'boosting_type': 'Ordered', 'max_ctr_complexity': 4}. Best is trial 92 with value: 43.18457078236979.\n",
      "[I 2023-09-11 13:38:49,631] Trial 194 finished with value: 44.77099293848966 and parameters: {'learning_rate': 0.010824551088347534, 'depth': 1, 'subsample': 0.4156122739439921, 'colsample_bylevel': 0.12161033519267529, 'min_data_in_leaf': 37, 'l2_leaf_reg': 8.08159344919802, 'boosting_type': 'Ordered', 'max_ctr_complexity': 1}. Best is trial 92 with value: 43.18457078236979.\n",
      "[I 2023-09-11 13:38:56,677] Trial 195 finished with value: 44.64617465789516 and parameters: {'learning_rate': 0.016969708369999715, 'depth': 1, 'subsample': 0.37527556031724624, 'colsample_bylevel': 0.09226131502314512, 'min_data_in_leaf': 42, 'l2_leaf_reg': 8.638045650897949, 'boosting_type': 'Ordered', 'max_ctr_complexity': 2}. Best is trial 92 with value: 43.18457078236979.\n",
      "[I 2023-09-11 13:39:01,299] Trial 196 finished with value: 43.893991757353845 and parameters: {'learning_rate': 0.010418516052612254, 'depth': 1, 'subsample': 0.4754197682139624, 'colsample_bylevel': 0.0669863131286005, 'min_data_in_leaf': 90, 'l2_leaf_reg': 9.020352597811554, 'boosting_type': 'Plain', 'max_ctr_complexity': 3}. Best is trial 92 with value: 43.18457078236979.\n",
      "[I 2023-09-11 13:39:08,214] Trial 197 finished with value: 44.1459840465453 and parameters: {'learning_rate': 0.01122083747511339, 'depth': 1, 'subsample': 0.26971720891678086, 'colsample_bylevel': 0.10132984031900455, 'min_data_in_leaf': 32, 'l2_leaf_reg': 7.546942598455244, 'boosting_type': 'Ordered', 'max_ctr_complexity': 14}. Best is trial 92 with value: 43.18457078236979.\n",
      "[I 2023-09-11 13:39:16,501] Trial 198 finished with value: 45.22849749578023 and parameters: {'learning_rate': 0.012849096471436434, 'depth': 2, 'subsample': 0.3559311816506457, 'colsample_bylevel': 0.1392684533543531, 'min_data_in_leaf': 86, 'l2_leaf_reg': 6.429975725456411, 'boosting_type': 'Ordered', 'max_ctr_complexity': 2}. Best is trial 92 with value: 43.18457078236979.\n",
      "[I 2023-09-11 13:39:23,414] Trial 199 finished with value: 43.50067501792447 and parameters: {'learning_rate': 0.011841298741638383, 'depth': 1, 'subsample': 0.30339001328874504, 'colsample_bylevel': 0.07976618132620474, 'min_data_in_leaf': 78, 'l2_leaf_reg': 11.651033970581258, 'boosting_type': 'Ordered', 'max_ctr_complexity': 6}. Best is trial 92 with value: 43.18457078236979.\n"
     ]
    }
   ],
   "source": [
    "def objective(trial):\n",
    "    params = {\n",
    "        \"iterations\": 1000,\n",
    "        \"learning_rate\": trial.suggest_float(\"learning_rate\", 1e-2, 0.1, log=True),\n",
    "        \"depth\": trial.suggest_int(\"depth\", 1, 10),\n",
    "        \"subsample\": trial.suggest_float(\"subsample\", 0.05, 1.0),\n",
    "        \"colsample_bylevel\": trial.suggest_float(\"colsample_bylevel\", 0.05, 1.0),\n",
    "        \"min_data_in_leaf\": trial.suggest_int(\"min_data_in_leaf\", 1, 100),\n",
    "        'l2_leaf_reg': trial.suggest_float('l2_leaf_reg', 1, 14),\n",
    "        'boosting_type': trial.suggest_categorical('boosting_type', ['Ordered', 'Plain']),\n",
    "        'max_ctr_complexity': trial.suggest_int('max_ctr_complexity', 0, 14)\n",
    "    }\n",
    "\n",
    "    model = CatBoostRegressor(**params, random_seed=42,silent=True)\n",
    "    model.fit(cat_train_pool, verbose=0, eval_set=cat_val_pool)\n",
    "    y_pred = model.predict(cat_val_pool)\n",
    "    return eval_metric(cat_val_pool.get_label(), y_pred, 'MAPE')\n",
    "\n",
    "sampler = TPESampler(seed=123)\n",
    "study = optuna.create_study(direction='minimize', sampler=sampler)\n",
    "study.optimize(objective, n_trials=200,show_progress_bar = True)"
   ]
  },
  {
   "cell_type": "code",
   "execution_count": 63,
   "metadata": {},
   "outputs": [
    {
     "data": {
      "text/plain": [
       "([0.15302356206690831],\n",
       " {'learning_rate': 0.010891390017107478,\n",
       "  'depth': 1,\n",
       "  'subsample': 0.2995218749648715,\n",
       "  'colsample_bylevel': 0.0675127793103688,\n",
       "  'min_data_in_leaf': 73,\n",
       "  'l2_leaf_reg': 7.573543939167165,\n",
       "  'boosting_type': 'Ordered',\n",
       "  'max_ctr_complexity': 1})"
      ]
     },
     "execution_count": 63,
     "metadata": {},
     "output_type": "execute_result"
    }
   ],
   "source": [
    "calc_test_quality(train_pool=cat_train_pool,\n",
    "                  val_pool=cat_val_pool,\n",
    "                  test_pool=cat_test_pool,\n",
    "                  **study.best_params), study.best_params"
   ]
  },
  {
   "cell_type": "code",
   "execution_count": 64,
   "metadata": {},
   "outputs": [],
   "source": [
    "best_params_optuna = best_df = pd.DataFrame([study.best_params])\n",
    "best_df.to_csv(path + \"/Dataset/best_params_optuna.csv\",index=False)"
   ]
  },
  {
   "cell_type": "code",
   "execution_count": 53,
   "metadata": {},
   "outputs": [],
   "source": [
    "# def hyperopt_objective(params):\n",
    "#     print(params)\n",
    "#     model = CatBoostRegressor(**params, random_seed=42,n_estimators=1000)\n",
    "#     model.fit(cat_train_pool, verbose=0, eval_set=cat_val_pool,early_stopping_rounds=10)\n",
    "#     y_pred = model.predict(cat_val_pool)\n",
    "#     return eval_metric(cat_val_pool.get_label(), y_pred, 'MAPE')[0]\n",
    "\n",
    "# space = {\n",
    "#     'learning_rate': hp.uniform('learning_rate', 0.01, 0.1),\n",
    "#     'depth': hp.randint('depth',14),\n",
    "#     'l2_leaf_reg': hp.uniform('l2_leaf_reg', 1, 14),\n",
    "#     'boosting_type': hp.choice('boosting_type', ['Ordered', 'Plain']),\n",
    "#     'max_ctr_complexity': hp.randint('max_ctr_complexity',14),\n",
    "#     \"subsample\": hp.uniform(\"subsample\", 0.05, 1.0),\n",
    "#     \"colsample_bylevel\": hp.uniform(\"colsample_bylevel\", 0.05, 1.0),\n",
    "#     \"min_data_in_leaf\": hp.uniform(\"min_data_in_leaf\", 1, 100),\n",
    "# }\n",
    "\n",
    "# best = fmin(hyperopt_objective,\n",
    "#     space=space,\n",
    "#     algo=tpe.suggest,\n",
    "#     max_evals=100,\n",
    "#     rstate= np.random.seed(123))"
   ]
  },
  {
   "cell_type": "code",
   "execution_count": 54,
   "metadata": {},
   "outputs": [],
   "source": [
    "# best_params = best.copy()\n",
    "# best_params['boosting_type'] = 'Plain' if best['boosting_type'] == 1 else 'Ordered'\n",
    "# calc_test_quality(train_pool=cat_train_pool,\n",
    "#                   val_pool=cat_val_pool,\n",
    "#                   test_pool=cat_test_pool,\n",
    "#                   **best_params), best_params\n"
   ]
  },
  {
   "cell_type": "code",
   "execution_count": 55,
   "metadata": {},
   "outputs": [],
   "source": [
    "# best_params"
   ]
  },
  {
   "cell_type": "code",
   "execution_count": 56,
   "metadata": {},
   "outputs": [],
   "source": [
    "# best_df = pd.DataFrame([best_params])\n",
    "# best_df.to_csv(path + \"/Dataset/best_params_hyperopt.csv\",index=False)"
   ]
  },
  {
   "cell_type": "code",
   "execution_count": null,
   "metadata": {},
   "outputs": [],
   "source": []
  },
  {
   "cell_type": "code",
   "execution_count": null,
   "metadata": {},
   "outputs": [],
   "source": []
  }
 ],
 "metadata": {
  "kernelspec": {
   "display_name": "broko",
   "language": "python",
   "name": "python3"
  },
  "language_info": {
   "codemirror_mode": {
    "name": "ipython",
    "version": 3
   },
   "file_extension": ".py",
   "mimetype": "text/x-python",
   "name": "python",
   "nbconvert_exporter": "python",
   "pygments_lexer": "ipython3",
   "version": "3.11.5"
  },
  "orig_nbformat": 4
 },
 "nbformat": 4,
 "nbformat_minor": 2
}
