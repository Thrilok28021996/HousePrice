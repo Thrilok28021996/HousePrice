{
 "cells": [
  {
   "cell_type": "code",
   "execution_count": 69,
   "metadata": {},
   "outputs": [],
   "source": [
    "import optuna\n",
    "import pandas as pd\n",
    "import numpy as np\n",
    "from sklearn.model_selection import train_test_split\n",
    "from xgboost import XGBRegressor\n",
    "from sklearn.metrics import mean_absolute_percentage_error as MAPE\n",
    "from sklearn.preprocessing import LabelEncoder\n",
    "import os, warnings\n",
    "warnings.simplefilter(\"ignore\") # Change the filter in this process\n",
    "os.environ[\"PYTHONWARNINGS\"] = \"ignore\""
   ]
  },
  {
   "cell_type": "code",
   "execution_count": 70,
   "metadata": {},
   "outputs": [
    {
     "name": "stdout",
     "output_type": "stream",
     "text": [
      "<class 'pandas.core.frame.DataFrame'>\n",
      "RangeIndex: 181512 entries, 0 to 181511\n",
      "Data columns (total 25 columns):\n",
      " #   Column          Non-Null Count   Dtype  \n",
      "---  ------          --------------   -----  \n",
      " 0   ML_Number       181490 non-null  object \n",
      " 1   Area            181490 non-null  object \n",
      " 2   Municipality    178872 non-null  object \n",
      " 3   Community       178872 non-null  object \n",
      " 4   Postal_Code     181359 non-null  object \n",
      " 5   Postal_Short    181359 non-null  object \n",
      " 6   Style           181490 non-null  object \n",
      " 7   Type            181490 non-null  object \n",
      " 8   Cluster         181490 non-null  object \n",
      " 9   List_Price      181485 non-null  float64\n",
      " 10  Cluster_Price   181490 non-null  float64\n",
      " 11  Taxes           181488 non-null  float64\n",
      " 12  Cluster_Tax     181490 non-null  float64\n",
      " 13  Bedrooms        181490 non-null  float64\n",
      " 14  Washrooms       181490 non-null  float64\n",
      " 15  Basement1       181490 non-null  object \n",
      " 16  Days_On_Market  181490 non-null  float64\n",
      " 17  Exterior1       180470 non-null  object \n",
      " 18  Garage_Type     153863 non-null  object \n",
      " 19  lat             181475 non-null  float64\n",
      " 20  lng             181475 non-null  float64\n",
      " 21  Sold_Price      181489 non-null  float64\n",
      " 22  HPI_Sold_Price  181490 non-null  float64\n",
      " 23  Month_Year      181490 non-null  object \n",
      " 24  HPI_for_Month   181490 non-null  float64\n",
      "dtypes: float64(12), object(13)\n",
      "memory usage: 34.6+ MB\n"
     ]
    }
   ],
   "source": [
    "path = \"/home/pydev/Music/work_files/latest_broko_code\"\n",
    "df = pd.read_csv(path  + \"/Dataset/ML_CLEAN_DATA__Bdv2.4_RES.csv\")\n",
    "df.info(verbose=True,show_counts=True)"
   ]
  },
  {
   "cell_type": "code",
   "execution_count": 71,
   "metadata": {},
   "outputs": [
    {
     "data": {
      "text/plain": [
       "Postal_Short        153\n",
       "Style                22\n",
       "Type                 22\n",
       "Taxes                24\n",
       "Bedrooms             22\n",
       "Washrooms            22\n",
       "Basement1            22\n",
       "Exterior1          1042\n",
       "Garage_Type       27649\n",
       "lat                  37\n",
       "lng                  37\n",
       "HPI_Sold_Price       22\n",
       "dtype: int64"
      ]
     },
     "execution_count": 71,
     "metadata": {},
     "output_type": "execute_result"
    }
   ],
   "source": [
    "# drop_cols = [\"ML_Number\",\"Postal_Code\",\"Sold_Price\",\"Month_Year\",\"HPI_for_Month\"]\n",
    "drop_cols = [\"ML_Number\",\"Postal_Code\",\"Sold_Price\",\"Month_Year\",\"HPI_for_Month\",\"Community\",\"Municipality\",\"Area\",\"Cluster\",\"Cluster_Price\",\"Cluster_Tax\",\"List_Price\",\"Days_On_Market\"]\n",
    "df = df.drop(drop_cols, axis=1)\n",
    "df.isnull().sum()"
   ]
  },
  {
   "cell_type": "code",
   "execution_count": 72,
   "metadata": {},
   "outputs": [],
   "source": [
    "data = df.dropna(axis = 0, how ='any') "
   ]
  },
  {
   "cell_type": "code",
   "execution_count": 73,
   "metadata": {},
   "outputs": [],
   "source": [
    "q1 = data['HPI_Sold_Price'].quantile(0.25)\n",
    "q3 = data['HPI_Sold_Price'].quantile(0.75)\n",
    "iqr = q3 - q1\n",
    "lower_bound = q1 - 1.5 * iqr\n",
    "upper_bound = q3 + 1.5 * iqr\n",
    "lower_bound_outliers = data[data['HPI_Sold_Price'] < lower_bound] \n",
    "upper_bound_outliers = data[data['HPI_Sold_Price'] > upper_bound]\n",
    "# lower_bound_outliers.to_csv(path + '/Dataset/lower_bound_outliers.csv')\n",
    "# upper_bound_outliers.to_csv(path +'/Dataset/upper_bound_outliers.csv')    \n",
    "dataset = data[(data['HPI_Sold_Price'] >= lower_bound) & (data['HPI_Sold_Price'] <= upper_bound)]"
   ]
  },
  {
   "cell_type": "code",
   "execution_count": 74,
   "metadata": {},
   "outputs": [
    {
     "data": {
      "text/plain": [
       "Postal_Short      0\n",
       "Style             0\n",
       "Type              0\n",
       "Taxes             0\n",
       "Bedrooms          0\n",
       "Washrooms         0\n",
       "Basement1         0\n",
       "Exterior1         0\n",
       "Garage_Type       0\n",
       "lat               0\n",
       "lng               0\n",
       "HPI_Sold_Price    0\n",
       "dtype: int64"
      ]
     },
     "execution_count": 74,
     "metadata": {},
     "output_type": "execute_result"
    }
   ],
   "source": [
    "dataset.isnull().sum()"
   ]
  },
  {
   "cell_type": "code",
   "execution_count": 75,
   "metadata": {},
   "outputs": [
    {
     "name": "stdout",
     "output_type": "stream",
     "text": [
      "<class 'pandas.core.frame.DataFrame'>\n",
      "Index: 144696 entries, 1 to 181488\n",
      "Data columns (total 12 columns):\n",
      " #   Column          Non-Null Count   Dtype  \n",
      "---  ------          --------------   -----  \n",
      " 0   Postal_Short    144696 non-null  object \n",
      " 1   Style           144696 non-null  object \n",
      " 2   Type            144696 non-null  object \n",
      " 3   Taxes           144696 non-null  float64\n",
      " 4   Bedrooms        144696 non-null  float64\n",
      " 5   Washrooms       144696 non-null  float64\n",
      " 6   Basement1       144696 non-null  object \n",
      " 7   Exterior1       144696 non-null  object \n",
      " 8   Garage_Type     144696 non-null  object \n",
      " 9   lat             144696 non-null  float64\n",
      " 10  lng             144696 non-null  float64\n",
      " 11  HPI_Sold_Price  144696 non-null  float64\n",
      "dtypes: float64(6), object(6)\n",
      "memory usage: 14.4+ MB\n"
     ]
    }
   ],
   "source": [
    "dataset.info(verbose=True,show_counts=True)"
   ]
  },
  {
   "cell_type": "code",
   "execution_count": 76,
   "metadata": {},
   "outputs": [],
   "source": [
    "X = dataset.drop('HPI_Sold_Price',axis=1)\n",
    "y = dataset['HPI_Sold_Price']"
   ]
  },
  {
   "cell_type": "code",
   "execution_count": 77,
   "metadata": {},
   "outputs": [],
   "source": [
    "# categorical features\n",
    "categorical_features = [column for column, dtype in X.dtypes.items() if dtype==object]\n"
   ]
  },
  {
   "cell_type": "code",
   "execution_count": 78,
   "metadata": {},
   "outputs": [],
   "source": [
    "# Define the XGBoost model\n",
    "def objective(trial):\n",
    "    params = {\n",
    "        # \"max_depth\": trial.suggest_int(\"max_depth\", 5, 30),\n",
    "        \"learning_rate\": trial.suggest_float(\"learning_rate\", 0.001, 0.5), # 0.01,0.5\n",
    "        \"n_estimators\": trial.suggest_int(\"n_estimators\", 5, 50),\n",
    "        \"reg_lambda\": trial.suggest_float(\"reg_lambda\", 0, 1),\n",
    "        \"reg_alpha\": trial.suggest_float(\"reg_alpha\", 0, 1),\n",
    "        \"booster\":'gblinear'\n",
    "        \n",
    "    }\n",
    "\n",
    "    model = XGBRegressor(**params)\n",
    "\n",
    "    X_train, X_valid, y_train, y_valid = train_test_split(\n",
    "        X, y, test_size=0.2, random_state=42\n",
    "    )\n",
    "\n",
    "    # Encode categorical features before training\n",
    "    label_encoders = {}\n",
    "    for feature in categorical_features:\n",
    "        le = LabelEncoder()\n",
    "        X_train[feature] = le.fit_transform(X_train[feature])\n",
    "        X_valid[feature] = le.fit_transform(X_valid[feature])\n",
    "        label_encoders[feature] = le\n",
    "\n",
    "\n",
    "    model.fit(\n",
    "        X_train,y_train,\n",
    "        eval_set=[(X_valid,y_valid)],\n",
    "        early_stopping_rounds=10,\n",
    "        verbose=False\n",
    "    )\n",
    "\n",
    "    y_pred = model.predict(X_valid)\n",
    "\n",
    "    return MAPE(y_valid, y_pred)\n"
   ]
  },
  {
   "cell_type": "code",
   "execution_count": 79,
   "metadata": {},
   "outputs": [
    {
     "name": "stderr",
     "output_type": "stream",
     "text": [
      "[I 2023-09-22 17:23:50,681] A new study created in memory with name: no-name-2fe5c3e9-76e4-4a24-a5a9-bf3a0e232d73\n"
     ]
    },
    {
     "data": {
      "application/vnd.jupyter.widget-view+json": {
       "model_id": "7967d5f1ee32417e900aa8bd5acee5f5",
       "version_major": 2,
       "version_minor": 0
      },
      "text/plain": [
       "  0%|          | 0/1000 [00:00<?, ?it/s]"
      ]
     },
     "metadata": {},
     "output_type": "display_data"
    },
    {
     "name": "stdout",
     "output_type": "stream",
     "text": [
      "[I 2023-09-22 17:23:51,452] Trial 0 finished with value: 0.308618119317928 and parameters: {'learning_rate': 0.09591425751338917, 'n_estimators': 34, 'reg_lambda': 0.043037684319725544, 'reg_alpha': 0.7219904801548741}. Best is trial 0 with value: 0.308618119317928.\n",
      "[I 2023-09-22 17:23:52,192] Trial 1 finished with value: 0.3077892715782986 and parameters: {'learning_rate': 0.09284824824989954, 'n_estimators': 43, 'reg_lambda': 0.288450608684787, 'reg_alpha': 0.36539451736602047}. Best is trial 1 with value: 0.3077892715782986.\n",
      "[I 2023-09-22 17:23:52,733] Trial 2 finished with value: 0.31289339528779475 and parameters: {'learning_rate': 0.20092746838299527, 'n_estimators': 13, 'reg_lambda': 0.6088156249742509, 'reg_alpha': 0.15549601152167403}. Best is trial 1 with value: 0.3077892715782986.\n",
      "[I 2023-09-22 17:23:53,140] Trial 3 finished with value: 0.313308478741639 and parameters: {'learning_rate': 0.14470704296721365, 'n_estimators': 23, 'reg_lambda': 0.47690943647871353, 'reg_alpha': 0.8904450051246697}. Best is trial 1 with value: 0.3077892715782986.\n",
      "[I 2023-09-22 17:23:53,733] Trial 4 finished with value: 0.36137838018430696 and parameters: {'learning_rate': 0.02564939780297782, 'n_estimators': 29, 'reg_lambda': 0.12006923431330008, 'reg_alpha': 0.7194197414524652}. Best is trial 1 with value: 0.3077892715782986.\n",
      "[I 2023-09-22 17:23:53,902] Trial 5 finished with value: 0.3291131503092716 and parameters: {'learning_rate': 0.38417485893326003, 'n_estimators': 6, 'reg_lambda': 0.13193810187927413, 'reg_alpha': 0.015554698402723388}. Best is trial 1 with value: 0.3077892715782986.\n",
      "[I 2023-09-22 17:23:54,149] Trial 6 finished with value: 0.3724515703385108 and parameters: {'learning_rate': 0.025676700550363005, 'n_estimators': 17, 'reg_lambda': 0.7285035063068431, 'reg_alpha': 0.1841887341270939}. Best is trial 1 with value: 0.3077892715782986.\n",
      "[I 2023-09-22 17:23:54,335] Trial 7 finished with value: 0.32677124842012367 and parameters: {'learning_rate': 0.43012370240406395, 'n_estimators': 9, 'reg_lambda': 0.1277476872969845, 'reg_alpha': 0.649703368253339}. Best is trial 1 with value: 0.3077892715782986.\n",
      "[I 2023-09-22 17:23:54,712] Trial 8 finished with value: 0.3113648166671302 and parameters: {'learning_rate': 0.2152081928478678, 'n_estimators': 37, 'reg_lambda': 0.6772722017968097, 'reg_alpha': 0.1605597293241352}. Best is trial 1 with value: 0.3077892715782986.\n",
      "[I 2023-09-22 17:23:55,130] Trial 9 finished with value: 0.31364413413298203 and parameters: {'learning_rate': 0.09388130899840048, 'n_estimators': 41, 'reg_lambda': 0.8867784468700025, 'reg_alpha': 0.10158333278039866}. Best is trial 1 with value: 0.3077892715782986.\n",
      "[I 2023-09-22 17:23:55,609] Trial 10 finished with value: 0.30753114941639675 and parameters: {'learning_rate': 0.3169280519237589, 'n_estimators': 50, 'reg_lambda': 0.34257995740711306, 'reg_alpha': 0.3755641746623416}. Best is trial 10 with value: 0.30753114941639675.\n",
      "[I 2023-09-22 17:23:56,109] Trial 11 finished with value: 0.3075103961732357 and parameters: {'learning_rate': 0.34810689768911507, 'n_estimators': 50, 'reg_lambda': 0.36786246837458497, 'reg_alpha': 0.4061247676134825}. Best is trial 11 with value: 0.3075103961732357.\n",
      "[I 2023-09-22 17:23:56,585] Trial 12 finished with value: 0.30845180331521416 and parameters: {'learning_rate': 0.31793500889875603, 'n_estimators': 48, 'reg_lambda': 0.39283671260250874, 'reg_alpha': 0.4105985057854125}. Best is trial 11 with value: 0.3075103961732357.\n",
      "[I 2023-09-22 17:23:57,052] Trial 13 finished with value: 0.30720266717174893 and parameters: {'learning_rate': 0.3065101029727721, 'n_estimators': 50, 'reg_lambda': 0.31294521233852624, 'reg_alpha': 0.34302327945194416}. Best is trial 13 with value: 0.30720266717174893.\n",
      "[I 2023-09-22 17:23:57,720] Trial 14 finished with value: 0.30549072173689945 and parameters: {'learning_rate': 0.49706852060688494, 'n_estimators': 45, 'reg_lambda': 0.263801306372278, 'reg_alpha': 0.5395071990580972}. Best is trial 14 with value: 0.30549072173689945.\n",
      "[I 2023-09-22 17:23:58,110] Trial 15 finished with value: 0.3063763334528515 and parameters: {'learning_rate': 0.486376982845906, 'n_estimators': 42, 'reg_lambda': 0.24207585337064844, 'reg_alpha': 0.5353131947600881}. Best is trial 14 with value: 0.30549072173689945.\n",
      "[I 2023-09-22 17:23:58,640] Trial 16 finished with value: 0.3102456256027293 and parameters: {'learning_rate': 0.4914264286612989, 'n_estimators': 31, 'reg_lambda': 0.21515752792013348, 'reg_alpha': 0.56210221807189}. Best is trial 14 with value: 0.30549072173689945.\n",
      "[I 2023-09-22 17:23:59,078] Trial 17 finished with value: 0.30401789173426047 and parameters: {'learning_rate': 0.49757740660152355, 'n_estimators': 42, 'reg_lambda': 0.0076845170950012864, 'reg_alpha': 0.5297078267683657}. Best is trial 17 with value: 0.30401789173426047.\n",
      "[I 2023-09-22 17:23:59,487] Trial 18 finished with value: 0.3060246216089427 and parameters: {'learning_rate': 0.433664180495291, 'n_estimators': 36, 'reg_lambda': 0.034979442985658804, 'reg_alpha': 0.9829500063145415}. Best is trial 17 with value: 0.30401789173426047.\n",
      "[I 2023-09-22 17:23:59,819] Trial 19 finished with value: 0.3112634364100147 and parameters: {'learning_rate': 0.4217857859099732, 'n_estimators': 26, 'reg_lambda': 0.1946336056716973, 'reg_alpha': 0.5979438499936438}. Best is trial 17 with value: 0.30401789173426047.\n",
      "[I 2023-09-22 17:24:00,351] Trial 20 finished with value: 0.30198079349411044 and parameters: {'learning_rate': 0.49773297578622827, 'n_estimators': 44, 'reg_lambda': 0.020341810743989, 'reg_alpha': 0.4916395078732656}. Best is trial 20 with value: 0.30198079349411044.\n",
      "[I 2023-09-22 17:24:01,051] Trial 21 finished with value: 0.3001518720504789 and parameters: {'learning_rate': 0.49355500033984173, 'n_estimators': 45, 'reg_lambda': 0.04401595281978545, 'reg_alpha': 0.4950255884371333}. Best is trial 21 with value: 0.3001518720504789.\n",
      "[I 2023-09-22 17:24:01,537] Trial 22 finished with value: 0.3044433577163132 and parameters: {'learning_rate': 0.44988284336312734, 'n_estimators': 39, 'reg_lambda': 0.002070897911016008, 'reg_alpha': 0.47818912027734795}. Best is trial 21 with value: 0.3001518720504789.\n",
      "[I 2023-09-22 17:24:02,148] Trial 23 finished with value: 0.3025343592287386 and parameters: {'learning_rate': 0.4665377859435815, 'n_estimators': 44, 'reg_lambda': 0.003668141221420604, 'reg_alpha': 0.2598389959218329}. Best is trial 21 with value: 0.3001518720504789.\n",
      "[I 2023-09-22 17:24:03,309] Trial 24 finished with value: 0.3030539911890188 and parameters: {'learning_rate': 0.38696911865365347, 'n_estimators': 46, 'reg_lambda': 0.1338224680770853, 'reg_alpha': 0.25707287119639427}. Best is trial 21 with value: 0.3001518720504789.\n",
      "[I 2023-09-22 17:24:03,917] Trial 25 finished with value: 0.30807446773300207 and parameters: {'learning_rate': 0.4539304282375141, 'n_estimators': 33, 'reg_lambda': 0.103532216976064, 'reg_alpha': 0.2852886464408536}. Best is trial 21 with value: 0.3001518720504789.\n",
      "[I 2023-09-22 17:24:04,589] Trial 26 finished with value: 0.3018978640417215 and parameters: {'learning_rate': 0.39681857296725187, 'n_estimators': 38, 'reg_lambda': 0.05881340401481401, 'reg_alpha': 0.4702894726489596}. Best is trial 21 with value: 0.3001518720504789.\n",
      "[I 2023-09-22 17:24:04,941] Trial 27 finished with value: 0.30756093445573085 and parameters: {'learning_rate': 0.4061508493577967, 'n_estimators': 38, 'reg_lambda': 0.19005422815646345, 'reg_alpha': 0.4663929911754403}. Best is trial 21 with value: 0.3001518720504789.\n",
      "[I 2023-09-22 17:24:05,325] Trial 28 finished with value: 0.3026142449122256 and parameters: {'learning_rate': 0.4588979748416035, 'n_estimators': 46, 'reg_lambda': 0.07111289042698739, 'reg_alpha': 0.4521675608486903}. Best is trial 21 with value: 0.3001518720504789.\n",
      "[I 2023-09-22 17:24:06,165] Trial 29 finished with value: 0.3082956507998864 and parameters: {'learning_rate': 0.3788743935930991, 'n_estimators': 34, 'reg_lambda': 0.06923201744681085, 'reg_alpha': 0.5930273869071524}. Best is trial 21 with value: 0.3001518720504789.\n",
      "[I 2023-09-22 17:24:06,714] Trial 30 finished with value: 0.31321591177195385 and parameters: {'learning_rate': 0.4227045116322544, 'n_estimators': 22, 'reg_lambda': 0.18315079160033532, 'reg_alpha': 0.4868011863872027}. Best is trial 21 with value: 0.3001518720504789.\n",
      "[I 2023-09-22 17:24:07,350] Trial 31 finished with value: 0.3023538884381187 and parameters: {'learning_rate': 0.4653882860726641, 'n_estimators': 45, 'reg_lambda': 0.04712496461283391, 'reg_alpha': 0.2729335317667636}. Best is trial 21 with value: 0.3001518720504789.\n",
      "[I 2023-09-22 17:24:07,802] Trial 32 finished with value: 0.3006217192106566 and parameters: {'learning_rate': 0.47193187799882474, 'n_estimators': 40, 'reg_lambda': 0.08499187656692683, 'reg_alpha': 0.33694881643799174}. Best is trial 21 with value: 0.3001518720504789.\n",
      "[I 2023-09-22 17:24:08,251] Trial 33 finished with value: 0.30432450147399376 and parameters: {'learning_rate': 0.4675054094230012, 'n_estimators': 40, 'reg_lambda': 0.056518204182895486, 'reg_alpha': 0.3372087339814}. Best is trial 21 with value: 0.3001518720504789.\n"
     ]
    }
   ],
   "source": [
    "# Create an Optuna study\n",
    "study = optuna.create_study(direction=\"minimize\")\n",
    "\n",
    "# Optimize the objective function\n",
    "study.optimize(objective, n_trials=1000,show_progress_bar=True)\n",
    "\n",
    "# Get the best parameters and model type\n",
    "best_params = study.best_params\n",
    "\n",
    "print(\"Best hyperparameters: \", best_params)"
   ]
  },
  {
   "cell_type": "code",
   "execution_count": null,
   "metadata": {},
   "outputs": [],
   "source": [
    "best_df = pd.DataFrame([best_params])\n",
    "best_df.to_csv(path + \"/Dataset/xgb_param_interpret.csv\",index=False)"
   ]
  },
  {
   "cell_type": "code",
   "execution_count": null,
   "metadata": {},
   "outputs": [],
   "source": []
  }
 ],
 "metadata": {
  "kernelspec": {
   "display_name": "broko",
   "language": "python",
   "name": "python3"
  },
  "language_info": {
   "codemirror_mode": {
    "name": "ipython",
    "version": 3
   },
   "file_extension": ".py",
   "mimetype": "text/x-python",
   "name": "python",
   "nbconvert_exporter": "python",
   "pygments_lexer": "ipython3",
   "version": "3.11.5"
  },
  "orig_nbformat": 4
 },
 "nbformat": 4,
 "nbformat_minor": 2
}
