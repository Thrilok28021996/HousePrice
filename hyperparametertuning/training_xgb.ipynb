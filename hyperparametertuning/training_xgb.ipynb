{
 "cells": [
  {
   "cell_type": "code",
   "execution_count": 1,
   "metadata": {},
   "outputs": [],
   "source": [
    "import pandas as pd\n",
    "from sklearn.model_selection import train_test_split\n",
    "from xgboost import XGBRegressor\n",
    "from sklearn.metrics import mean_absolute_percentage_error as MAPE\n",
    "from sklearn.preprocessing import LabelEncoder"
   ]
  },
  {
   "cell_type": "code",
   "execution_count": 2,
   "metadata": {},
   "outputs": [
    {
     "name": "stdout",
     "output_type": "stream",
     "text": [
      "<class 'pandas.core.frame.DataFrame'>\n",
      "RangeIndex: 181512 entries, 0 to 181511\n",
      "Data columns (total 25 columns):\n",
      " #   Column          Non-Null Count   Dtype  \n",
      "---  ------          --------------   -----  \n",
      " 0   ML_Number       181490 non-null  object \n",
      " 1   Area            181490 non-null  object \n",
      " 2   Municipality    178872 non-null  object \n",
      " 3   Community       178872 non-null  object \n",
      " 4   Postal_Code     181359 non-null  object \n",
      " 5   Postal_Short    181359 non-null  object \n",
      " 6   Style           181490 non-null  object \n",
      " 7   Type            181490 non-null  object \n",
      " 8   Cluster         181490 non-null  object \n",
      " 9   List_Price      181485 non-null  float64\n",
      " 10  Cluster_Price   181490 non-null  float64\n",
      " 11  Taxes           181488 non-null  float64\n",
      " 12  Cluster_Tax     181490 non-null  float64\n",
      " 13  Bedrooms        181490 non-null  float64\n",
      " 14  Washrooms       181490 non-null  float64\n",
      " 15  Basement1       181490 non-null  object \n",
      " 16  Days_On_Market  181490 non-null  float64\n",
      " 17  Exterior1       180470 non-null  object \n",
      " 18  Garage_Type     153863 non-null  object \n",
      " 19  lat             181475 non-null  float64\n",
      " 20  lng             181475 non-null  float64\n",
      " 21  Sold_Price      181489 non-null  float64\n",
      " 22  HPI_Sold_Price  181490 non-null  float64\n",
      " 23  Month_Year      181490 non-null  object \n",
      " 24  HPI_for_Month   181490 non-null  float64\n",
      "dtypes: float64(12), object(13)\n",
      "memory usage: 34.6+ MB\n"
     ]
    }
   ],
   "source": [
    "path = \"/Users/thrilok/Desktop/mantra_collab_job/work_files/latest_broko_code\"\n",
    "df = pd.read_csv(path  + \"/Dataset/ML_CLEAN_DATA__Bdv2.4_RES.csv\")\n",
    "df.info(verbose=True,show_counts=True)"
   ]
  },
  {
   "cell_type": "code",
   "execution_count": 3,
   "metadata": {},
   "outputs": [
    {
     "name": "stdout",
     "output_type": "stream",
     "text": [
      "<class 'pandas.core.frame.DataFrame'>\n",
      "Index: 420 entries, 107104 to 108007\n",
      "Data columns (total 25 columns):\n",
      " #   Column          Non-Null Count  Dtype  \n",
      "---  ------          --------------  -----  \n",
      " 0   ML_Number       420 non-null    object \n",
      " 1   Area            420 non-null    object \n",
      " 2   Municipality    420 non-null    object \n",
      " 3   Community       420 non-null    object \n",
      " 4   Postal_Code     420 non-null    object \n",
      " 5   Postal_Short    420 non-null    object \n",
      " 6   Style           420 non-null    object \n",
      " 7   Type            420 non-null    object \n",
      " 8   Cluster         420 non-null    object \n",
      " 9   List_Price      420 non-null    float64\n",
      " 10  Cluster_Price   420 non-null    float64\n",
      " 11  Taxes           420 non-null    float64\n",
      " 12  Cluster_Tax     420 non-null    float64\n",
      " 13  Bedrooms        420 non-null    float64\n",
      " 14  Washrooms       420 non-null    float64\n",
      " 15  Basement1       420 non-null    object \n",
      " 16  Days_On_Market  420 non-null    float64\n",
      " 17  Exterior1       420 non-null    object \n",
      " 18  Garage_Type     360 non-null    object \n",
      " 19  lat             420 non-null    float64\n",
      " 20  lng             420 non-null    float64\n",
      " 21  Sold_Price      420 non-null    float64\n",
      " 22  HPI_Sold_Price  420 non-null    float64\n",
      " 23  Month_Year      420 non-null    object \n",
      " 24  HPI_for_Month   420 non-null    float64\n",
      "dtypes: float64(12), object(13)\n",
      "memory usage: 85.3+ KB\n"
     ]
    }
   ],
   "source": [
    "df = df[df['Municipality'] == 'Mississauga']\n",
    "df = df[df['Community'] == 'lakeview']\n",
    "df.info(verbose=True,show_counts=True)"
   ]
  },
  {
   "cell_type": "code",
   "execution_count": 4,
   "metadata": {},
   "outputs": [
    {
     "data": {
      "text/plain": [
       "Postal_Short       0\n",
       "Style              0\n",
       "Type               0\n",
       "Taxes              0\n",
       "Bedrooms           0\n",
       "Washrooms          0\n",
       "Basement1          0\n",
       "Exterior1          0\n",
       "Garage_Type       60\n",
       "HPI_Sold_Price     0\n",
       "dtype: int64"
      ]
     },
     "execution_count": 4,
     "metadata": {},
     "output_type": "execute_result"
    }
   ],
   "source": [
    "drop_cols = [\"ML_Number\",\"Postal_Code\",\"Sold_Price\",\"Month_Year\",\"HPI_for_Month\",\"Community\",\"Municipality\",\"Area\",\"Cluster\",\"Cluster_Price\",\"Cluster_Tax\",\"List_Price\",\"Days_On_Market\",\"lat\",\"lng\"]\n",
    "# drop_cols = ['ML_Number','Sold_Date',\"Address\",\"Area\",\"Postal_Code\",\"Air_Conditioning\",\"Exterior1\",\"Rooms\",\"Tax_Year\",\"Water_Included\",\"property_type\"]#,\"lat\",\"lng\"]\n",
    "data = df.drop(drop_cols, axis=1)\n",
    "data.isnull().sum()"
   ]
  },
  {
   "cell_type": "code",
   "execution_count": 5,
   "metadata": {},
   "outputs": [],
   "source": [
    "data = data.dropna(axis = 0, how ='any') "
   ]
  },
  {
   "cell_type": "code",
   "execution_count": 6,
   "metadata": {},
   "outputs": [],
   "source": [
    "q1 = data['HPI_Sold_Price'].quantile(0.25)\n",
    "q3 = data['HPI_Sold_Price'].quantile(0.75)\n",
    "iqr = q3 - q1\n",
    "lower_bound = q1 - 1.5 * iqr\n",
    "upper_bound = q3 + 1.5 * iqr\n",
    "lower_bound_outliers = data[data['HPI_Sold_Price'] < lower_bound] \n",
    "upper_bound_outliers = data[data['HPI_Sold_Price'] > upper_bound]\n",
    "# lower_bound_outliers.to_csv(path + '/Dataset/lower_bound_outliers.csv')\n",
    "# upper_bound_outliers.to_csv(path +'/Dataset/upper_bound_outliers.csv')    \n",
    "dataset = data[(data['HPI_Sold_Price'] >= lower_bound) & (data['HPI_Sold_Price'] <= upper_bound)]"
   ]
  },
  {
   "cell_type": "code",
   "execution_count": 7,
   "metadata": {},
   "outputs": [
    {
     "name": "stdout",
     "output_type": "stream",
     "text": [
      "<class 'pandas.core.frame.DataFrame'>\n",
      "Index: 340 entries, 107104 to 108007\n",
      "Data columns (total 10 columns):\n",
      " #   Column          Non-Null Count  Dtype  \n",
      "---  ------          --------------  -----  \n",
      " 0   Postal_Short    340 non-null    object \n",
      " 1   Style           340 non-null    object \n",
      " 2   Type            340 non-null    object \n",
      " 3   Taxes           340 non-null    float64\n",
      " 4   Bedrooms        340 non-null    float64\n",
      " 5   Washrooms       340 non-null    float64\n",
      " 6   Basement1       340 non-null    object \n",
      " 7   Exterior1       340 non-null    object \n",
      " 8   Garage_Type     340 non-null    object \n",
      " 9   HPI_Sold_Price  340 non-null    float64\n",
      "dtypes: float64(4), object(6)\n",
      "memory usage: 29.2+ KB\n"
     ]
    }
   ],
   "source": [
    "dataset.info(verbose=True,show_counts=True)"
   ]
  },
  {
   "cell_type": "code",
   "execution_count": 8,
   "metadata": {},
   "outputs": [],
   "source": [
    "X = dataset.drop('HPI_Sold_Price',axis=1)\n",
    "y = dataset['HPI_Sold_Price']"
   ]
  },
  {
   "cell_type": "code",
   "execution_count": 9,
   "metadata": {},
   "outputs": [],
   "source": [
    "# categorical features\n",
    "categorical_features = [column for column, dtype in X.dtypes.items() if dtype==object]\n"
   ]
  },
  {
   "cell_type": "code",
   "execution_count": 10,
   "metadata": {},
   "outputs": [
    {
     "data": {
      "text/html": [
       "<div>\n",
       "<style scoped>\n",
       "    .dataframe tbody tr th:only-of-type {\n",
       "        vertical-align: middle;\n",
       "    }\n",
       "\n",
       "    .dataframe tbody tr th {\n",
       "        vertical-align: top;\n",
       "    }\n",
       "\n",
       "    .dataframe thead th {\n",
       "        text-align: right;\n",
       "    }\n",
       "</style>\n",
       "<table border=\"1\" class=\"dataframe\">\n",
       "  <thead>\n",
       "    <tr style=\"text-align: right;\">\n",
       "      <th></th>\n",
       "      <th>max_depth</th>\n",
       "      <th>learning_rate</th>\n",
       "      <th>n_estimators</th>\n",
       "      <th>reg_lambda</th>\n",
       "      <th>reg_alpha</th>\n",
       "    </tr>\n",
       "  </thead>\n",
       "  <tbody>\n",
       "    <tr>\n",
       "      <th>0</th>\n",
       "      <td>6</td>\n",
       "      <td>0.265023</td>\n",
       "      <td>49</td>\n",
       "      <td>0.885813</td>\n",
       "      <td>0.089943</td>\n",
       "    </tr>\n",
       "  </tbody>\n",
       "</table>\n",
       "</div>"
      ],
      "text/plain": [
       "   max_depth  learning_rate  n_estimators  reg_lambda  reg_alpha\n",
       "0          6       0.265023            49    0.885813   0.089943"
      ]
     },
     "execution_count": 10,
     "metadata": {},
     "output_type": "execute_result"
    }
   ],
   "source": [
    "best_params = pd.read_csv(path + \"/Dataset/best_xgb.csv\")\n",
    "best_params"
   ]
  },
  {
   "cell_type": "code",
   "execution_count": 11,
   "metadata": {},
   "outputs": [
    {
     "data": {
      "text/plain": [
       "0.1311572033263533"
      ]
     },
     "execution_count": 11,
     "metadata": {},
     "output_type": "execute_result"
    }
   ],
   "source": [
    "params = {\n",
    "    \"max_depth\": best_params[\"max_depth\"][0],\n",
    "    \"learning_rate\": best_params[\"learning_rate\"][0],\n",
    "    \"n_estimators\": best_params[\"n_estimators\"][0],\n",
    "    \"reg_lambda\": best_params[\"reg_lambda\"][0],\n",
    "    \"reg_alpha\": best_params[\"reg_alpha\"][0],\n",
    "    # \"booster\":'gblinear'\n",
    "}\n",
    "\n",
    "model = XGBRegressor(**params)\n",
    "\n",
    "\n",
    "X_train, X_test, y_train, y_test = train_test_split(\n",
    "    X, y, test_size=0.2, random_state=42\n",
    ")\n",
    "\n",
    "# Encode categorical features before training\n",
    "label_encoders = {}\n",
    "for feature in categorical_features:\n",
    "    le = LabelEncoder()\n",
    "    X_train[feature] = le.fit_transform(X_train[feature])\n",
    "    X_test[feature] = le.fit_transform(X_test[feature])\n",
    "    label_encoders[feature] = le\n",
    "\n",
    "\n",
    "# model.fit(\n",
    "#     X_train,y_train,\n",
    "#     eval_set=[(X_test,y_test)],\n",
    "#     verbose=False\n",
    "# )\n",
    "\n",
    "y_pred = model.predict(X_test)\n",
    "\n",
    "MAPE(y_test, y_pred)"
   ]
  },
  {
   "cell_type": "code",
   "execution_count": 20,
   "metadata": {},
   "outputs": [
    {
     "data": {
      "text/plain": [
       "array([1708528.69449457])"
      ]
     },
     "execution_count": 20,
     "metadata": {},
     "output_type": "execute_result"
    }
   ],
   "source": [
    "y_pred = model.predict(X_test[:1])\n",
    "y_pred"
   ]
  },
  {
   "cell_type": "code",
   "execution_count": 12,
   "metadata": {},
   "outputs": [],
   "source": [
    "# model.feature_importances_"
   ]
  },
  {
   "cell_type": "code",
   "execution_count": 14,
   "metadata": {},
   "outputs": [
    {
     "name": "stdout",
     "output_type": "stream",
     "text": [
      "intercept: 794657.4624137628\n",
      "Postal_Short = 1857\n",
      "Style = 7614\n",
      "Type = -66687\n",
      "Taxes = 12\n",
      "Bedrooms = 36684\n",
      "Washrooms = 186934\n",
      "Basement1 = 1007\n",
      "Exterior1 = 29059\n",
      "Garage_Type = -73078\n"
     ]
    }
   ],
   "source": [
    "# Get the coefficients\n",
    "coefficients = model.coef_\n",
    "\n",
    "print(f\"intercept: {model.intercept_}\")\n",
    "\n",
    "for feature,coefficients in zip(X.columns,coefficients):\n",
    "    print(f\"{feature} = {coefficients.astype(int)}\")"
   ]
  },
  {
   "cell_type": "code",
   "execution_count": 26,
   "metadata": {},
   "outputs": [
    {
     "ename": "ValueError",
     "evalue": "y should be a 1d array, got an array of shape (1, 9) instead.",
     "output_type": "error",
     "traceback": [
      "\u001b[0;31m---------------------------------------------------------------------------\u001b[0m",
      "\u001b[0;31mValueError\u001b[0m                                Traceback (most recent call last)",
      "Cell \u001b[0;32mIn[26], line 3\u001b[0m\n\u001b[1;32m      1\u001b[0m X_test[:\u001b[39m1\u001b[39m]\n\u001b[0;32m----> 3\u001b[0m a \u001b[39m=\u001b[39m le\u001b[39m.\u001b[39;49minverse_transform(X_test[:\u001b[39m1\u001b[39;49m])\n",
      "File \u001b[0;32m~/Documents/conda_envs/newbroko/lib/python3.11/site-packages/sklearn/preprocessing/_label.py:153\u001b[0m, in \u001b[0;36mLabelEncoder.inverse_transform\u001b[0;34m(self, y)\u001b[0m\n\u001b[1;32m    140\u001b[0m \u001b[39m\u001b[39m\u001b[39m\"\"\"Transform labels back to original encoding.\u001b[39;00m\n\u001b[1;32m    141\u001b[0m \n\u001b[1;32m    142\u001b[0m \u001b[39mParameters\u001b[39;00m\n\u001b[0;32m   (...)\u001b[0m\n\u001b[1;32m    150\u001b[0m \u001b[39m    Original encoding.\u001b[39;00m\n\u001b[1;32m    151\u001b[0m \u001b[39m\"\"\"\u001b[39;00m\n\u001b[1;32m    152\u001b[0m check_is_fitted(\u001b[39mself\u001b[39m)\n\u001b[0;32m--> 153\u001b[0m y \u001b[39m=\u001b[39m column_or_1d(y, warn\u001b[39m=\u001b[39;49m\u001b[39mTrue\u001b[39;49;00m)\n\u001b[1;32m    154\u001b[0m \u001b[39m# inverse transform of empty array is empty array\u001b[39;00m\n\u001b[1;32m    155\u001b[0m \u001b[39mif\u001b[39;00m _num_samples(y) \u001b[39m==\u001b[39m \u001b[39m0\u001b[39m:\n",
      "File \u001b[0;32m~/Documents/conda_envs/newbroko/lib/python3.11/site-packages/sklearn/utils/validation.py:1245\u001b[0m, in \u001b[0;36mcolumn_or_1d\u001b[0;34m(y, dtype, warn)\u001b[0m\n\u001b[1;32m   1234\u001b[0m         warnings\u001b[39m.\u001b[39mwarn(\n\u001b[1;32m   1235\u001b[0m             (\n\u001b[1;32m   1236\u001b[0m                 \u001b[39m\"\u001b[39m\u001b[39mA column-vector y was passed when a 1d array was\u001b[39m\u001b[39m\"\u001b[39m\n\u001b[0;32m   (...)\u001b[0m\n\u001b[1;32m   1241\u001b[0m             stacklevel\u001b[39m=\u001b[39m\u001b[39m2\u001b[39m,\n\u001b[1;32m   1242\u001b[0m         )\n\u001b[1;32m   1243\u001b[0m     \u001b[39mreturn\u001b[39;00m _asarray_with_order(xp\u001b[39m.\u001b[39mreshape(y, (\u001b[39m-\u001b[39m\u001b[39m1\u001b[39m,)), order\u001b[39m=\u001b[39m\u001b[39m\"\u001b[39m\u001b[39mC\u001b[39m\u001b[39m\"\u001b[39m, xp\u001b[39m=\u001b[39mxp)\n\u001b[0;32m-> 1245\u001b[0m \u001b[39mraise\u001b[39;00m \u001b[39mValueError\u001b[39;00m(\n\u001b[1;32m   1246\u001b[0m     \u001b[39m\"\u001b[39m\u001b[39my should be a 1d array, got an array of shape \u001b[39m\u001b[39m{}\u001b[39;00m\u001b[39m instead.\u001b[39m\u001b[39m\"\u001b[39m\u001b[39m.\u001b[39mformat(shape)\n\u001b[1;32m   1247\u001b[0m )\n",
      "\u001b[0;31mValueError\u001b[0m: y should be a 1d array, got an array of shape (1, 9) instead."
     ]
    }
   ],
   "source": [
    "X_test[:1]\n",
    "\n",
    "a = le.inverse_transform(X_test[:1])"
   ]
  },
  {
   "cell_type": "code",
   "execution_count": 18,
   "metadata": {},
   "outputs": [
    {
     "data": {
      "text/html": [
       "<div>\n",
       "<style scoped>\n",
       "    .dataframe tbody tr th:only-of-type {\n",
       "        vertical-align: middle;\n",
       "    }\n",
       "\n",
       "    .dataframe tbody tr th {\n",
       "        vertical-align: top;\n",
       "    }\n",
       "\n",
       "    .dataframe thead th {\n",
       "        text-align: right;\n",
       "    }\n",
       "</style>\n",
       "<table border=\"1\" class=\"dataframe\">\n",
       "  <thead>\n",
       "    <tr style=\"text-align: right;\">\n",
       "      <th></th>\n",
       "      <th>Postal_Short</th>\n",
       "      <th>Style</th>\n",
       "      <th>Type</th>\n",
       "      <th>Taxes</th>\n",
       "      <th>Bedrooms</th>\n",
       "      <th>Washrooms</th>\n",
       "      <th>Basement1</th>\n",
       "      <th>Exterior1</th>\n",
       "      <th>Garage_Type</th>\n",
       "    </tr>\n",
       "  </thead>\n",
       "  <tbody>\n",
       "    <tr>\n",
       "      <th>107927</th>\n",
       "      <td>796514.691642</td>\n",
       "      <td>802271.76071</td>\n",
       "      <td>727970.145377</td>\n",
       "      <td>886225.562861</td>\n",
       "      <td>941396.535007</td>\n",
       "      <td>1.542396e+06</td>\n",
       "      <td>794657.462414</td>\n",
       "      <td>852777.188196</td>\n",
       "      <td>721579.093905</td>\n",
       "    </tr>\n",
       "  </tbody>\n",
       "</table>\n",
       "</div>"
      ],
      "text/plain": [
       "         Postal_Short         Style           Type          Taxes  \\\n",
       "107927  796514.691642  802271.76071  727970.145377  886225.562861   \n",
       "\n",
       "             Bedrooms     Washrooms      Basement1      Exterior1  \\\n",
       "107927  941396.535007  1.542396e+06  794657.462414  852777.188196   \n",
       "\n",
       "          Garage_Type  \n",
       "107927  721579.093905  "
      ]
     },
     "execution_count": 18,
     "metadata": {},
     "output_type": "execute_result"
    }
   ],
   "source": [
    "y_pred = model.intercept_ + model.coef_ * X_test[:1]\n",
    "y_pred"
   ]
  },
  {
   "cell_type": "code",
   "execution_count": 21,
   "metadata": {},
   "outputs": [
    {
     "data": {
      "text/plain": [
       "8065788.440111999"
      ]
     },
     "execution_count": 21,
     "metadata": {},
     "output_type": "execute_result"
    }
   ],
   "source": [
    "796514.691642+ 802271.76071+727970.145377+886225.562861+941396.535007+1542396+794657.462414+ 852777.188196 +721579.093905"
   ]
  },
  {
   "cell_type": "code",
   "execution_count": null,
   "metadata": {},
   "outputs": [
    {
     "ename": "AttributeError",
     "evalue": "'LinearRegression' object has no attribute 'feature_importances_'",
     "output_type": "error",
     "traceback": [
      "\u001b[0;31m---------------------------------------------------------------------------\u001b[0m",
      "\u001b[0;31mAttributeError\u001b[0m                            Traceback (most recent call last)",
      "Cell \u001b[0;32mIn[105], line 3\u001b[0m\n\u001b[1;32m      1\u001b[0m \u001b[39mfrom\u001b[39;00m \u001b[39mmatplotlib\u001b[39;00m \u001b[39mimport\u001b[39;00m pyplot\n\u001b[0;32m----> 3\u001b[0m pyplot\u001b[39m.\u001b[39mbar(\u001b[39mrange\u001b[39m(\u001b[39mlen\u001b[39m(model\u001b[39m.\u001b[39;49mfeature_importances_)), model\u001b[39m.\u001b[39mfeature_importances_)\n\u001b[1;32m      4\u001b[0m pyplot\u001b[39m.\u001b[39mshow()\n",
      "\u001b[0;31mAttributeError\u001b[0m: 'LinearRegression' object has no attribute 'feature_importances_'"
     ]
    }
   ],
   "source": [
    "# from matplotlib import pyplot\n",
    "\n",
    "# pyplot.bar(range(len(model.feature_importances_)), model.feature_importances_)\n",
    "# pyplot.show()"
   ]
  },
  {
   "cell_type": "code",
   "execution_count": null,
   "metadata": {},
   "outputs": [],
   "source": [
    "# for feature,weights in zip(X.columns,model.feature_importances_):\n",
    "#     print(f\"{feature} = {weights *100 }\")"
   ]
  },
  {
   "cell_type": "code",
   "execution_count": null,
   "metadata": {},
   "outputs": [
    {
     "data": {
      "text/plain": [
       "1.0000000058716978"
      ]
     },
     "execution_count": 41,
     "metadata": {},
     "output_type": "execute_result"
    }
   ],
   "source": [
    "sum(model.feature_importances_)"
   ]
  },
  {
   "cell_type": "code",
   "execution_count": null,
   "metadata": {},
   "outputs": [],
   "source": [
    "Acc = (abs(1 - (abs(y_test- y_pred)/y_test)) * 100).astype(int)"
   ]
  },
  {
   "cell_type": "code",
   "execution_count": null,
   "metadata": {},
   "outputs": [
    {
     "data": {
      "text/plain": [
       "92843     90\n",
       "66180     76\n",
       "53337     85\n",
       "31139     99\n",
       "75379     89\n",
       "          ..\n",
       "160861    77\n",
       "23273     62\n",
       "134548    65\n",
       "160847    69\n",
       "38365     59\n",
       "Name: HPI_Sold_Price, Length: 28940, dtype: int64"
      ]
     },
     "execution_count": 43,
     "metadata": {},
     "output_type": "execute_result"
    }
   ],
   "source": [
    "Acc"
   ]
  },
  {
   "cell_type": "code",
   "execution_count": null,
   "metadata": {},
   "outputs": [],
   "source": [
    "for col, le in label_encoders.items():\n",
    "    X_test[col] = le.inverse_transform(X_test[col])"
   ]
  },
  {
   "cell_type": "code",
   "execution_count": null,
   "metadata": {},
   "outputs": [
    {
     "data": {
      "text/html": [
       "<div>\n",
       "<style scoped>\n",
       "    .dataframe tbody tr th:only-of-type {\n",
       "        vertical-align: middle;\n",
       "    }\n",
       "\n",
       "    .dataframe tbody tr th {\n",
       "        vertical-align: top;\n",
       "    }\n",
       "\n",
       "    .dataframe thead th {\n",
       "        text-align: right;\n",
       "    }\n",
       "</style>\n",
       "<table border=\"1\" class=\"dataframe\">\n",
       "  <thead>\n",
       "    <tr style=\"text-align: right;\">\n",
       "      <th></th>\n",
       "      <th>Postal_Short</th>\n",
       "      <th>Style</th>\n",
       "      <th>Type</th>\n",
       "      <th>Taxes</th>\n",
       "      <th>Bedrooms</th>\n",
       "      <th>Washrooms</th>\n",
       "      <th>Basement1</th>\n",
       "      <th>Exterior1</th>\n",
       "      <th>Garage_Type</th>\n",
       "      <th>lat</th>\n",
       "      <th>lng</th>\n",
       "      <th>ML_Number</th>\n",
       "      <th>Month_Year</th>\n",
       "      <th>HPI_for_Month</th>\n",
       "      <th>Sold_Price</th>\n",
       "      <th>HPI_Sold_Price</th>\n",
       "      <th>Predicted_HPI_Price</th>\n",
       "      <th>Diff</th>\n",
       "      <th>Accuracy</th>\n",
       "    </tr>\n",
       "  </thead>\n",
       "  <tbody>\n",
       "    <tr>\n",
       "      <th>92843</th>\n",
       "      <td>l3y</td>\n",
       "      <td>Backsplit</td>\n",
       "      <td>Detached</td>\n",
       "      <td>5166.00</td>\n",
       "      <td>4.0</td>\n",
       "      <td>3.0</td>\n",
       "      <td>Finished</td>\n",
       "      <td>Brick</td>\n",
       "      <td>Attached</td>\n",
       "      <td>44.048614</td>\n",
       "      <td>-79.483066</td>\n",
       "      <td>N5544766</td>\n",
       "      <td>Jun 2022</td>\n",
       "      <td>360.3</td>\n",
       "      <td>1325000.0</td>\n",
       "      <td>1.295212e+06</td>\n",
       "      <td>1173882</td>\n",
       "      <td>121330</td>\n",
       "      <td>90</td>\n",
       "    </tr>\n",
       "    <tr>\n",
       "      <th>66180</th>\n",
       "      <td>l1s</td>\n",
       "      <td>2-storey</td>\n",
       "      <td>Detached</td>\n",
       "      <td>5456.48</td>\n",
       "      <td>4.0</td>\n",
       "      <td>4.0</td>\n",
       "      <td>Partly Finished</td>\n",
       "      <td>Brick</td>\n",
       "      <td>Built-In</td>\n",
       "      <td>43.855112</td>\n",
       "      <td>-79.039240</td>\n",
       "      <td>E5642717</td>\n",
       "      <td>Jun 2022</td>\n",
       "      <td>360.3</td>\n",
       "      <td>1005000.0</td>\n",
       "      <td>9.824063e+05</td>\n",
       "      <td>1213384</td>\n",
       "      <td>230977</td>\n",
       "      <td>76</td>\n",
       "    </tr>\n",
       "    <tr>\n",
       "      <th>53337</th>\n",
       "      <td>l7e</td>\n",
       "      <td>2-storey</td>\n",
       "      <td>Detached</td>\n",
       "      <td>6352.00</td>\n",
       "      <td>4.0</td>\n",
       "      <td>4.0</td>\n",
       "      <td>Finished Walkout</td>\n",
       "      <td>Alum Siding</td>\n",
       "      <td>Built-In</td>\n",
       "      <td>43.906994</td>\n",
       "      <td>-79.750349</td>\n",
       "      <td>W5541105</td>\n",
       "      <td>Mar 2022</td>\n",
       "      <td>391.9</td>\n",
       "      <td>1650000.0</td>\n",
       "      <td>1.482853e+06</td>\n",
       "      <td>1265586</td>\n",
       "      <td>217266</td>\n",
       "      <td>85</td>\n",
       "    </tr>\n",
       "    <tr>\n",
       "      <th>31139</th>\n",
       "      <td>n2p</td>\n",
       "      <td>2-storey</td>\n",
       "      <td>Detached</td>\n",
       "      <td>4800.00</td>\n",
       "      <td>4.0</td>\n",
       "      <td>4.0</td>\n",
       "      <td>Finished</td>\n",
       "      <td>Brick</td>\n",
       "      <td>Attached</td>\n",
       "      <td>43.373305</td>\n",
       "      <td>-80.436898</td>\n",
       "      <td>X5442233</td>\n",
       "      <td>Dec 2021</td>\n",
       "      <td>364.0</td>\n",
       "      <td>1375000.0</td>\n",
       "      <td>1.330426e+06</td>\n",
       "      <td>1338644</td>\n",
       "      <td>8218</td>\n",
       "      <td>99</td>\n",
       "    </tr>\n",
       "    <tr>\n",
       "      <th>75379</th>\n",
       "      <td>l6x</td>\n",
       "      <td>2-storey</td>\n",
       "      <td>Detached</td>\n",
       "      <td>6673.14</td>\n",
       "      <td>5.0</td>\n",
       "      <td>5.0</td>\n",
       "      <td>Finished</td>\n",
       "      <td>Brick</td>\n",
       "      <td>Built-In</td>\n",
       "      <td>43.669202</td>\n",
       "      <td>-79.816608</td>\n",
       "      <td>W5572960</td>\n",
       "      <td>May 2022</td>\n",
       "      <td>371.3</td>\n",
       "      <td>1671000.0</td>\n",
       "      <td>1.585042e+06</td>\n",
       "      <td>1415441</td>\n",
       "      <td>169601</td>\n",
       "      <td>89</td>\n",
       "    </tr>\n",
       "    <tr>\n",
       "      <th>...</th>\n",
       "      <td>...</td>\n",
       "      <td>...</td>\n",
       "      <td>...</td>\n",
       "      <td>...</td>\n",
       "      <td>...</td>\n",
       "      <td>...</td>\n",
       "      <td>...</td>\n",
       "      <td>...</td>\n",
       "      <td>...</td>\n",
       "      <td>...</td>\n",
       "      <td>...</td>\n",
       "      <td>...</td>\n",
       "      <td>...</td>\n",
       "      <td>...</td>\n",
       "      <td>...</td>\n",
       "      <td>...</td>\n",
       "      <td>...</td>\n",
       "      <td>...</td>\n",
       "      <td>...</td>\n",
       "    </tr>\n",
       "    <tr>\n",
       "      <th>160861</th>\n",
       "      <td>m8z</td>\n",
       "      <td>bungalow</td>\n",
       "      <td>Detached</td>\n",
       "      <td>5434.63</td>\n",
       "      <td>3.0</td>\n",
       "      <td>2.0</td>\n",
       "      <td>Finished</td>\n",
       "      <td>Brick</td>\n",
       "      <td>Attached</td>\n",
       "      <td>43.634925</td>\n",
       "      <td>-79.513405</td>\n",
       "      <td>W5902751</td>\n",
       "      <td>Feb 2023</td>\n",
       "      <td>320.2</td>\n",
       "      <td>1250000.0</td>\n",
       "      <td>1.374922e+06</td>\n",
       "      <td>1060602</td>\n",
       "      <td>314319</td>\n",
       "      <td>77</td>\n",
       "    </tr>\n",
       "    <tr>\n",
       "      <th>23273</th>\n",
       "      <td>l9s</td>\n",
       "      <td>bungalow</td>\n",
       "      <td>Detached</td>\n",
       "      <td>3774.78</td>\n",
       "      <td>1.0</td>\n",
       "      <td>0.0</td>\n",
       "      <td>Finished</td>\n",
       "      <td>Brick</td>\n",
       "      <td>Other</td>\n",
       "      <td>44.322990</td>\n",
       "      <td>-79.543200</td>\n",
       "      <td>N6311776</td>\n",
       "      <td>Sep 2021</td>\n",
       "      <td>332.3</td>\n",
       "      <td>930000.0</td>\n",
       "      <td>9.856937e+05</td>\n",
       "      <td>618114</td>\n",
       "      <td>367579</td>\n",
       "      <td>62</td>\n",
       "    </tr>\n",
       "    <tr>\n",
       "      <th>134548</th>\n",
       "      <td>m6g</td>\n",
       "      <td>2-storey</td>\n",
       "      <td>Semi-Detached</td>\n",
       "      <td>5415.67</td>\n",
       "      <td>3.0</td>\n",
       "      <td>2.0</td>\n",
       "      <td>Finished</td>\n",
       "      <td>Brick</td>\n",
       "      <td>Detached</td>\n",
       "      <td>43.660757</td>\n",
       "      <td>-79.420198</td>\n",
       "      <td>C5873036</td>\n",
       "      <td>Mar 2023</td>\n",
       "      <td>322.4</td>\n",
       "      <td>1400000.0</td>\n",
       "      <td>1.529404e+06</td>\n",
       "      <td>1004747</td>\n",
       "      <td>524657</td>\n",
       "      <td>65</td>\n",
       "    </tr>\n",
       "    <tr>\n",
       "      <th>160847</th>\n",
       "      <td>m8y</td>\n",
       "      <td>Backsplit</td>\n",
       "      <td>Detached</td>\n",
       "      <td>5291.37</td>\n",
       "      <td>4.0</td>\n",
       "      <td>3.0</td>\n",
       "      <td>Finished</td>\n",
       "      <td>Brick</td>\n",
       "      <td>Attached</td>\n",
       "      <td>43.632124</td>\n",
       "      <td>-79.496725</td>\n",
       "      <td>W5409096</td>\n",
       "      <td>Nov 2021</td>\n",
       "      <td>355.5</td>\n",
       "      <td>1788020.0</td>\n",
       "      <td>1.771422e+06</td>\n",
       "      <td>1228933</td>\n",
       "      <td>542489</td>\n",
       "      <td>69</td>\n",
       "    </tr>\n",
       "    <tr>\n",
       "      <th>38365</th>\n",
       "      <td>n2p</td>\n",
       "      <td>bungalow</td>\n",
       "      <td>Detached</td>\n",
       "      <td>11216.40</td>\n",
       "      <td>2.0</td>\n",
       "      <td>5.0</td>\n",
       "      <td>Finished</td>\n",
       "      <td>Brick</td>\n",
       "      <td>Attached</td>\n",
       "      <td>43.405600</td>\n",
       "      <td>-80.419742</td>\n",
       "      <td>X5981288</td>\n",
       "      <td>Jun 2023</td>\n",
       "      <td>344.3</td>\n",
       "      <td>2150000.0</td>\n",
       "      <td>2.199332e+06</td>\n",
       "      <td>1312986</td>\n",
       "      <td>886345</td>\n",
       "      <td>59</td>\n",
       "    </tr>\n",
       "  </tbody>\n",
       "</table>\n",
       "<p>28940 rows × 19 columns</p>\n",
       "</div>"
      ],
      "text/plain": [
       "       Postal_Short      Style           Type     Taxes  Bedrooms  Washrooms  \\\n",
       "92843           l3y  Backsplit       Detached   5166.00       4.0        3.0   \n",
       "66180           l1s   2-storey       Detached   5456.48       4.0        4.0   \n",
       "53337           l7e   2-storey       Detached   6352.00       4.0        4.0   \n",
       "31139           n2p   2-storey       Detached   4800.00       4.0        4.0   \n",
       "75379           l6x   2-storey       Detached   6673.14       5.0        5.0   \n",
       "...             ...        ...            ...       ...       ...        ...   \n",
       "160861          m8z   bungalow       Detached   5434.63       3.0        2.0   \n",
       "23273           l9s   bungalow       Detached   3774.78       1.0        0.0   \n",
       "134548          m6g   2-storey  Semi-Detached   5415.67       3.0        2.0   \n",
       "160847          m8y  Backsplit       Detached   5291.37       4.0        3.0   \n",
       "38365           n2p   bungalow       Detached  11216.40       2.0        5.0   \n",
       "\n",
       "               Basement1    Exterior1 Garage_Type        lat        lng  \\\n",
       "92843           Finished        Brick    Attached  44.048614 -79.483066   \n",
       "66180    Partly Finished        Brick    Built-In  43.855112 -79.039240   \n",
       "53337   Finished Walkout  Alum Siding    Built-In  43.906994 -79.750349   \n",
       "31139           Finished        Brick    Attached  43.373305 -80.436898   \n",
       "75379           Finished        Brick    Built-In  43.669202 -79.816608   \n",
       "...                  ...          ...         ...        ...        ...   \n",
       "160861          Finished        Brick    Attached  43.634925 -79.513405   \n",
       "23273           Finished        Brick       Other  44.322990 -79.543200   \n",
       "134548          Finished        Brick    Detached  43.660757 -79.420198   \n",
       "160847          Finished        Brick    Attached  43.632124 -79.496725   \n",
       "38365           Finished        Brick    Attached  43.405600 -80.419742   \n",
       "\n",
       "       ML_Number Month_Year  HPI_for_Month  Sold_Price  HPI_Sold_Price  \\\n",
       "92843   N5544766   Jun 2022          360.3   1325000.0    1.295212e+06   \n",
       "66180   E5642717   Jun 2022          360.3   1005000.0    9.824063e+05   \n",
       "53337   W5541105   Mar 2022          391.9   1650000.0    1.482853e+06   \n",
       "31139   X5442233   Dec 2021          364.0   1375000.0    1.330426e+06   \n",
       "75379   W5572960   May 2022          371.3   1671000.0    1.585042e+06   \n",
       "...          ...        ...            ...         ...             ...   \n",
       "160861  W5902751   Feb 2023          320.2   1250000.0    1.374922e+06   \n",
       "23273   N6311776   Sep 2021          332.3    930000.0    9.856937e+05   \n",
       "134548  C5873036   Mar 2023          322.4   1400000.0    1.529404e+06   \n",
       "160847  W5409096   Nov 2021          355.5   1788020.0    1.771422e+06   \n",
       "38365   X5981288   Jun 2023          344.3   2150000.0    2.199332e+06   \n",
       "\n",
       "        Predicted_HPI_Price    Diff  Accuracy  \n",
       "92843               1173882  121330        90  \n",
       "66180               1213384  230977        76  \n",
       "53337               1265586  217266        85  \n",
       "31139               1338644    8218        99  \n",
       "75379               1415441  169601        89  \n",
       "...                     ...     ...       ...  \n",
       "160861              1060602  314319        77  \n",
       "23273                618114  367579        62  \n",
       "134548              1004747  524657        65  \n",
       "160847              1228933  542489        69  \n",
       "38365               1312986  886345        59  \n",
       "\n",
       "[28940 rows x 19 columns]"
      ]
     },
     "execution_count": 45,
     "metadata": {},
     "output_type": "execute_result"
    }
   ],
   "source": [
    "predictions = X_test\n",
    "predictions['ML_Number'] = df['ML_Number']\n",
    "predictions['Month_Year'] = df[\"Month_Year\"]\n",
    "predictions['HPI_for_Month'] = df[\"HPI_for_Month\"]\n",
    "predictions['Sold_Price'] = df['Sold_Price']\n",
    "predictions['HPI_Sold_Price'] = df['HPI_Sold_Price']\n",
    "predictions['Predicted_HPI_Price']  = y_pred.astype(int)\n",
    "predictions['Diff']  = abs(predictions['HPI_Sold_Price'] - predictions['Predicted_HPI_Price']).astype(int)\n",
    "predictions['Accuracy'] = (abs(1 - (abs(predictions['HPI_Sold_Price'] - predictions['Predicted_HPI_Price']))/predictions['HPI_Sold_Price']) * 100).astype(int)\n",
    "predictions"
   ]
  },
  {
   "cell_type": "code",
   "execution_count": null,
   "metadata": {},
   "outputs": [
    {
     "data": {
      "text/plain": [
       "81.28645473393227"
      ]
     },
     "execution_count": 46,
     "metadata": {},
     "output_type": "execute_result"
    }
   ],
   "source": [
    "predictions['Accuracy'].sum()/len(predictions['Accuracy'])"
   ]
  },
  {
   "cell_type": "code",
   "execution_count": null,
   "metadata": {},
   "outputs": [],
   "source": [
    "# # save the dataframe as a csv file\n",
    "# predictions.to_csv(path + \"/Dataset/21-09-2023/Preds_res_xgbv2.4lplakeview.csv\",index=False)"
   ]
  },
  {
   "cell_type": "code",
   "execution_count": null,
   "metadata": {},
   "outputs": [],
   "source": [
    "# import pickle\n",
    "\n",
    "# pickle.dump(model, open(path + '/models/xgb.pkl', 'wb'))"
   ]
  },
  {
   "cell_type": "code",
   "execution_count": null,
   "metadata": {},
   "outputs": [],
   "source": []
  }
 ],
 "metadata": {
  "kernelspec": {
   "display_name": "broko",
   "language": "python",
   "name": "python3"
  },
  "language_info": {
   "codemirror_mode": {
    "name": "ipython",
    "version": 3
   },
   "file_extension": ".py",
   "mimetype": "text/x-python",
   "name": "python",
   "nbconvert_exporter": "python",
   "pygments_lexer": "ipython3",
   "version": "3.11.5"
  },
  "orig_nbformat": 4
 },
 "nbformat": 4,
 "nbformat_minor": 2
}
