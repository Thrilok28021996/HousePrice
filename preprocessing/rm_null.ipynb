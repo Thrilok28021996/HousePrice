{
 "cells": [
  {
   "cell_type": "code",
   "execution_count": 11,
   "metadata": {},
   "outputs": [],
   "source": [
    "import pandas as pd"
   ]
  },
  {
   "cell_type": "code",
   "execution_count": 12,
   "metadata": {},
   "outputs": [
    {
     "name": "stdout",
     "output_type": "stream",
     "text": [
      "<class 'pandas.core.frame.DataFrame'>\n",
      "RangeIndex: 76041 entries, 0 to 76040\n",
      "Data columns (total 30 columns):\n",
      " #   Column                     Non-Null Count  Dtype  \n",
      "---  ------                     --------------  -----  \n",
      " 0   ML_Number                  76041 non-null  object \n",
      " 1   _Listing_Price             74902 non-null  float64\n",
      " 2   Air_Conditioning           73039 non-null  object \n",
      " 3   Approx_Square_Footage      74897 non-null  object \n",
      " 4   Basement1                  76041 non-null  object \n",
      " 5   Bedrooms                   76041 non-null  int64  \n",
      " 6   Days_On_Market             76041 non-null  float64\n",
      " 7   Exterior1                  75901 non-null  object \n",
      " 8   Garage_Type                67170 non-null  object \n",
      " 9   Heat_Included              76041 non-null  object \n",
      " 10  Heat_Type                  76040 non-null  object \n",
      " 11  Locker                     44731 non-null  object \n",
      " 12  Maintenance                76041 non-null  float64\n",
      " 13  Parking_Included           76041 non-null  object \n",
      " 14  Pets_Permitted             76007 non-null  object \n",
      " 15  Rooms                      76004 non-null  float64\n",
      " 16  Street_Name                76041 non-null  object \n",
      " 17  Style                      76041 non-null  object \n",
      " 18  Type                       76041 non-null  object \n",
      " 19  Taxes                      76037 non-null  float64\n",
      " 20  Washrooms                  76041 non-null  int64  \n",
      " 21  Water_Included             69551 non-null  object \n",
      " 22  Approx_Square_Footage_Min  74896 non-null  float64\n",
      " 23  Approx_Square_Footage_Max  74887 non-null  float64\n",
      " 24  lat                        75996 non-null  float64\n",
      " 25  lng                        75996 non-null  float64\n",
      " 26  Postal_Code                75989 non-null  object \n",
      " 27  Sold_Date                  76041 non-null  object \n",
      " 28  Sold_Price                 76041 non-null  float64\n",
      " 29  List_Price                 76041 non-null  float64\n",
      "dtypes: float64(11), int64(2), object(17)\n",
      "memory usage: 17.4+ MB\n"
     ]
    }
   ],
   "source": [
    "path = \"/home/pydev/Music/work_files/latest_broko_code/\"\n",
    "df = pd.read_csv(path + \"Dataset/condo_dataset.csv\")\n",
    "df.info(verbose=True,show_counts=True)"
   ]
  },
  {
   "cell_type": "code",
   "execution_count": 13,
   "metadata": {},
   "outputs": [
    {
     "data": {
      "text/plain": [
       "ML_Number                    0\n",
       "Air_Conditioning          3002\n",
       "Approx_Square_Footage     1144\n",
       "Bedrooms                     0\n",
       "Days_On_Market               0\n",
       "Garage_Type               8871\n",
       "Heat_Included                0\n",
       "Heat_Type                    1\n",
       "Locker                   31310\n",
       "Maintenance                  0\n",
       "Parking_Included             0\n",
       "Pets_Permitted              34\n",
       "Rooms                       37\n",
       "Street_Name                  0\n",
       "Taxes                        4\n",
       "Washrooms                    0\n",
       "Water_Included            6490\n",
       "lat                         45\n",
       "lng                         45\n",
       "Postal_Code                 52\n",
       "Sold_Price                   0\n",
       "List_Price                   0\n",
       "Year                         0\n",
       "Month                        0\n",
       "Day                          0\n",
       "dtype: int64"
      ]
     },
     "execution_count": 13,
     "metadata": {},
     "output_type": "execute_result"
    }
   ],
   "source": [
    "# df['Importance_Days_On_Market'] = pd.cut(\n",
    "#     df['Days_On_Market'],\n",
    "#     bins=[-1, 3, 8, 14, 21, 30, float('inf')],\n",
    "#     labels=[1, 2, 3, 4, 5, 6],\n",
    "#     right=False\n",
    "# )\n",
    "#Sold Date Feature\n",
    "df['Sold_Date'] = pd.to_datetime(df['Sold_Date'])\n",
    "df['Year'] = df['Sold_Date'].dt.year\n",
    "df['Month'] = df['Sold_Date'].dt.month\n",
    "df['Day'] = df['Sold_Date'].dt.day\n",
    "\n",
    "drop_cols = ['Sold_Date', \"Approx_Square_Footage_Min\", \"Approx_Square_Footage_Max\", \"Style\",\"Type\",\"Basement1\", \"Exterior1\", \"_Listing_Price\"]\n",
    "df = df.drop(drop_cols, axis=1)\n",
    "df.isnull().sum()"
   ]
  },
  {
   "cell_type": "code",
   "execution_count": 14,
   "metadata": {},
   "outputs": [],
   "source": [
    "data = df.dropna(axis = 0, how ='any') "
   ]
  },
  {
   "cell_type": "code",
   "execution_count": 15,
   "metadata": {},
   "outputs": [
    {
     "data": {
      "text/plain": [
       "ML_Number                0\n",
       "Air_Conditioning         0\n",
       "Approx_Square_Footage    0\n",
       "Bedrooms                 0\n",
       "Days_On_Market           0\n",
       "Garage_Type              0\n",
       "Heat_Included            0\n",
       "Heat_Type                0\n",
       "Locker                   0\n",
       "Maintenance              0\n",
       "Parking_Included         0\n",
       "Pets_Permitted           0\n",
       "Rooms                    0\n",
       "Street_Name              0\n",
       "Taxes                    0\n",
       "Washrooms                0\n",
       "Water_Included           0\n",
       "lat                      0\n",
       "lng                      0\n",
       "Postal_Code              0\n",
       "Sold_Price               0\n",
       "List_Price               0\n",
       "Year                     0\n",
       "Month                    0\n",
       "Day                      0\n",
       "dtype: int64"
      ]
     },
     "execution_count": 15,
     "metadata": {},
     "output_type": "execute_result"
    }
   ],
   "source": [
    "data.isnull().sum()"
   ]
  },
  {
   "cell_type": "code",
   "execution_count": 16,
   "metadata": {},
   "outputs": [],
   "source": [
    "# df.dropna(subset=['_Listing_Price', 'Air_Conditioning', 'Approx_Square_Footage', 'Exterior1', 'Garage_Type', 'Locker' ,'Pets_Permitted', 'Rooms', 'Water_Included', 'Approx_Square_Footage_Min', 'Approx_Square_Footage_Max', 'lat','lng','Postal_Code'], inplace=True)"
   ]
  },
  {
   "cell_type": "code",
   "execution_count": 17,
   "metadata": {},
   "outputs": [],
   "source": [
    "data.to_csv(path + \"/Dataset/condo_dataset_rmnull.csv\",index=False)"
   ]
  },
  {
   "cell_type": "code",
   "execution_count": null,
   "metadata": {},
   "outputs": [],
   "source": []
  },
  {
   "cell_type": "code",
   "execution_count": null,
   "metadata": {},
   "outputs": [],
   "source": []
  }
 ],
 "metadata": {
  "kernelspec": {
   "display_name": "broko",
   "language": "python",
   "name": "python3"
  },
  "language_info": {
   "codemirror_mode": {
    "name": "ipython",
    "version": 3
   },
   "file_extension": ".py",
   "mimetype": "text/x-python",
   "name": "python",
   "nbconvert_exporter": "python",
   "pygments_lexer": "ipython3",
   "version": "3.11.5"
  },
  "orig_nbformat": 4
 },
 "nbformat": 4,
 "nbformat_minor": 2
}
