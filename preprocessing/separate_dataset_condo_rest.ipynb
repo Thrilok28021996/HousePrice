{
 "cells": [
  {
   "cell_type": "code",
   "execution_count": 10,
   "metadata": {},
   "outputs": [],
   "source": [
    "import pandas as pd\n",
    "import os"
   ]
  },
  {
   "cell_type": "code",
   "execution_count": 11,
   "metadata": {},
   "outputs": [
    {
     "name": "stderr",
     "output_type": "stream",
     "text": [
      "/var/folders/4d/gx0lrt1n0l34spb_k9cnkfpr0000gn/T/ipykernel_48738/1586450155.py:3: DtypeWarning: Columns (9,10,11,12,13,21,26,30,32,33,64) have mixed types. Specify dtype option on import or set low_memory=False.\n",
      "  df = pd.read_csv(full_path)\n"
     ]
    },
    {
     "name": "stdout",
     "output_type": "stream",
     "text": [
      "<class 'pandas.core.frame.DataFrame'>\n",
      "RangeIndex: 258279 entries, 0 to 258278\n",
      "Data columns (total 75 columns):\n",
      " #   Column                     Non-Null Count   Dtype  \n",
      "---  ------                     --------------   -----  \n",
      " 0   _id                        258279 non-null  object \n",
      " 1   _Listing_Price             241753 non-null  float64\n",
      " 2   Address                    258275 non-null  object \n",
      " 3   Air_Conditioning           241063 non-null  object \n",
      " 4   Approx_Square_Footage      169012 non-null  object \n",
      " 5   Apt_Unit                   74479 non-null   object \n",
      " 6   Area                       258272 non-null  object \n",
      " 7   Basement1                  258279 non-null  object \n",
      " 8   Bedrooms                   258279 non-null  int64  \n",
      " 9   Building_Amenities1        57855 non-null   object \n",
      " 10  Building_Amenities2        53300 non-null   object \n",
      " 11  Building_Amenities3        46884 non-null   object \n",
      " 12  Building_Amenities4        42897 non-null   object \n",
      " 13  Building_Amenities5        38217 non-null   object \n",
      " 14  Community                  213804 non-null  object \n",
      " 15  Community_Code             213804 non-null  object \n",
      " 16  Days_On_Market             258278 non-null  float64\n",
      " 17  Exterior1                  256994 non-null  object \n",
      " 18  Extras                     214942 non-null  object \n",
      " 19  Garage_Type                221782 non-null  object \n",
      " 20  Garage_Park_Spaces         74895 non-null   float64\n",
      " 21  Heat_Included              76091 non-null   object \n",
      " 22  Heat_Type                  258278 non-null  object \n",
      " 23  Last_Status                258279 non-null  object \n",
      " 24  List_Price                 258279 non-null  float64\n",
      " 25  Listing_Entry_Date         258272 non-null  object \n",
      " 26  Locker                     44731 non-null   object \n",
      " 27  Maintenance                258279 non-null  float64\n",
      " 28  ML_Number                  258279 non-null  object \n",
      " 29  Municipality               255384 non-null  object \n",
      " 30  Municipality_Code          255384 non-null  object \n",
      " 31  Original_Price             258273 non-null  float64\n",
      " 32  Parking_Included           76340 non-null   object \n",
      " 33  Pets_Permitted             76007 non-null   object \n",
      " 34  Postal_Code                257998 non-null  object \n",
      " 35  Province                   257662 non-null  object \n",
      " 36  Remarks_For_Clients        257776 non-null  object \n",
      " 37  Room_1                     245337 non-null  object \n",
      " 38  Room_1_Desc_1              183571 non-null  object \n",
      " 39  Room_1_Desc_2              159843 non-null  object \n",
      " 40  Room_1_Desc_3              124894 non-null  object \n",
      " 41  Room_2                     245716 non-null  object \n",
      " 42  Room_2_Desc_1              181332 non-null  object \n",
      " 43  Room_2_Desc_2              156382 non-null  object \n",
      " 44  Room_3                     246211 non-null  object \n",
      " 45  Room_3_Desc_1              180206 non-null  object \n",
      " 46  Room_3_Desc_2              155735 non-null  object \n",
      " 47  Room_4                     244421 non-null  object \n",
      " 48  Room_4_Desc_1              179847 non-null  object \n",
      " 49  Room_4_Desc_2              152090 non-null  object \n",
      " 50  Room_4_Desc_3              115887 non-null  object \n",
      " 51  Room_5                     234179 non-null  object \n",
      " 52  Room_5_Desc_1              169399 non-null  object \n",
      " 53  Rooms                      257311 non-null  float64\n",
      " 54  Sale_Lease                 258279 non-null  object \n",
      " 55  Sold_Date                  258278 non-null  object \n",
      " 56  Sold_Price                 258277 non-null  float64\n",
      " 57  Status                     258279 non-null  object \n",
      " 58  Street_Name                258135 non-null  object \n",
      " 59  Style                      258279 non-null  object \n",
      " 60  Tax_Year                   258244 non-null  float64\n",
      " 61  Taxes                      258237 non-null  float64\n",
      " 62  Type                       258279 non-null  object \n",
      " 63  Washrooms                  258279 non-null  int64  \n",
      " 64  Water_Included             69756 non-null   object \n",
      " 65  property_type              257977 non-null  object \n",
      " 66  Approx_Square_Footage_Min  168559 non-null  float64\n",
      " 67  Approx_Square_Footage_Max  167934 non-null  float64\n",
      " 68  Lot_Front                  257774 non-null  float64\n",
      " 69  lat                        258216 non-null  float64\n",
      " 70  lng                        258216 non-null  float64\n",
      " 71  Lot_Depth                  180207 non-null  float64\n",
      " 72  Lot_Size_Code              170730 non-null  object \n",
      " 73  Lot_Irregularities         38896 non-null   object \n",
      " 74  Lot_Front_Incomplete       0 non-null       float64\n",
      "dtypes: float64(17), int64(2), object(56)\n",
      "memory usage: 147.8+ MB\n"
     ]
    }
   ],
   "source": [
    "full_path = '/Users/thrilok/Desktop/mantra_collab_job/work_files/latest_broko_code/Dataset/ML_CLEAN_DATA_V3.csv'\n",
    "\n",
    "df = pd.read_csv(full_path)\n",
    "df.info(verbose=True,show_counts=True)"
   ]
  },
  {
   "cell_type": "code",
   "execution_count": 12,
   "metadata": {},
   "outputs": [],
   "source": [
    "df['Sold_Date'] = pd.to_datetime(df['Sold_Date'])\n",
    "\n",
    "condo_list = ['Co-Op Apt','Co-Ownership Apt','Comm Element Condo','Condo Apt','Condo Townhouse','Det Condo','Leasehold Condo','Det Condo','Semi-Det Condo','VacantLand Condo']\n",
    "\n",
    "res_list = ['Att/Row/Twnhouse','Cottage','Detached','Duplex','Fourplex','Link','Multiplex','Rural Resid','Semi-Detached','Store W/Apt/Offc','Store W/Apt/Office','Triplex']\n",
    "\n",
    "for i in range(len(df['property_type'])):\n",
    "    if pd.isnull(df['property_type'][i]):  # Check if property_type is null\n",
    "        if df['Type'][i] in condo_list:  # Check if Type is in condo_list\n",
    "            df.at[i, 'property_type'] = 'condo'  # Update property_type to 'condo'\n",
    "        elif df['Type'][i] in res_list:\n",
    "            df.at[i, 'property_type'] = 'residential'\n",
    "    else:\n",
    "        pass"
   ]
  },
  {
   "cell_type": "code",
   "execution_count": 13,
   "metadata": {},
   "outputs": [],
   "source": [
    "# df[['property_type','Type','Style']].to_csv('property_type.csv',index=False)"
   ]
  },
  {
   "cell_type": "code",
   "execution_count": 14,
   "metadata": {},
   "outputs": [
    {
     "data": {
      "text/plain": [
       "property_type\n",
       "residential    182236\n",
       "condo           76041\n",
       "Name: count, dtype: int64"
      ]
     },
     "execution_count": 14,
     "metadata": {},
     "output_type": "execute_result"
    }
   ],
   "source": [
    "df['property_type'].value_counts()"
   ]
  },
  {
   "cell_type": "code",
   "execution_count": 15,
   "metadata": {},
   "outputs": [],
   "source": [
    "res_df = df[df['property_type'] == 'residential']"
   ]
  },
  {
   "cell_type": "code",
   "execution_count": 16,
   "metadata": {},
   "outputs": [],
   "source": [
    "condo_df = df[df['property_type'] == 'condo']"
   ]
  },
  {
   "cell_type": "code",
   "execution_count": 17,
   "metadata": {},
   "outputs": [],
   "source": [
    "res_dataset = res_df[[\"ML_Number\",\"_Listing_Price\",\"Approx_Square_Footage\",\"Basement1\",\"Bedrooms\",\"Days_On_Market\",\"Exterior1\",\"Garage_Type\",\"Rooms\",\"Street_Name\",\"Style\",\"Type\",\"Taxes\",\"Washrooms\",\"Approx_Square_Footage_Min\",\"Approx_Square_Footage_Max\",\"lat\",\"lng\",\"Lot_Depth\",\"Lot_Front\",\"Lot_Size_Code\",\"Postal_Code\",\"Sold_Date\",\"Sold_Price\",\"List_Price\"]]\n",
    "res_dataset.to_csv('/Users/thrilok/Desktop/mantra_collab_job/work_files/latest_broko_code/Dataset/residential_dataset.csv',index=False)"
   ]
  },
  {
   "cell_type": "code",
   "execution_count": 18,
   "metadata": {},
   "outputs": [],
   "source": [
    "condo_dataset = condo_df[[\"ML_Number\",\"_Listing_Price\",\"Air_Conditioning\",\"Approx_Square_Footage\",\"Basement1\",\"Bedrooms\",\"Days_On_Market\",\"Exterior1\",\"Garage_Type\",\"Heat_Included\",\"Heat_Type\",\"Locker\",\"Maintenance\",\"Parking_Included\",\"Pets_Permitted\",\"Rooms\",\"Street_Name\",\"Style\",\"Type\",\"Taxes\",\"Washrooms\",\"Water_Included\",\"Approx_Square_Footage_Min\",\"Approx_Square_Footage_Max\",\"lat\",\"lng\",\"Postal_Code\",\"Sold_Date\",\"Sold_Price\",\"List_Price\"]]\n",
    "condo_dataset.to_csv('/Users/thrilok/Desktop/mantra_collab_job/work_files/latest_broko_code/Dataset/condo_dataset.csv',index=False)"
   ]
  },
  {
   "cell_type": "code",
   "execution_count": null,
   "metadata": {},
   "outputs": [],
   "source": []
  }
 ],
 "metadata": {
  "kernelspec": {
   "display_name": "broko",
   "language": "python",
   "name": "python3"
  },
  "language_info": {
   "codemirror_mode": {
    "name": "ipython",
    "version": 3
   },
   "file_extension": ".py",
   "mimetype": "text/x-python",
   "name": "python",
   "nbconvert_exporter": "python",
   "pygments_lexer": "ipython3",
   "version": "3.11.5"
  },
  "orig_nbformat": 4
 },
 "nbformat": 4,
 "nbformat_minor": 2
}
