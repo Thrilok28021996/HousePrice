{
 "cells": [
  {
   "cell_type": "code",
   "execution_count": 1,
   "metadata": {},
   "outputs": [],
   "source": [
    "import pandas as pd"
   ]
  },
  {
   "cell_type": "code",
   "execution_count": 2,
   "metadata": {},
   "outputs": [
    {
     "name": "stdout",
     "output_type": "stream",
     "text": [
      "<class 'pandas.core.frame.DataFrame'>\n",
      "RangeIndex: 182236 entries, 0 to 182235\n",
      "Data columns (total 25 columns):\n",
      " #   Column                     Non-Null Count   Dtype  \n",
      "---  ------                     --------------   -----  \n",
      " 0   ML_Number                  182236 non-null  object \n",
      " 1   _Listing_Price             166849 non-null  float64\n",
      " 2   Approx_Square_Footage      94114 non-null   object \n",
      " 3   Basement1                  182236 non-null  object \n",
      " 4   Bedrooms                   182236 non-null  int64  \n",
      " 5   Days_On_Market             182235 non-null  float64\n",
      " 6   Exterior1                  181091 non-null  object \n",
      " 7   Garage_Type                154610 non-null  object \n",
      " 8   Rooms                      181305 non-null  float64\n",
      " 9   Street_Name                182092 non-null  object \n",
      " 10  Style                      182236 non-null  object \n",
      " 11  Type                       182236 non-null  object \n",
      " 12  Taxes                      182198 non-null  float64\n",
      " 13  Washrooms                  182236 non-null  int64  \n",
      " 14  Approx_Square_Footage_Min  93662 non-null   float64\n",
      " 15  Approx_Square_Footage_Max  93046 non-null   float64\n",
      " 16  lat                        182218 non-null  float64\n",
      " 17  lng                        182218 non-null  float64\n",
      " 18  Lot_Depth                  180205 non-null  float64\n",
      " 19  Lot_Front                  181731 non-null  float64\n",
      " 20  Lot_Size_Code              170728 non-null  object \n",
      " 21  Postal_Code                182007 non-null  object \n",
      " 22  Sold_Date                  182235 non-null  object \n",
      " 23  Sold_Price                 182234 non-null  float64\n",
      " 24  List_Price                 182236 non-null  float64\n",
      "dtypes: float64(12), int64(2), object(11)\n",
      "memory usage: 34.8+ MB\n"
     ]
    }
   ],
   "source": [
    "df = pd.read_csv(\"/Users/thrilok/Desktop/mantra_collab_job/work_files/latest_broko_code/Dataset/residential_dataset.csv\")\n",
    "df.info(verbose=True,show_counts=True)"
   ]
  },
  {
   "cell_type": "code",
   "execution_count": 3,
   "metadata": {},
   "outputs": [
    {
     "data": {
      "text/plain": [
       "Approx_Square_Footage    88122\n",
       "Bedrooms                     0\n",
       "Days_On_Market               1\n",
       "Garage_Type              27626\n",
       "Rooms                      931\n",
       "Street_Name                144\n",
       "Taxes                       38\n",
       "Washrooms                    0\n",
       "lat                         18\n",
       "lng                         18\n",
       "Lot_Depth                 2031\n",
       "Lot_Front                  505\n",
       "Lot_Size_Code            11508\n",
       "Postal_Code                229\n",
       "Sold_Price                   2\n",
       "List_Price                   0\n",
       "Year                         1\n",
       "Month                        1\n",
       "Day                          1\n",
       "dtype: int64"
      ]
     },
     "execution_count": 3,
     "metadata": {},
     "output_type": "execute_result"
    }
   ],
   "source": [
    "# df['Importance_Days_On_Market'] = pd.cut(\n",
    "#     df['Days_On_Market'],\n",
    "#     bins=[-1, 3, 8, 14, 21, 30, float('inf')],\n",
    "#     labels=[1, 2, 3, 4, 5, 6],\n",
    "#     right=False\n",
    "# )\n",
    "#Sold Date Feature\n",
    "df['Sold_Date'] = pd.to_datetime(df['Sold_Date'])\n",
    "df['Year'] = df['Sold_Date'].dt.year\n",
    "df['Month'] = df['Sold_Date'].dt.month\n",
    "df['Day'] = df['Sold_Date'].dt.day\n",
    "\n",
    "drop_cols = ['ML_Number','Sold_Date', \"Approx_Square_Footage_Min\", \"Approx_Square_Footage_Max\", \"Style\",\"Type\",\"Basement1\", \"Exterior1\", \"_Listing_Price\"]\n",
    "df = df.drop(drop_cols, axis=1)\n",
    "df.isnull().sum()"
   ]
  },
  {
   "cell_type": "code",
   "execution_count": 4,
   "metadata": {},
   "outputs": [],
   "source": [
    "data = df.dropna(axis = 0, how ='any') "
   ]
  },
  {
   "cell_type": "code",
   "execution_count": 5,
   "metadata": {},
   "outputs": [
    {
     "data": {
      "text/plain": [
       "Approx_Square_Footage    0\n",
       "Bedrooms                 0\n",
       "Days_On_Market           0\n",
       "Garage_Type              0\n",
       "Rooms                    0\n",
       "Street_Name              0\n",
       "Taxes                    0\n",
       "Washrooms                0\n",
       "lat                      0\n",
       "lng                      0\n",
       "Lot_Depth                0\n",
       "Lot_Front                0\n",
       "Lot_Size_Code            0\n",
       "Postal_Code              0\n",
       "Sold_Price               0\n",
       "List_Price               0\n",
       "Year                     0\n",
       "Month                    0\n",
       "Day                      0\n",
       "dtype: int64"
      ]
     },
     "execution_count": 5,
     "metadata": {},
     "output_type": "execute_result"
    }
   ],
   "source": [
    "data.isnull().sum()"
   ]
  },
  {
   "cell_type": "code",
   "execution_count": 6,
   "metadata": {},
   "outputs": [],
   "source": [
    "# df.dropna(subset=['_Listing_Price', 'Air_Conditioning', 'Approx_Square_Footage', 'Exterior1', 'Garage_Type', 'Locker' ,'Pets_Permitted', 'Rooms', 'Water_Included', 'Approx_Square_Footage_Min', 'Approx_Square_Footage_Max', 'lat','lng','Postal_Code'], inplace=True)"
   ]
  },
  {
   "cell_type": "code",
   "execution_count": 7,
   "metadata": {},
   "outputs": [],
   "source": [
    "data.to_csv(\"/Users/thrilok/Desktop/mantra_collab_job/work_files/latest_broko_code/Dataset/residential_dataset_rmnull.csv\",index=False)"
   ]
  },
  {
   "cell_type": "code",
   "execution_count": null,
   "metadata": {},
   "outputs": [],
   "source": []
  },
  {
   "cell_type": "code",
   "execution_count": null,
   "metadata": {},
   "outputs": [],
   "source": []
  }
 ],
 "metadata": {
  "kernelspec": {
   "display_name": "broko",
   "language": "python",
   "name": "python3"
  },
  "language_info": {
   "codemirror_mode": {
    "name": "ipython",
    "version": 3
   },
   "file_extension": ".py",
   "mimetype": "text/x-python",
   "name": "python",
   "nbconvert_exporter": "python",
   "pygments_lexer": "ipython3",
   "version": "3.9.15"
  },
  "orig_nbformat": 4
 },
 "nbformat": 4,
 "nbformat_minor": 2
}
